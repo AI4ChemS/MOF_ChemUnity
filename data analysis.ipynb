{
 "cells": [
  {
   "cell_type": "markdown",
   "metadata": {},
   "source": [
    "## Combine all results files into one Pandas DF"
   ]
  },
  {
   "cell_type": "code",
   "execution_count": 86,
   "metadata": {},
   "outputs": [],
   "source": [
    "import pandas as pd\n",
    "import os\n",
    "\n",
    "def combine_csv_files(folder_path):\n",
    "    # List to store DataFrames\n",
    "    dataframes = []\n",
    "    \n",
    "    # Iterate over all files in the folder\n",
    "    for filename in os.listdir(folder_path):\n",
    "        # Check if the file is a .csv\n",
    "        if filename.endswith(\".csv\"):\n",
    "            file_path = os.path.join(folder_path, filename)\n",
    "            \n",
    "            # Read the CSV file into a DataFrame\n",
    "            df = pd.read_csv(file_path)\n",
    "            dataframes.append(df)\n",
    "    \n",
    "    # Combine all DataFrames into a single DataFrame\n",
    "    combined_df = pd.concat(dataframes, ignore_index=True)\n",
    "    return combined_df\n",
    "\n",
    "# Example usage\n",
    "folder_path = \"Results/Matching/unprocessed\"\n",
    "MOF_ChemUnity = combine_csv_files(folder_path)\n"
   ]
  },
  {
   "cell_type": "code",
   "execution_count": 87,
   "metadata": {},
   "outputs": [
    {
     "data": {
      "text/plain": [
       "<bound method Kernel.raw_input of <ipykernel.ipkernel.IPythonKernel object at 0x70d8536b2480>>"
      ]
     },
     "execution_count": 87,
     "metadata": {},
     "output_type": "execute_result"
    }
   ],
   "source": [
    "input"
   ]
  },
  {
   "cell_type": "code",
   "execution_count": 88,
   "metadata": {},
   "outputs": [],
   "source": [
    "## Add publisher column \n",
    "\n",
    "import pandas as pd\n",
    "\n",
    "# Load the combined_dois.csv\n",
    "combined_dois_path = \"Results/Publisher_List.csv\"  # Replace with the actual file path\n",
    "combined_dois = pd.read_csv(combined_dois_path)\n",
    "\n",
    "# Create a dictionary for fast lookup of DOI to Publisher\n",
    "doi_to_publisher = dict(zip(combined_dois[\"DOI\"], combined_dois[\"Publisher\"]))\n",
    "\n",
    "# Initialize a new column for the Publisher in MOF_ChemUnity\n",
    "MOF_ChemUnity[\"Publisher\"] = None\n",
    "\n",
    "# Iterate through MOF_ChemUnity and update the Publisher column\n",
    "for index, row in MOF_ChemUnity.iterrows():\n",
    "    doi = row[\"DOI\"]\n",
    "    if doi in doi_to_publisher:\n",
    "       MOF_ChemUnity.at[index, \"Publisher\"] = doi_to_publisher[doi]\n",
    "    else:\n",
    "        print(f\"DOI not found: {doi}\")\n"
   ]
  },
  {
   "cell_type": "code",
   "execution_count": 89,
   "metadata": {},
   "outputs": [],
   "source": [
    "## Add publisher column \n",
    "\n",
    "import pandas as pd\n",
    "input = pd.read_csv(\"Results/input_data.csv\")\n",
    "publishers = pd.read_csv(\"Results/Publisher_List.csv\")\n",
    "\n",
    "# Create a dictionary for fast lookup of DOI to Publisher\n",
    "doi_to_publisher = dict(zip(publishers[\"DOI\"], publishers[\"Publisher\"]))\n",
    "\n",
    "# Initialize a new column for the Publisher in MOF_ChemUnity\n",
    "input[\"Publisher\"] = None\n",
    "\n",
    "# Iterate through MOF_ChemUnity and update the Publisher column\n",
    "for index, row in input.iterrows():\n",
    "    doi = row[\"DOI\"]\n",
    "    if doi in doi_to_publisher:\n",
    "       input.at[index, \"Publisher\"] = doi_to_publisher[doi]\n",
    "    else:\n",
    "        print(f\"DOI not found: {doi}\")"
   ]
  },
  {
   "cell_type": "code",
   "execution_count": 90,
   "metadata": {},
   "outputs": [
    {
     "name": "stdout",
     "output_type": "stream",
     "text": [
      "DataFrame saved to Results/input_data.csv\n"
     ]
    }
   ],
   "source": [
    "# Save publication_data to a CSV file\n",
    "output_file = \"Results/input_data.csv\"  # Specify the desired output file name\n",
    "input.to_csv(output_file, index=False)\n",
    "\n",
    "print(f\"DataFrame saved to {output_file}\")"
   ]
  },
  {
   "cell_type": "markdown",
   "metadata": {},
   "source": [
    "## Filter Out Incorrectly Formatted MOF Names"
   ]
  },
  {
   "cell_type": "code",
   "execution_count": 91,
   "metadata": {},
   "outputs": [
    {
     "data": {
      "text/html": [
       "<div>\n",
       "<style scoped>\n",
       "    .dataframe tbody tr th:only-of-type {\n",
       "        vertical-align: middle;\n",
       "    }\n",
       "\n",
       "    .dataframe tbody tr th {\n",
       "        vertical-align: top;\n",
       "    }\n",
       "\n",
       "    .dataframe thead th {\n",
       "        text-align: right;\n",
       "    }\n",
       "</style>\n",
       "<table border=\"1\" class=\"dataframe\">\n",
       "  <thead>\n",
       "    <tr style=\"text-align: right;\">\n",
       "      <th></th>\n",
       "      <th>MOF Name</th>\n",
       "      <th>CSD Ref Code</th>\n",
       "      <th>Justification</th>\n",
       "      <th>DOI</th>\n",
       "      <th>Publisher</th>\n",
       "    </tr>\n",
       "  </thead>\n",
       "  <tbody>\n",
       "    <tr>\n",
       "      <th>0</th>\n",
       "      <td>[Eu2(tda)2(H2O)3]·5H2O&lt;|&gt;compound 2</td>\n",
       "      <td>GIFFEI</td>\n",
       "      <td>The MOF [Eu2(tda)2(H2O)3]·5H2O, also referred ...</td>\n",
       "      <td>10.1002/zaac.201200234</td>\n",
       "      <td>Wiley</td>\n",
       "    </tr>\n",
       "    <tr>\n",
       "      <th>1</th>\n",
       "      <td>[Sm2(tda)2(H2O)3]·5H2O&lt;|&gt;compound 1</td>\n",
       "      <td>GIFFAE</td>\n",
       "      <td>The MOF [Sm2(tda)2(H2O)3]·5H2O, also referred ...</td>\n",
       "      <td>10.1002/zaac.201200234</td>\n",
       "      <td>Wiley</td>\n",
       "    </tr>\n",
       "    <tr>\n",
       "      <th>2</th>\n",
       "      <td>{[Ni3(BPTCA)2(H2O)2][Ni(H2O)6]·10H2O}n&lt;|&gt;compl...</td>\n",
       "      <td>KOFVOS</td>\n",
       "      <td>The MOF {[Ni3(BPTCA)2(H2O)2][Ni(H2O)6]·10H2O}n...</td>\n",
       "      <td>10.1002/zaac.201300500</td>\n",
       "      <td>Wiley</td>\n",
       "    </tr>\n",
       "    <tr>\n",
       "      <th>3</th>\n",
       "      <td>[Zn(H2O)(bpy)(Hdml)2]&lt;|&gt;compound 6</td>\n",
       "      <td>GUGWAI</td>\n",
       "      <td>The MOF [Zn(H2O)(bpy)(Hdml)2] matches the CSD ...</td>\n",
       "      <td>10.1002/zaac.201400336</td>\n",
       "      <td>Wiley</td>\n",
       "    </tr>\n",
       "    <tr>\n",
       "      <th>4</th>\n",
       "      <td>[Co3(C14H8O6S)3(DMA)2(MeOH)]·DMA&lt;|&gt;Ia</td>\n",
       "      <td>COWRIR</td>\n",
       "      <td>The MOF [Co3(C14H8O6S)3(DMA)2(MeOH)]·DMA, refe...</td>\n",
       "      <td>10.1002/zaac.201400388</td>\n",
       "      <td>Wiley</td>\n",
       "    </tr>\n",
       "    <tr>\n",
       "      <th>...</th>\n",
       "      <td>...</td>\n",
       "      <td>...</td>\n",
       "      <td>...</td>\n",
       "      <td>...</td>\n",
       "      <td>...</td>\n",
       "    </tr>\n",
       "    <tr>\n",
       "      <th>15649</th>\n",
       "      <td>[Zn(1,3-tzbaa)]n&lt;|&gt;compound 1</td>\n",
       "      <td>ROSKOB</td>\n",
       "      <td>The MOF [Zn(1,3-tzbaa)]n, referred to as compo...</td>\n",
       "      <td>10.1039/C4CE00662C</td>\n",
       "      <td>RSC</td>\n",
       "    </tr>\n",
       "    <tr>\n",
       "      <th>15650</th>\n",
       "      <td>[Zn(1,4-tzbaa)]n&lt;|&gt;compound 2</td>\n",
       "      <td>ROSKIV</td>\n",
       "      <td>The MOF [Zn(1,4-tzbaa)]n, referred to as compo...</td>\n",
       "      <td>10.1039/C4CE00662C</td>\n",
       "      <td>RSC</td>\n",
       "    </tr>\n",
       "    <tr>\n",
       "      <th>15651</th>\n",
       "      <td>{[Co3(TDA)2(bpy)3]·6.75H2O}&lt;|&gt;compound 2</td>\n",
       "      <td>NOBVOR</td>\n",
       "      <td>The MOF {[Co3(TDA)2(bpy)3]·6.75H2O}n, referred...</td>\n",
       "      <td>10.1039/C3QI00045A</td>\n",
       "      <td>RSC</td>\n",
       "    </tr>\n",
       "    <tr>\n",
       "      <th>15652</th>\n",
       "      <td>MMPF-7&lt;|&gt;C48H24N4O8.57In1.29</td>\n",
       "      <td>COKROL</td>\n",
       "      <td>The MOF MMPF-7 is described in the document as...</td>\n",
       "      <td>10.1039/c3ce41090k</td>\n",
       "      <td>RSC</td>\n",
       "    </tr>\n",
       "    <tr>\n",
       "      <th>15653</th>\n",
       "      <td>MMPF-8&lt;|&gt;C72H40N4O10In2</td>\n",
       "      <td>COKRUR</td>\n",
       "      <td>The MOF MMPF-8 is described in the document as...</td>\n",
       "      <td>10.1039/c3ce41090k</td>\n",
       "      <td>RSC</td>\n",
       "    </tr>\n",
       "  </tbody>\n",
       "</table>\n",
       "<p>15654 rows × 5 columns</p>\n",
       "</div>"
      ],
      "text/plain": [
       "                                                MOF Name CSD Ref Code  \\\n",
       "0                    [Eu2(tda)2(H2O)3]·5H2O<|>compound 2       GIFFEI   \n",
       "1                    [Sm2(tda)2(H2O)3]·5H2O<|>compound 1       GIFFAE   \n",
       "2      {[Ni3(BPTCA)2(H2O)2][Ni(H2O)6]·10H2O}n<|>compl...       KOFVOS   \n",
       "3                     [Zn(H2O)(bpy)(Hdml)2]<|>compound 6       GUGWAI   \n",
       "4                  [Co3(C14H8O6S)3(DMA)2(MeOH)]·DMA<|>Ia       COWRIR   \n",
       "...                                                  ...          ...   \n",
       "15649                      [Zn(1,3-tzbaa)]n<|>compound 1       ROSKOB   \n",
       "15650                      [Zn(1,4-tzbaa)]n<|>compound 2       ROSKIV   \n",
       "15651           {[Co3(TDA)2(bpy)3]·6.75H2O}<|>compound 2       NOBVOR   \n",
       "15652                       MMPF-7<|>C48H24N4O8.57In1.29       COKROL   \n",
       "15653                            MMPF-8<|>C72H40N4O10In2       COKRUR   \n",
       "\n",
       "                                           Justification  \\\n",
       "0      The MOF [Eu2(tda)2(H2O)3]·5H2O, also referred ...   \n",
       "1      The MOF [Sm2(tda)2(H2O)3]·5H2O, also referred ...   \n",
       "2      The MOF {[Ni3(BPTCA)2(H2O)2][Ni(H2O)6]·10H2O}n...   \n",
       "3      The MOF [Zn(H2O)(bpy)(Hdml)2] matches the CSD ...   \n",
       "4      The MOF [Co3(C14H8O6S)3(DMA)2(MeOH)]·DMA, refe...   \n",
       "...                                                  ...   \n",
       "15649  The MOF [Zn(1,3-tzbaa)]n, referred to as compo...   \n",
       "15650  The MOF [Zn(1,4-tzbaa)]n, referred to as compo...   \n",
       "15651  The MOF {[Co3(TDA)2(bpy)3]·6.75H2O}n, referred...   \n",
       "15652  The MOF MMPF-7 is described in the document as...   \n",
       "15653  The MOF MMPF-8 is described in the document as...   \n",
       "\n",
       "                          DOI Publisher  \n",
       "0      10.1002/zaac.201200234     Wiley  \n",
       "1      10.1002/zaac.201200234     Wiley  \n",
       "2      10.1002/zaac.201300500     Wiley  \n",
       "3      10.1002/zaac.201400336     Wiley  \n",
       "4      10.1002/zaac.201400388     Wiley  \n",
       "...                       ...       ...  \n",
       "15649      10.1039/C4CE00662C       RSC  \n",
       "15650      10.1039/C4CE00662C       RSC  \n",
       "15651      10.1039/C3QI00045A       RSC  \n",
       "15652      10.1039/c3ce41090k       RSC  \n",
       "15653      10.1039/c3ce41090k       RSC  \n",
       "\n",
       "[15654 rows x 5 columns]"
      ]
     },
     "execution_count": 91,
     "metadata": {},
     "output_type": "execute_result"
    }
   ],
   "source": [
    "MOF_ChemUnity"
   ]
  },
  {
   "cell_type": "code",
   "execution_count": 92,
   "metadata": {},
   "outputs": [
    {
     "data": {
      "text/plain": [
       "CSD Ref Code  \n",
       "not provided      480\n",
       "Not provided       15\n",
       "not applicable      3\n",
       "OBEHIN              2\n",
       "QIRGED              2\n",
       "                 ... \n",
       "HITXUE              1\n",
       "HITYUG              1\n",
       "HIVBIA              1\n",
       "HIVPIO              1\n",
       "LUPVEZ              1\n",
       "Name: count, Length: 15155, dtype: int64"
      ]
     },
     "execution_count": 92,
     "metadata": {},
     "output_type": "execute_result"
    }
   ],
   "source": [
    "MOF_ChemUnity.value_counts(['CSD Ref Code'])"
   ]
  },
  {
   "cell_type": "code",
   "execution_count": 93,
   "metadata": {},
   "outputs": [],
   "source": [
    "MOF_ChemUnity = MOF_ChemUnity[~MOF_ChemUnity[\"CSD Ref Code\"].isin([\"not provided\", \"Not provided\", \"not applicable\"])]"
   ]
  },
  {
   "cell_type": "code",
   "execution_count": 94,
   "metadata": {},
   "outputs": [
    {
     "data": {
      "text/plain": [
       "CSD Ref Code\n",
       "OBEHIN    2\n",
       "QIRGED    2\n",
       "BEPPAP    2\n",
       "OHAPEU    2\n",
       "GIFFEI    1\n",
       "         ..\n",
       "GEDRIS    1\n",
       "SOTWOP    1\n",
       "SOTWUV    1\n",
       "SOTXAC    1\n",
       "COKRUR    1\n",
       "Name: count, Length: 15152, dtype: int64"
      ]
     },
     "execution_count": 94,
     "metadata": {},
     "output_type": "execute_result"
    }
   ],
   "source": [
    "MOF_ChemUnity['CSD Ref Code'].value_counts()"
   ]
  },
  {
   "cell_type": "code",
   "execution_count": 95,
   "metadata": {},
   "outputs": [],
   "source": [
    "# Filter rows where 'CSD Ref Code' is not in all caps (but allows numbers) - any entry that is in lower case indicates an incorrectly data point - as CSD Ref Codes are always in all caps\n",
    "# Keep only rows where 'CSD Ref Code' is all caps or contains numbers\n",
    "MOF_ChemUnity= MOF_ChemUnity[MOF_ChemUnity[\"CSD Ref Code\"].str.match(r\"^[A-Z0-9]+$\", na=False)]"
   ]
  },
  {
   "cell_type": "code",
   "execution_count": 96,
   "metadata": {},
   "outputs": [
    {
     "data": {
      "text/plain": [
       "CSD Ref Code\n",
       "OBEHIN    2\n",
       "QIRGED    2\n",
       "BEPPAP    2\n",
       "OHAPEU    2\n",
       "GIFFEI    1\n",
       "         ..\n",
       "SOTWUV    1\n",
       "SOTXAC    1\n",
       "CEHLAD    1\n",
       "SOWCOY    1\n",
       "COKRUR    1\n",
       "Name: count, Length: 15150, dtype: int64"
      ]
     },
     "execution_count": 96,
     "metadata": {},
     "output_type": "execute_result"
    }
   ],
   "source": [
    "MOF_ChemUnity['CSD Ref Code'].value_counts()\n"
   ]
  },
  {
   "cell_type": "code",
   "execution_count": 97,
   "metadata": {},
   "outputs": [
    {
     "data": {
      "text/html": [
       "<div>\n",
       "<style scoped>\n",
       "    .dataframe tbody tr th:only-of-type {\n",
       "        vertical-align: middle;\n",
       "    }\n",
       "\n",
       "    .dataframe tbody tr th {\n",
       "        vertical-align: top;\n",
       "    }\n",
       "\n",
       "    .dataframe thead th {\n",
       "        text-align: right;\n",
       "    }\n",
       "</style>\n",
       "<table border=\"1\" class=\"dataframe\">\n",
       "  <thead>\n",
       "    <tr style=\"text-align: right;\">\n",
       "      <th></th>\n",
       "      <th>MOF Name</th>\n",
       "      <th>CSD Ref Code</th>\n",
       "      <th>Justification</th>\n",
       "      <th>DOI</th>\n",
       "      <th>Publisher</th>\n",
       "    </tr>\n",
       "  </thead>\n",
       "  <tbody>\n",
       "    <tr>\n",
       "      <th>0</th>\n",
       "      <td>[Eu2(tda)2(H2O)3]·5H2O&lt;|&gt;compound 2</td>\n",
       "      <td>GIFFEI</td>\n",
       "      <td>The MOF [Eu2(tda)2(H2O)3]·5H2O, also referred ...</td>\n",
       "      <td>10.1002/zaac.201200234</td>\n",
       "      <td>Wiley</td>\n",
       "    </tr>\n",
       "    <tr>\n",
       "      <th>1</th>\n",
       "      <td>[Sm2(tda)2(H2O)3]·5H2O&lt;|&gt;compound 1</td>\n",
       "      <td>GIFFAE</td>\n",
       "      <td>The MOF [Sm2(tda)2(H2O)3]·5H2O, also referred ...</td>\n",
       "      <td>10.1002/zaac.201200234</td>\n",
       "      <td>Wiley</td>\n",
       "    </tr>\n",
       "    <tr>\n",
       "      <th>2</th>\n",
       "      <td>{[Ni3(BPTCA)2(H2O)2][Ni(H2O)6]·10H2O}n&lt;|&gt;compl...</td>\n",
       "      <td>KOFVOS</td>\n",
       "      <td>The MOF {[Ni3(BPTCA)2(H2O)2][Ni(H2O)6]·10H2O}n...</td>\n",
       "      <td>10.1002/zaac.201300500</td>\n",
       "      <td>Wiley</td>\n",
       "    </tr>\n",
       "    <tr>\n",
       "      <th>3</th>\n",
       "      <td>[Zn(H2O)(bpy)(Hdml)2]&lt;|&gt;compound 6</td>\n",
       "      <td>GUGWAI</td>\n",
       "      <td>The MOF [Zn(H2O)(bpy)(Hdml)2] matches the CSD ...</td>\n",
       "      <td>10.1002/zaac.201400336</td>\n",
       "      <td>Wiley</td>\n",
       "    </tr>\n",
       "    <tr>\n",
       "      <th>4</th>\n",
       "      <td>[Co3(C14H8O6S)3(DMA)2(MeOH)]·DMA&lt;|&gt;Ia</td>\n",
       "      <td>COWRIR</td>\n",
       "      <td>The MOF [Co3(C14H8O6S)3(DMA)2(MeOH)]·DMA, refe...</td>\n",
       "      <td>10.1002/zaac.201400388</td>\n",
       "      <td>Wiley</td>\n",
       "    </tr>\n",
       "    <tr>\n",
       "      <th>...</th>\n",
       "      <td>...</td>\n",
       "      <td>...</td>\n",
       "      <td>...</td>\n",
       "      <td>...</td>\n",
       "      <td>...</td>\n",
       "    </tr>\n",
       "    <tr>\n",
       "      <th>15649</th>\n",
       "      <td>[Zn(1,3-tzbaa)]n&lt;|&gt;compound 1</td>\n",
       "      <td>ROSKOB</td>\n",
       "      <td>The MOF [Zn(1,3-tzbaa)]n, referred to as compo...</td>\n",
       "      <td>10.1039/C4CE00662C</td>\n",
       "      <td>RSC</td>\n",
       "    </tr>\n",
       "    <tr>\n",
       "      <th>15650</th>\n",
       "      <td>[Zn(1,4-tzbaa)]n&lt;|&gt;compound 2</td>\n",
       "      <td>ROSKIV</td>\n",
       "      <td>The MOF [Zn(1,4-tzbaa)]n, referred to as compo...</td>\n",
       "      <td>10.1039/C4CE00662C</td>\n",
       "      <td>RSC</td>\n",
       "    </tr>\n",
       "    <tr>\n",
       "      <th>15651</th>\n",
       "      <td>{[Co3(TDA)2(bpy)3]·6.75H2O}&lt;|&gt;compound 2</td>\n",
       "      <td>NOBVOR</td>\n",
       "      <td>The MOF {[Co3(TDA)2(bpy)3]·6.75H2O}n, referred...</td>\n",
       "      <td>10.1039/C3QI00045A</td>\n",
       "      <td>RSC</td>\n",
       "    </tr>\n",
       "    <tr>\n",
       "      <th>15652</th>\n",
       "      <td>MMPF-7&lt;|&gt;C48H24N4O8.57In1.29</td>\n",
       "      <td>COKROL</td>\n",
       "      <td>The MOF MMPF-7 is described in the document as...</td>\n",
       "      <td>10.1039/c3ce41090k</td>\n",
       "      <td>RSC</td>\n",
       "    </tr>\n",
       "    <tr>\n",
       "      <th>15653</th>\n",
       "      <td>MMPF-8&lt;|&gt;C72H40N4O10In2</td>\n",
       "      <td>COKRUR</td>\n",
       "      <td>The MOF MMPF-8 is described in the document as...</td>\n",
       "      <td>10.1039/c3ce41090k</td>\n",
       "      <td>RSC</td>\n",
       "    </tr>\n",
       "  </tbody>\n",
       "</table>\n",
       "<p>15154 rows × 5 columns</p>\n",
       "</div>"
      ],
      "text/plain": [
       "                                                MOF Name CSD Ref Code  \\\n",
       "0                    [Eu2(tda)2(H2O)3]·5H2O<|>compound 2       GIFFEI   \n",
       "1                    [Sm2(tda)2(H2O)3]·5H2O<|>compound 1       GIFFAE   \n",
       "2      {[Ni3(BPTCA)2(H2O)2][Ni(H2O)6]·10H2O}n<|>compl...       KOFVOS   \n",
       "3                     [Zn(H2O)(bpy)(Hdml)2]<|>compound 6       GUGWAI   \n",
       "4                  [Co3(C14H8O6S)3(DMA)2(MeOH)]·DMA<|>Ia       COWRIR   \n",
       "...                                                  ...          ...   \n",
       "15649                      [Zn(1,3-tzbaa)]n<|>compound 1       ROSKOB   \n",
       "15650                      [Zn(1,4-tzbaa)]n<|>compound 2       ROSKIV   \n",
       "15651           {[Co3(TDA)2(bpy)3]·6.75H2O}<|>compound 2       NOBVOR   \n",
       "15652                       MMPF-7<|>C48H24N4O8.57In1.29       COKROL   \n",
       "15653                            MMPF-8<|>C72H40N4O10In2       COKRUR   \n",
       "\n",
       "                                           Justification  \\\n",
       "0      The MOF [Eu2(tda)2(H2O)3]·5H2O, also referred ...   \n",
       "1      The MOF [Sm2(tda)2(H2O)3]·5H2O, also referred ...   \n",
       "2      The MOF {[Ni3(BPTCA)2(H2O)2][Ni(H2O)6]·10H2O}n...   \n",
       "3      The MOF [Zn(H2O)(bpy)(Hdml)2] matches the CSD ...   \n",
       "4      The MOF [Co3(C14H8O6S)3(DMA)2(MeOH)]·DMA, refe...   \n",
       "...                                                  ...   \n",
       "15649  The MOF [Zn(1,3-tzbaa)]n, referred to as compo...   \n",
       "15650  The MOF [Zn(1,4-tzbaa)]n, referred to as compo...   \n",
       "15651  The MOF {[Co3(TDA)2(bpy)3]·6.75H2O}n, referred...   \n",
       "15652  The MOF MMPF-7 is described in the document as...   \n",
       "15653  The MOF MMPF-8 is described in the document as...   \n",
       "\n",
       "                          DOI Publisher  \n",
       "0      10.1002/zaac.201200234     Wiley  \n",
       "1      10.1002/zaac.201200234     Wiley  \n",
       "2      10.1002/zaac.201300500     Wiley  \n",
       "3      10.1002/zaac.201400336     Wiley  \n",
       "4      10.1002/zaac.201400388     Wiley  \n",
       "...                       ...       ...  \n",
       "15649      10.1039/C4CE00662C       RSC  \n",
       "15650      10.1039/C4CE00662C       RSC  \n",
       "15651      10.1039/C3QI00045A       RSC  \n",
       "15652      10.1039/c3ce41090k       RSC  \n",
       "15653      10.1039/c3ce41090k       RSC  \n",
       "\n",
       "[15154 rows x 5 columns]"
      ]
     },
     "execution_count": 97,
     "metadata": {},
     "output_type": "execute_result"
    }
   ],
   "source": [
    "MOF_ChemUnity"
   ]
  },
  {
   "cell_type": "code",
   "execution_count": 38,
   "metadata": {},
   "outputs": [],
   "source": [
    "#MOF_ChemUnity.to_csv(\"Results/Matching/Final/MOF_ChemUnity.csv\", index=False)"
   ]
  },
  {
   "cell_type": "code",
   "execution_count": 98,
   "metadata": {},
   "outputs": [
    {
     "data": {
      "text/plain": [
       "15150"
      ]
     },
     "execution_count": 98,
     "metadata": {},
     "output_type": "execute_result"
    }
   ],
   "source": [
    "MOF_ChemUnity['CSD Ref Code'].nunique()"
   ]
  },
  {
   "cell_type": "markdown",
   "metadata": {},
   "source": [
    "## Property Data Analysis"
   ]
  },
  {
   "cell_type": "markdown",
   "metadata": {},
   "source": [
    "### Water Stability"
   ]
  },
  {
   "cell_type": "code",
   "execution_count": 110,
   "metadata": {},
   "outputs": [],
   "source": [
    "MOF_ChemUnity_WS = pd.read_csv(\"Results/Properties/water_stability.csv\")\n"
   ]
  },
  {
   "cell_type": "code",
   "execution_count": 111,
   "metadata": {},
   "outputs": [
    {
     "data": {
      "text/plain": [
       "Value                                         \n",
       "Not provided                                      13425\n",
       "Unstable                                            948\n",
       "Stable                                              730\n",
       "Insoluble                                            28\n",
       "Insoluble in water                                    3\n",
       "0.028                                                 1\n",
       "1.8                                                   1\n",
       "12.8                                                  1\n",
       "29.1(0.3)                                             1\n",
       "Higher water solubility at room temperature           1\n",
       "Insoluble in water and common organic solvents        1\n",
       "Insoluble in water or common organic solvent          1\n",
       "Insoluble in water or common organic solvents         1\n",
       "Partial degradation                                   1\n",
       "Sparingly soluble in water                            1\n",
       "Name: count, dtype: int64"
      ]
     },
     "execution_count": 111,
     "metadata": {},
     "output_type": "execute_result"
    }
   ],
   "source": [
    "MOF_ChemUnity_WS.value_counts(['Value'])"
   ]
  },
  {
   "cell_type": "code",
   "execution_count": 112,
   "metadata": {},
   "outputs": [],
   "source": [
    "# Filter the rows to only contain labelled WS Datapoints\n",
    "MOF_ChemUnity_WS= MOF_ChemUnity_WS[MOF_ChemUnity_WS['Value'].isin(['Unstable', 'Stable', 'Insoluble', 'Insoluble in water', 'Insoluble in water or common organic solvent', 'Insoluble in water or common organic solvents'])]"
   ]
  },
  {
   "cell_type": "code",
   "execution_count": 113,
   "metadata": {},
   "outputs": [],
   "source": [
    "# Define the mapping for stability\n",
    "stability_mapping = {\n",
    "    \"Unstable\": \"Unstable\",\n",
    "    \"Stable\": \"Stable\",\n",
    "    \"Insoluble\": \"Stable\",\n",
    "    \"Insoluble in water\": \"Stable\",\n",
    "    \"Insoluble in water or common organic solvent\": \"Stable\",\n",
    "    \"Insoluble in water or common organic solvents\": \"Stable\"\n",
    "}\n",
    "\n",
    "# Relabel the 'Value' column directly\n",
    "MOF_ChemUnity_WS['Value'] = MOF_ChemUnity_WS['Value'].map(stability_mapping)"
   ]
  },
  {
   "cell_type": "code",
   "execution_count": 114,
   "metadata": {},
   "outputs": [],
   "source": [
    "# Assuming MOF_ChemUnity_WS.value_counts(['Value']) produces a Series\n",
    "value_counts = MOF_ChemUnity_WS.value_counts(['Value'])\n",
    "\n",
    "# Define the mapping for stability\n",
    "stability_mapping = {\n",
    "    \"Unstable\": \"Unstable\",\n",
    "    \"Stable\": \"Stable\",\n",
    "    \"Insoluble\": \"Stable\",\n",
    "    \"Insoluble in water\": \"Stable\",\n",
    "    \"Insoluble in water or common organic solvent\": \"Stable\",\n",
    "    \"Insoluble in water or common organic solvents\": \"Stable\"\n",
    "}"
   ]
  },
  {
   "cell_type": "code",
   "execution_count": 118,
   "metadata": {},
   "outputs": [
    {
     "data": {
      "text/plain": [
       "Value   \n",
       "Unstable    948\n",
       "Stable      763\n",
       "Name: count, dtype: int64"
      ]
     },
     "execution_count": 118,
     "metadata": {},
     "output_type": "execute_result"
    }
   ],
   "source": [
    "MOF_ChemUnity_WS.value_counts(['Value'])"
   ]
  },
  {
   "cell_type": "code",
   "execution_count": 115,
   "metadata": {},
   "outputs": [
    {
     "data": {
      "text/plain": [
       "Property                        \n",
       "Water Stability                     1473\n",
       "Water Stability of the MOF            10\n",
       "(4-carboxylatopyridine)silver(I)       1\n",
       "[(NiL1)2IJTCM)]·17H2O                  1\n",
       "Zn(L)(H2O)2                            1\n",
       "                                    ... \n",
       "Water Stability of CuCN.4CP            1\n",
       "Water Stability of CuCN.PAZ            1\n",
       "Water Stability of DUT-51(Hf)          1\n",
       "Water Stability of IFMC-68             1\n",
       "medi-MOF-1                             1\n",
       "Name: count, Length: 230, dtype: int64"
      ]
     },
     "execution_count": 115,
     "metadata": {},
     "output_type": "execute_result"
    }
   ],
   "source": [
    "MOF_ChemUnity_WS.value_counts(['Property'])"
   ]
  },
  {
   "cell_type": "code",
   "execution_count": 116,
   "metadata": {},
   "outputs": [],
   "source": [
    "# Now that we have to change the \"Property\" label to \"Water Stability\" - this should be fine, as we filtered out irrelevant points based off \"Value\" \n",
    "# Change the value of every row in the 'Property' column to 'Water Stability'\n",
    "MOF_ChemUnity_WS['Property'] = 'Water Stability'"
   ]
  },
  {
   "cell_type": "code",
   "execution_count": 117,
   "metadata": {},
   "outputs": [
    {
     "data": {
      "text/plain": [
       "Value   \n",
       "Unstable    948\n",
       "Stable      763\n",
       "Name: count, dtype: int64"
      ]
     },
     "execution_count": 117,
     "metadata": {},
     "output_type": "execute_result"
    }
   ],
   "source": [
    "MOF_ChemUnity_WS.value_counts(['Value'])"
   ]
  },
  {
   "cell_type": "markdown",
   "metadata": {},
   "source": [
    "### General Extraction"
   ]
  },
  {
   "cell_type": "code",
   "execution_count": 119,
   "metadata": {},
   "outputs": [],
   "source": [
    "MOF_ChemUnity_Gen = pd.read_csv(\"Results/Properties/filtered_properties.csv\")"
   ]
  },
  {
   "cell_type": "code",
   "execution_count": 120,
   "metadata": {},
   "outputs": [
    {
     "data": {
      "text/plain": [
       "12961"
      ]
     },
     "execution_count": 120,
     "metadata": {},
     "output_type": "execute_result"
    }
   ],
   "source": [
    "MOF_ChemUnity_Gen['Ref Code'].nunique()"
   ]
  },
  {
   "cell_type": "code",
   "execution_count": 121,
   "metadata": {},
   "outputs": [
    {
     "data": {
      "text/plain": [
       "Property                     \n",
       "space group                      10296\n",
       "crystal system                    9427\n",
       "cell volume                       5535\n",
       "density                           4862\n",
       "thermal stability                 3957\n",
       "chemical formula                  2635\n",
       "molecular weight                  1745\n",
       "topology                          1109\n",
       "surface area                       967\n",
       "magnetic susceptibility            955\n",
       "pore volume                        402\n",
       "melting point                      252\n",
       "porosity                           229\n",
       "magnetic moment                    180\n",
       "pore diameter                      119\n",
       "proton conductivity                 58\n",
       "elastic constant                    17\n",
       "thermal expansion coefficient       16\n",
       "heat capacity                        2\n",
       "Name: count, dtype: int64"
      ]
     },
     "execution_count": 121,
     "metadata": {},
     "output_type": "execute_result"
    }
   ],
   "source": [
    "MOF_ChemUnity_Gen.value_counts(['Property'])"
   ]
  },
  {
   "cell_type": "code",
   "execution_count": 122,
   "metadata": {},
   "outputs": [],
   "source": [
    "# Define the list of Property values to drop\n",
    "properties_to_drop = [\"space group\", \"crystal system\", \"cell volume\", \"chemical formula\",\"heat capacity\"]\n",
    "\n",
    "# Filter the DataFrame to exclude these rows\n",
    "MOF_ChemUnity_Gen = MOF_ChemUnity_Gen[~MOF_ChemUnity_Gen[\"Property\"].isin(properties_to_drop)]\n"
   ]
  },
  {
   "cell_type": "code",
   "execution_count": 123,
   "metadata": {},
   "outputs": [],
   "source": [
    "# Combine with WaterStability DF\n",
    "MOF_ChemUnity_Props = pd.concat([MOF_ChemUnity_Gen, MOF_ChemUnity_WS], axis=0, ignore_index=True)"
   ]
  },
  {
   "cell_type": "code",
   "execution_count": 124,
   "metadata": {},
   "outputs": [
    {
     "data": {
      "text/plain": [
       "7125"
      ]
     },
     "execution_count": 124,
     "metadata": {},
     "output_type": "execute_result"
    }
   ],
   "source": [
    "MOF_ChemUnity_Props['Reference'].nunique()"
   ]
  },
  {
   "cell_type": "code",
   "execution_count": 125,
   "metadata": {},
   "outputs": [
    {
     "data": {
      "image/png": "[encoded data removed]",
      "text/plain": [
       "<Figure size 1200x800 with 1 Axes>"
      ]
     },
     "metadata": {},
     "output_type": "display_data"
    }
   ],
   "source": [
    "import matplotlib.pyplot as plt\n",
    "import seaborn as sns\n",
    "\n",
    "# Assuming 'MOF_ChemUnity_Props' is your DataFrame\n",
    "property_counts = MOF_ChemUnity_Props['Property'].value_counts()\n",
    "\n",
    "# Set Seaborn style for consistent aesthetics\n",
    "sns.set_theme(style=\"whitegrid\", font_scale=1.2)\n",
    "\n",
    "# Create the plot\n",
    "plt.figure(figsize=(12, 8))\n",
    "ax = property_counts.plot(\n",
    "    kind='bar', \n",
    "    color='#aaccff',  # Consistent blue color\n",
    "    edgecolor='black',  # Add borders to bars for a polished look\n",
    "    width=0.8\n",
    ")\n",
    "\n",
    "# Add title and labels\n",
    "ax.set_xlabel('')  # Remove x-axis label\n",
    "\n",
    "# Customize x-ticks\n",
    "plt.xticks(rotation=45, ha='right', fontsize=11)\n",
    "\n",
    "# Remove gridlines\n",
    "ax.grid(False)\n",
    "\n",
    "# Add a tight layout for proper spacing\n",
    "plt.tight_layout()\n",
    "\n",
    "# Save the figure for publication\n",
    "plt.savefig(\"property_value_counts.png\", dpi=300, bbox_inches='tight')\n",
    "\n",
    "# Show the plot\n",
    "plt.show()\n",
    "\n"
   ]
  },
  {
   "cell_type": "code",
   "execution_count": 128,
   "metadata": {},
   "outputs": [],
   "source": [
    "MOF_ChemUnity_Props.to_csv(\"Results/Properties/MOF_ChemUnity_Props.csv\", index=False)"
   ]
  },
  {
   "cell_type": "markdown",
   "metadata": {},
   "source": [
    "## Applications"
   ]
  },
  {
   "cell_type": "code",
   "execution_count": 143,
   "metadata": {},
   "outputs": [],
   "source": [
    "MOF_ChemUnity_Apps = pd.read_csv(\"Results/Applications/applications.csv\")"
   ]
  },
  {
   "cell_type": "code",
   "execution_count": 144,
   "metadata": {},
   "outputs": [],
   "source": [
    "# Drop specific columns by name\n",
    "columns_to_drop = ['Unnamed: 0.2', 'Unnamed: 0.1', 'Unnamed: 0']  # Replace with actual column names\n",
    "MOF_ChemUnity_Apps = MOF_ChemUnity_Apps.drop(columns=columns_to_drop)"
   ]
  },
  {
   "cell_type": "code",
   "execution_count": 145,
   "metadata": {},
   "outputs": [
    {
     "data": {
      "text/html": [
       "<div>\n",
       "<style scoped>\n",
       "    .dataframe tbody tr th:only-of-type {\n",
       "        vertical-align: middle;\n",
       "    }\n",
       "\n",
       "    .dataframe tbody tr th {\n",
       "        vertical-align: top;\n",
       "    }\n",
       "\n",
       "    .dataframe thead th {\n",
       "        text-align: right;\n",
       "    }\n",
       "</style>\n",
       "<table border=\"1\" class=\"dataframe\">\n",
       "  <thead>\n",
       "    <tr style=\"text-align: right;\">\n",
       "      <th></th>\n",
       "      <th>MOF Name</th>\n",
       "      <th>Ref Code</th>\n",
       "      <th>Application</th>\n",
       "      <th>Recommendation</th>\n",
       "      <th>Justification</th>\n",
       "      <th>Source</th>\n",
       "    </tr>\n",
       "  </thead>\n",
       "  <tbody>\n",
       "    <tr>\n",
       "      <th>0</th>\n",
       "      <td>Cd(L2)(SCN)2&lt;|&gt;compound 10</td>\n",
       "      <td>DUHDOA</td>\n",
       "      <td>Not Provided</td>\n",
       "      <td>Not Provided</td>\n",
       "      <td>Not Provided</td>\n",
       "      <td>10.1021/cg900515j</td>\n",
       "    </tr>\n",
       "    <tr>\n",
       "      <th>1</th>\n",
       "      <td>InEu(BTB)7/3(H2O)2·(DEF)6&lt;|&gt;SMOF-2&lt;|&gt;compound 1</td>\n",
       "      <td>KUNSUJ</td>\n",
       "      <td>Solid-state lighting (SSL) applications that a...</td>\n",
       "      <td>Investigated</td>\n",
       "      <td>Metal–organic frameworks are a class of materi...</td>\n",
       "      <td>10.1021/cm500700z</td>\n",
       "    </tr>\n",
       "    <tr>\n",
       "      <th>2</th>\n",
       "      <td>[AuS2PPh(OC5H9)]2&lt;|&gt;2</td>\n",
       "      <td>OGIJIX</td>\n",
       "      <td>Not Provided</td>\n",
       "      <td>Not Provided</td>\n",
       "      <td>Not Provided</td>\n",
       "      <td>10.1021/ic0201856</td>\n",
       "    </tr>\n",
       "    <tr>\n",
       "      <th>3</th>\n",
       "      <td>[Cd(μ-tp)(μ-bpp)(H2O)]·nnH2O&lt;|&gt;3</td>\n",
       "      <td>WOCKOP</td>\n",
       "      <td>Not Provided</td>\n",
       "      <td>Not Provided</td>\n",
       "      <td>Not Provided</td>\n",
       "      <td>10.1021/cg701232n</td>\n",
       "    </tr>\n",
       "    <tr>\n",
       "      <th>4</th>\n",
       "      <td>[CuBr2(L1)]·nn(MeOH)&lt;|&gt;complex 3</td>\n",
       "      <td>CURYAQ</td>\n",
       "      <td>Not Provided</td>\n",
       "      <td>Not Provided</td>\n",
       "      <td>The documents do not mention any specific appl...</td>\n",
       "      <td>10.1021/cg901327m</td>\n",
       "    </tr>\n",
       "    <tr>\n",
       "      <th>...</th>\n",
       "      <td>...</td>\n",
       "      <td>...</td>\n",
       "      <td>...</td>\n",
       "      <td>...</td>\n",
       "      <td>...</td>\n",
       "      <td>...</td>\n",
       "    </tr>\n",
       "    <tr>\n",
       "      <th>15957</th>\n",
       "      <td>Ln2(BTC)1.5(H2O)(DMSO)&lt;|&gt;compound 2&lt;|&gt;C17H11O1...</td>\n",
       "      <td>AMIWOJ</td>\n",
       "      <td>Not Provided</td>\n",
       "      <td>Not Provided</td>\n",
       "      <td>The document does not provide specific applica...</td>\n",
       "      <td>10.1016/j.molstruc.2010.11.020</td>\n",
       "    </tr>\n",
       "    <tr>\n",
       "      <th>15958</th>\n",
       "      <td>Ln2(BTC)1.5(H2O)(DMSO)&lt;|&gt;compound 3&lt;|&gt;C17H11O1...</td>\n",
       "      <td>AMIWUP</td>\n",
       "      <td>Light-emitting diodes (LEDs) and light applica...</td>\n",
       "      <td>Recommended</td>\n",
       "      <td>Because the excitations now fall in the range ...</td>\n",
       "      <td>10.1016/j.molstruc.2010.11.020</td>\n",
       "    </tr>\n",
       "    <tr>\n",
       "      <th>15959</th>\n",
       "      <td>Ln2(BTC)1.5(H2O)(DMSO)&lt;|&gt;compound 4&lt;|&gt;C17H11O1...</td>\n",
       "      <td>AMIXAW</td>\n",
       "      <td>Not Provided</td>\n",
       "      <td>Not Provided</td>\n",
       "      <td>The document does not provide specific applica...</td>\n",
       "      <td>10.1016/j.molstruc.2010.11.020</td>\n",
       "    </tr>\n",
       "    <tr>\n",
       "      <th>15960</th>\n",
       "      <td>Ln2(BTC)1.5(H2O)(DMSO)&lt;|&gt;compound 5&lt;|&gt;C17H11O1...</td>\n",
       "      <td>AMIXEA</td>\n",
       "      <td>Not Provided</td>\n",
       "      <td>Not Provided</td>\n",
       "      <td>The document does not mention any specific app...</td>\n",
       "      <td>10.1016/j.molstruc.2010.11.020</td>\n",
       "    </tr>\n",
       "    <tr>\n",
       "      <th>15961</th>\n",
       "      <td>{[(CH3)2Sn(S–C2SN2–S)]·0.5C6H6}n&lt;|&gt;complex 5</td>\n",
       "      <td>EBOYOK</td>\n",
       "      <td>Not Provided</td>\n",
       "      <td>Not Provided</td>\n",
       "      <td>The documents do not mention any specific appl...</td>\n",
       "      <td>10.1016/j.jorganchem.2003.09.036</td>\n",
       "    </tr>\n",
       "  </tbody>\n",
       "</table>\n",
       "<p>15962 rows × 6 columns</p>\n",
       "</div>"
      ],
      "text/plain": [
       "                                                MOF Name Ref Code  \\\n",
       "0                             Cd(L2)(SCN)2<|>compound 10   DUHDOA   \n",
       "1        InEu(BTB)7/3(H2O)2·(DEF)6<|>SMOF-2<|>compound 1   KUNSUJ   \n",
       "2                                  [AuS2PPh(OC5H9)]2<|>2   OGIJIX   \n",
       "3                       [Cd(μ-tp)(μ-bpp)(H2O)]·nnH2O<|>3   WOCKOP   \n",
       "4                       [CuBr2(L1)]·nn(MeOH)<|>complex 3   CURYAQ   \n",
       "...                                                  ...      ...   \n",
       "15957  Ln2(BTC)1.5(H2O)(DMSO)<|>compound 2<|>C17H11O1...   AMIWOJ   \n",
       "15958  Ln2(BTC)1.5(H2O)(DMSO)<|>compound 3<|>C17H11O1...   AMIWUP   \n",
       "15959  Ln2(BTC)1.5(H2O)(DMSO)<|>compound 4<|>C17H11O1...   AMIXAW   \n",
       "15960  Ln2(BTC)1.5(H2O)(DMSO)<|>compound 5<|>C17H11O1...   AMIXEA   \n",
       "15961       {[(CH3)2Sn(S–C2SN2–S)]·0.5C6H6}n<|>complex 5   EBOYOK   \n",
       "\n",
       "                                             Application Recommendation  \\\n",
       "0                                           Not Provided   Not Provided   \n",
       "1      Solid-state lighting (SSL) applications that a...   Investigated   \n",
       "2                                           Not Provided   Not Provided   \n",
       "3                                           Not Provided   Not Provided   \n",
       "4                                           Not Provided   Not Provided   \n",
       "...                                                  ...            ...   \n",
       "15957                                       Not Provided   Not Provided   \n",
       "15958  Light-emitting diodes (LEDs) and light applica...    Recommended   \n",
       "15959                                       Not Provided   Not Provided   \n",
       "15960                                       Not Provided   Not Provided   \n",
       "15961                                       Not Provided   Not Provided   \n",
       "\n",
       "                                           Justification  \\\n",
       "0                                           Not Provided   \n",
       "1      Metal–organic frameworks are a class of materi...   \n",
       "2                                           Not Provided   \n",
       "3                                           Not Provided   \n",
       "4      The documents do not mention any specific appl...   \n",
       "...                                                  ...   \n",
       "15957  The document does not provide specific applica...   \n",
       "15958  Because the excitations now fall in the range ...   \n",
       "15959  The document does not provide specific applica...   \n",
       "15960  The document does not mention any specific app...   \n",
       "15961  The documents do not mention any specific appl...   \n",
       "\n",
       "                                 Source  \n",
       "0                     10.1021/cg900515j  \n",
       "1                     10.1021/cm500700z  \n",
       "2                     10.1021/ic0201856  \n",
       "3                     10.1021/cg701232n  \n",
       "4                     10.1021/cg901327m  \n",
       "...                                 ...  \n",
       "15957    10.1016/j.molstruc.2010.11.020  \n",
       "15958    10.1016/j.molstruc.2010.11.020  \n",
       "15959    10.1016/j.molstruc.2010.11.020  \n",
       "15960    10.1016/j.molstruc.2010.11.020  \n",
       "15961  10.1016/j.jorganchem.2003.09.036  \n",
       "\n",
       "[15962 rows x 6 columns]"
      ]
     },
     "execution_count": 145,
     "metadata": {},
     "output_type": "execute_result"
    }
   ],
   "source": [
    "MOF_ChemUnity_Apps"
   ]
  },
  {
   "cell_type": "code",
   "execution_count": 159,
   "metadata": {},
   "outputs": [],
   "source": [
    "application_synonyms = {\n",
    "    \"CO2 Storage\": [\n",
    "        \"CO2 Adsorption\", \"Carbon Capture\", \"CO2 Sequestration\",\n",
    "        \"Carbon Dioxide Capture\", \"Carbon Dioxide Storage\",\n",
    "        \"Carbon Dioxide Adsorption\", \"CO2 Uptake\", \"CO2 Retention\", \"CO2\",\n",
    "        \"CO2 Capture\", \"Carbon Storage\", \"Carbon Sequestration\",\n",
    "        \"Capture of CO2\", \"Storage of Carbon Dioxide\", \"Carbon Adsorption\",\n",
    "        \"Carbon Dioxide Retention\", \"Carbon Dioxide Uptake\",\n",
    "        \"Removing CO2\", \"CO2 Management\", \"CO2 Storage Materials\",\n",
    "        \"Sequestration of Carbon\", \"Retention of Carbon Dioxide\",\n",
    "        \"CO2 Reduction\", \"Carbon Absorption\", \"Capture of Carbon Dioxide\"\n",
    "    ],\n",
    "    \"CH4 Storage\": [\n",
    "        \"Methane Adsorption\", \"CH4 Adsorption\", \"Methane Storage\",\n",
    "        \"CH4 Retention\", \"Methane Sequestration\",\n",
    "        \"Methane Retention\", \"CH4 Storage\", \"Methane Capture\",\n",
    "        \"Capture of Methane\", \"Storage of Methane\", \"CH4 Uptake\",\n",
    "        \"Methane Management\", \"Methane Adsorption Materials\",\n",
    "        \"CH4 Reduction\", \"Methane Sequestration Systems\"\n",
    "    ],\n",
    "    \"H2 Storage\": [\n",
    "        \"Hydrogen Storage\", \"H2 Adsorption\", \"Hydrogen Uptake\",\n",
    "        \"Hydrogen Retention\", \"H2 Sequestration\",\n",
    "        \"H2 Retention\", \"H2 Storage\", \"Hydrogen Capture\",\n",
    "        \"Capture of Hydrogen\", \"Storage of Hydrogen\",\n",
    "        \"Hydrogen Absorption\", \"Hydrogen Retention Systems\",\n",
    "        \"H2 Adsorption Materials\", \"H2 Management\"\n",
    "    ],\n",
    "    \"Gas Separation\": [\n",
    "        \"CO2/N2 Separation\", \"CO2/CH4 Separation\", \"H2/CO2 Separation\",\n",
    "        \"Gas Selectivity\", \"Gas Diffusion\", \"Mixed Gas Separation\",\n",
    "        \"Hydrocarbon Separation\", \"Gas Mixture Separation\",\n",
    "        \"Separation of Gases\", \"Gas Mixture Selectivity\",\n",
    "        \"Gas Adsorption Separation\", \"Gas Partitioning\",\n",
    "        \"Gas Cleaning\", \"Gas Purification\", \"Gas Isolation\",\n",
    "        \"Separation Technology\", \"Selective Gas Permeability\",\n",
    "        \"Gas Filtering\", \"Gas Mixture Filtration\"\n",
    "    ],\n",
    "    \"Catalysis\": [\n",
    "        \"Heterogeneous Catalysis\", \"Photocatalysis\", \"Electrocatalysis\",\n",
    "        \"Catalytic Activity\", \"Catalyst\", \"Enzyme Mimic\",\n",
    "        \"Oxidation Catalysis\", \"Reduction Catalysis\", \"Organic Synthesis Catalysis\",\n",
    "        \"Catalytic Reaction\", \"Catalyst Activity\", \"Catalytic Process\",\n",
    "        \"Catalyst Efficiency\", \"Catalysis Materials\", \"Reaction Catalysis\",\n",
    "        \"Chemical Reaction Catalysis\"\n",
    "    ],\n",
    "    \"Water Purification\": [\n",
    "        \"Water Treatment\", \"Wastewater Filtration\", \"Heavy Metal Removal\",\n",
    "        \"Water Remediation\", \"Water Decontamination\", \"Clean Water Production\",\n",
    "        \"Arsenic Removal\", \"Lead Removal\", \"Fluoride Removal\",\n",
    "        \"Purification of Water\", \"Clean Water Treatment\",\n",
    "        \"Water Filtration\", \"Water Cleaning\", \"Water Detoxification\",\n",
    "        \"Safe Drinking Water\", \"Water Purity\", \"Water Purification Systems\",\n",
    "        \"Filtration of Water\"\n",
    "    ],\n",
    "    \"Pollutant Degradation\": [\n",
    "        \"Pollution Removal\", \"Degradation of Organic Pollutants\",\n",
    "        \"Environmental Remediation\", \"Toxic Compound Degradation\",\n",
    "        \"Organic Pollutant Breakdown\", \"Industrial Waste Degradation\",\n",
    "        \"Pollutant Breakdown\", \"Pollution Degradation\",\n",
    "        \"Organic Degradation\", \"Pollution Detoxification\",\n",
    "        \"Pollutant Remediation\", \"Decomposition of Pollutants\",\n",
    "        \"Toxic Waste Treatment\", \"Pollutant Neutralization\"\n",
    "    ],\n",
    "    \"Drug Delivery\": [\n",
    "        \"Targeted Drug Delivery\", \"Controlled Drug Release\",\n",
    "        \"Therapeutic Delivery\", \"Pharmaceutical Carrier\",\n",
    "        \"Bioactive Compound Delivery\", \"Anticancer Drug Delivery\",\n",
    "        \"Drug Release System\", \"Medication Delivery\",\n",
    "        \"Therapeutic Compound Delivery\", \"Targeted Medication Delivery\",\n",
    "        \"Drug Carrier Systems\", \"Pharmaceutical Delivery Systems\"\n",
    "    ],\n",
    "    \"Photoluminescence\": [\n",
    "        \"Fluorescence\", \"Light Emission\", \"Photonic Properties\",\n",
    "        \"Luminescence\", \"Light Absorption and Emission\", \"Optical Properties\",\n",
    "        \"Emission of Light\", \"Light Absorption\",\n",
    "        \"Photon Emission\", \"Light Scattering\", \"Photoemission\",\n",
    "        \"Photonic Activity\", \"Photoluminescent Materials\"\n",
    "    ],\n",
    "    \"Energy Storage\": [\n",
    "        \"Battery Materials\", \"Supercapacitors\", \"Thermal Energy Storage\",\n",
    "        \"Electrochemical Energy Storage\", \"Energy Retention\",\n",
    "        \"Energy Harvesting\", \"Fuel Cell Materials\",\n",
    "        \"Energy Accumulation\", \"Energy Conservation\",\n",
    "        \"Energy Retention Systems\", \"Energy Storage Materials\",\n",
    "        \"Energy Management\", \"Energy Storage Technology\"\n",
    "    ],\n",
    "    \"Gas Sensing\": [\n",
    "        \"Gas Detection\", \"Gas Sensor Applications\", \"Toxic Gas Monitoring\",\n",
    "        \"Volatile Organic Compound (VOC) Detection\", \"Environmental Sensing\",\n",
    "        \"Industrial Gas Monitoring\", \"CO2 Sensor\", \"NOx Sensor\", \"SOx Sensor\",\n",
    "        \"Detection of Gases\", \"Gas Monitoring\", \"Gas Sensing Applications\",\n",
    "        \"VOC Sensing\", \"Toxic Gas Detection\", \"Gas Analysis\"\n",
    "    ],\n",
    "    \"Membrane Technology\": [\n",
    "        \"Gas Separation Membranes\", \"MOF-Based Membranes\",\n",
    "        \"Water Desalination Membranes\", \"Permeation Membranes\",\n",
    "        \"Selective Permeability Membranes\", \"Membrane Materials\",\n",
    "        \"Gas Permeability Membranes\", \"Filtration Membranes\",\n",
    "        \"Membrane Filtration\", \"Separation Membranes\"\n",
    "    ],\n",
    "    \"Food Preservation\": [\n",
    "        \"Ethylene Gas Adsorption\", \"Food Storage Applications\",\n",
    "        \"Controlled Atmosphere Storage\", \"Freshness Preservation\",\n",
    "        \"Preservation of Food\", \"Food Freshness Maintenance\",\n",
    "        \"Atmospheric Control for Food\", \"Food Shelf-Life Extension\",\n",
    "        \"Food Longevity\", \"Food Quality Preservation\"\n",
    "    ],\n",
    "    \"Cancer Therapy\": [\n",
    "        \"Oncological Applications\", \"Cancer Treatment\",\n",
    "        \"Antitumor Activity\", \"Photodynamic Therapy\", \"Chemodynamic Therapy\",\n",
    "        \"Therapy for Cancer\", \"Anticancer Therapy\",\n",
    "        \"Tumor Treatment\", \"Cancer Therapeutics\",\n",
    "        \"Treatment of Tumors\", \"Cancer Management\"\n",
    "    ],\n",
    "    \"Sensors\": [\n",
    "        \"Chemical Sensors\", \"Biosensors\", \"Optical Sensors\",\n",
    "        \"Electrochemical Sensors\", \"MOF-Based Sensing Applications\",\n",
    "        \"Detection Sensors\", \"Sensor Technology\", \"Analytical Sensors\",\n",
    "        \"Sensing Materials\", \"Sensor Applications\"\n",
    "    ],\n",
    "    \"Heavy Metal Removal\": [\n",
    "        \"Lead Removal\", \"Mercury Removal\", \"Cadmium Removal\",\n",
    "        \"Arsenic Removal\", \"Metal Ion Adsorption\", \"Heavy Metal Detoxification\",\n",
    "        \"Removal of Heavy Metals\", \"Heavy Metal Filtration\",\n",
    "        \"Metal Ion Removal\", \"Detoxification of Metals\",\n",
    "        \"Metal Contamination Removal\"\n",
    "    ],\n",
    "    \"Solar Energy Harvesting\": [\n",
    "        \"Solar Cells\", \"Photovoltaics\", \"Light Absorption\",\n",
    "        \"Solar Energy Conversion\", \"Solar Panel Materials\",\n",
    "        \"Harvesting Solar Energy\", \"Solar Light Conversion\",\n",
    "        \"Solar Energy Materials\", \"Solar Light Absorption\",\n",
    "        \"Solar Energy Systems\"\n",
    "    ],\n",
    "    \"Thermal Energy Storage\": [\n",
    "        \"Heat Retention\", \"Thermal Conductivity Applications\",\n",
    "        \"Heat Storage Materials\", \"Phase-Change Thermal Storage\",\n",
    "        \"Thermal Retention\", \"Thermal Storage Systems\",\n",
    "        \"Storage of Heat\", \"Heat Energy Retention\",\n",
    "        \"Thermal Energy Retention\", \"Heat Absorption Systems\"\n",
    "    ],\n",
    "    \"Self-Healing Materials\": [\n",
    "        \"Self-Repairing Materials\", \"Autonomous Healing Materials\",\n",
    "        \"Structural Repair Materials\", \"Self-Reinforcing MOFs\",\n",
    "        \"Self-Healing Systems\", \"Self-Healing Polymers\",\n",
    "        \"Materials with Self-Repair Capability\", \"Self-Fixing Materials\"\n",
    "    ],\n",
    "    \"Data Storage\": [\n",
    "        \"Data Retention\", \"Information Storage\", \"Memory Storage\",\n",
    "        \"Data Preservation\", \"Digital Storage\", \"Storage Capacity\",\n",
    "        \"Data Archiving\", \"High-Density Storage\", \"Data Storage Systems\",\n",
    "        \"Retention of Information\", \"Digital Data Preservation\",\n",
    "        \"Data Storage Materials\", \"Data Accumulation\"\n",
    "    ]\n",
    "}"
   ]
  },
  {
   "cell_type": "markdown",
   "metadata": {},
   "source": [
    "### SHow the distrubution of the number of MOFs suggested for each application!"
   ]
  },
  {
   "cell_type": "code",
   "execution_count": 166,
   "metadata": {},
   "outputs": [
    {
     "name": "stderr",
     "output_type": "stream",
     "text": [
      "/tmp/ipykernel_422831/1339149316.py:45: SettingWithCopyWarning: \n",
      "A value is trying to be set on a copy of a slice from a DataFrame.\n",
      "Try using .loc[row_indexer,col_indexer] = value instead\n",
      "\n",
      "See the caveats in the documentation: https://pandas.pydata.org/pandas-docs/stable/user_guide/indexing.html#returning-a-view-versus-a-copy\n",
      "  df_filtered['Application'] = df_filtered['Mapped Application']\n"
     ]
    }
   ],
   "source": [
    "from rapidfuzz import fuzz\n",
    "\n",
    "# Flatten the application synonyms dictionary\n",
    "def flatten_synonyms(application_synonyms):\n",
    "    synonym_to_canonical = {}\n",
    "    for canonical, synonyms in application_synonyms.items():\n",
    "        # Add each synonym pointing to the canonical name\n",
    "        for synonym in synonyms:\n",
    "            synonym_to_canonical[synonym] = canonical\n",
    "        # Add the canonical name pointing to itself\n",
    "        synonym_to_canonical[canonical] = canonical\n",
    "    return synonym_to_canonical\n",
    "\n",
    "# Map applications to their canonical names\n",
    "def map_application(application, synonym_to_canonical, threshold):\n",
    "    \"\"\"\n",
    "    Maps a single application to its canonical name using fuzzy matching.\n",
    "    \"\"\"\n",
    "    if isinstance(application, str):  # Ensure the input is a string\n",
    "        best_match, highest_score = None, 0\n",
    "        for synonym in synonym_to_canonical.keys():\n",
    "            score = fuzz.ratio(application, synonym)\n",
    "            if score >= threshold and score > highest_score:\n",
    "                best_match = synonym\n",
    "                highest_score = score\n",
    "        \n",
    "        if best_match:\n",
    "            return synonym_to_canonical[best_match]  # Return the canonical name\n",
    "    return None  # No valid match found\n",
    "\n",
    "# Filter the DataFrame based on mapped applications\n",
    "def filter(df, application_synonyms, threshold=70):\n",
    "    # Flatten the synonyms dictionary\n",
    "    synonym_to_canonical = flatten_synonyms(application_synonyms)\n",
    "    \n",
    "    # Apply fuzzy matching and mapping\n",
    "    df['Mapped Application'] = df['Application'].apply(\n",
    "        lambda app: map_application(app, synonym_to_canonical, threshold)\n",
    "    )\n",
    "    \n",
    "    # Filter rows with no match\n",
    "    df_filtered = df.dropna(subset=['Mapped Application'])\n",
    "    \n",
    "    # Update Application column with canonical names\n",
    "    df_filtered['Application'] = df_filtered['Mapped Application']\n",
    "    df_filtered = df_filtered.drop(columns=['Mapped Application'])\n",
    "    return df_filtered\n",
    "\n",
    "# Apply the function\n",
    "MOF_ChemUnity_Apps_Fil = filter(MOF_ChemUnity_Apps, application_synonyms)\n"
   ]
  },
  {
   "cell_type": "code",
   "execution_count": 168,
   "metadata": {},
   "outputs": [],
   "source": [
    "MOF_ChemUnity_Apps_Fil.to_csv(\"Results/Applications/Final/Max Filter/MOF_ChemUnity_Apps_70.csv\", index=False)"
   ]
  },
  {
   "cell_type": "code",
   "execution_count": 167,
   "metadata": {},
   "outputs": [
    {
     "data": {
      "text/html": [
       "<div>\n",
       "<style scoped>\n",
       "    .dataframe tbody tr th:only-of-type {\n",
       "        vertical-align: middle;\n",
       "    }\n",
       "\n",
       "    .dataframe tbody tr th {\n",
       "        vertical-align: top;\n",
       "    }\n",
       "\n",
       "    .dataframe thead th {\n",
       "        text-align: right;\n",
       "    }\n",
       "</style>\n",
       "<table border=\"1\" class=\"dataframe\">\n",
       "  <thead>\n",
       "    <tr style=\"text-align: right;\">\n",
       "      <th></th>\n",
       "      <th>MOF Name</th>\n",
       "      <th>Ref Code</th>\n",
       "      <th>Application</th>\n",
       "      <th>Recommendation</th>\n",
       "      <th>Justification</th>\n",
       "      <th>Source</th>\n",
       "    </tr>\n",
       "  </thead>\n",
       "  <tbody>\n",
       "    <tr>\n",
       "      <th>25</th>\n",
       "      <td>[Zn(μ-adipate)(μ-bpa)]·H2O&lt;|&gt;compound 5</td>\n",
       "      <td>VIXVUV</td>\n",
       "      <td>CO2 Storage</td>\n",
       "      <td>Recommended</td>\n",
       "      <td>The choice of the flexible adipate ligand for ...</td>\n",
       "      <td>10.1021/cg4009703</td>\n",
       "    </tr>\n",
       "    <tr>\n",
       "      <th>28</th>\n",
       "      <td>[NH2(CH3)2][Yb(MDIP)(H2O)]·0.5NH(CH3)2&lt;|&gt;compo...</td>\n",
       "      <td>RAVFIF</td>\n",
       "      <td>Photoluminescence</td>\n",
       "      <td>Investigated</td>\n",
       "      <td>Luminescence studies demonstrated that the sem...</td>\n",
       "      <td>10.1021/cg201283a</td>\n",
       "    </tr>\n",
       "    <tr>\n",
       "      <th>29</th>\n",
       "      <td>[NH2(CH3)2][Tm(MDIP)(H2O)]·0.5NH(CH3)2&lt;|&gt;compo...</td>\n",
       "      <td>RAVFEB</td>\n",
       "      <td>Photoluminescence</td>\n",
       "      <td>Investigated</td>\n",
       "      <td>All the reported compounds display good perfor...</td>\n",
       "      <td>10.1021/cg201283a</td>\n",
       "    </tr>\n",
       "    <tr>\n",
       "      <th>30</th>\n",
       "      <td>[NH2(CH3)2][Eu(MDIP)(H2O)]&lt;|&gt;compound 4</td>\n",
       "      <td>RAVDEZ</td>\n",
       "      <td>Photoluminescence</td>\n",
       "      <td>Investigated</td>\n",
       "      <td>All the reported compounds display good perfor...</td>\n",
       "      <td>10.1021/cg201283a</td>\n",
       "    </tr>\n",
       "    <tr>\n",
       "      <th>31</th>\n",
       "      <td>[NH2(CH3)2][Tb(MDIP)(H2O)]&lt;|&gt;compound 6</td>\n",
       "      <td>RAVDOJ</td>\n",
       "      <td>Photoluminescence</td>\n",
       "      <td>Investigated</td>\n",
       "      <td>Luminescence studies demonstrated that the sem...</td>\n",
       "      <td>10.1021/cg201283a</td>\n",
       "    </tr>\n",
       "    <tr>\n",
       "      <th>...</th>\n",
       "      <td>...</td>\n",
       "      <td>...</td>\n",
       "      <td>...</td>\n",
       "      <td>...</td>\n",
       "      <td>...</td>\n",
       "      <td>...</td>\n",
       "    </tr>\n",
       "    <tr>\n",
       "      <th>15867</th>\n",
       "      <td>[SnMe3(μ-DMP-κO:κO′)]∞&lt;|&gt;5</td>\n",
       "      <td>IXEFAT</td>\n",
       "      <td>Cancer Therapy</td>\n",
       "      <td>Investigated</td>\n",
       "      <td>The cytotoxic activity of 1–6 was tested again...</td>\n",
       "      <td>10.1016/j.jorganchem.2011.06.036</td>\n",
       "    </tr>\n",
       "    <tr>\n",
       "      <th>15900</th>\n",
       "      <td>2∞{[Zn(C8H3NO6)·(C10H8N2)1/2·(H2O)2]·(H2O)}&lt;|&gt;...</td>\n",
       "      <td>IJUXUG01</td>\n",
       "      <td>H2 Storage</td>\n",
       "      <td>Investigated</td>\n",
       "      <td>In order to study the cavities, the hydrogen-s...</td>\n",
       "      <td>10.1016/j.molstruc.2004.01.007</td>\n",
       "    </tr>\n",
       "    <tr>\n",
       "      <th>15901</th>\n",
       "      <td>2∞[Zn(C8H3NO6)·H2O]&lt;|&gt;coordination polymer (2)...</td>\n",
       "      <td>AWIZIP</td>\n",
       "      <td>Energy Storage</td>\n",
       "      <td>Investigated</td>\n",
       "      <td>The coordination polymer with porous or caviti...</td>\n",
       "      <td>10.1016/j.molstruc.2004.01.007</td>\n",
       "    </tr>\n",
       "    <tr>\n",
       "      <th>15907</th>\n",
       "      <td>[Cd(bzgluO)(2,4′-bipy)2(H2O)·3H2O]n&lt;|&gt;compound 2</td>\n",
       "      <td>HUTKEO</td>\n",
       "      <td>Photoluminescence</td>\n",
       "      <td>Investigated</td>\n",
       "      <td>Luminescent measurements reveal that the assis...</td>\n",
       "      <td>10.1016/j.jssc.2015.11.010</td>\n",
       "    </tr>\n",
       "    <tr>\n",
       "      <th>15908</th>\n",
       "      <td>[Cd(bzgluO)(4,4′-bipy)(H2O)]n&lt;|&gt;compound 4</td>\n",
       "      <td>HUTKIS</td>\n",
       "      <td>Photoluminescence</td>\n",
       "      <td>Investigated</td>\n",
       "      <td>Luminescent measurements reveal that the assis...</td>\n",
       "      <td>10.1016/j.jssc.2015.11.010</td>\n",
       "    </tr>\n",
       "  </tbody>\n",
       "</table>\n",
       "<p>2007 rows × 6 columns</p>\n",
       "</div>"
      ],
      "text/plain": [
       "                                                MOF Name  Ref Code  \\\n",
       "25               [Zn(μ-adipate)(μ-bpa)]·H2O<|>compound 5    VIXVUV   \n",
       "28     [NH2(CH3)2][Yb(MDIP)(H2O)]·0.5NH(CH3)2<|>compo...    RAVFIF   \n",
       "29     [NH2(CH3)2][Tm(MDIP)(H2O)]·0.5NH(CH3)2<|>compo...    RAVFEB   \n",
       "30               [NH2(CH3)2][Eu(MDIP)(H2O)]<|>compound 4    RAVDEZ   \n",
       "31               [NH2(CH3)2][Tb(MDIP)(H2O)]<|>compound 6    RAVDOJ   \n",
       "...                                                  ...       ...   \n",
       "15867                         [SnMe3(μ-DMP-κO:κO′)]∞<|>5    IXEFAT   \n",
       "15900  2∞{[Zn(C8H3NO6)·(C10H8N2)1/2·(H2O)2]·(H2O)}<|>...  IJUXUG01   \n",
       "15901  2∞[Zn(C8H3NO6)·H2O]<|>coordination polymer (2)...    AWIZIP   \n",
       "15907   [Cd(bzgluO)(2,4′-bipy)2(H2O)·3H2O]n<|>compound 2    HUTKEO   \n",
       "15908         [Cd(bzgluO)(4,4′-bipy)(H2O)]n<|>compound 4    HUTKIS   \n",
       "\n",
       "             Application Recommendation  \\\n",
       "25           CO2 Storage    Recommended   \n",
       "28     Photoluminescence   Investigated   \n",
       "29     Photoluminescence   Investigated   \n",
       "30     Photoluminescence   Investigated   \n",
       "31     Photoluminescence   Investigated   \n",
       "...                  ...            ...   \n",
       "15867     Cancer Therapy   Investigated   \n",
       "15900         H2 Storage   Investigated   \n",
       "15901     Energy Storage   Investigated   \n",
       "15907  Photoluminescence   Investigated   \n",
       "15908  Photoluminescence   Investigated   \n",
       "\n",
       "                                           Justification  \\\n",
       "25     The choice of the flexible adipate ligand for ...   \n",
       "28     Luminescence studies demonstrated that the sem...   \n",
       "29     All the reported compounds display good perfor...   \n",
       "30     All the reported compounds display good perfor...   \n",
       "31     Luminescence studies demonstrated that the sem...   \n",
       "...                                                  ...   \n",
       "15867  The cytotoxic activity of 1–6 was tested again...   \n",
       "15900  In order to study the cavities, the hydrogen-s...   \n",
       "15901  The coordination polymer with porous or caviti...   \n",
       "15907  Luminescent measurements reveal that the assis...   \n",
       "15908  Luminescent measurements reveal that the assis...   \n",
       "\n",
       "                                 Source  \n",
       "25                    10.1021/cg4009703  \n",
       "28                    10.1021/cg201283a  \n",
       "29                    10.1021/cg201283a  \n",
       "30                    10.1021/cg201283a  \n",
       "31                    10.1021/cg201283a  \n",
       "...                                 ...  \n",
       "15867  10.1016/j.jorganchem.2011.06.036  \n",
       "15900    10.1016/j.molstruc.2004.01.007  \n",
       "15901    10.1016/j.molstruc.2004.01.007  \n",
       "15907        10.1016/j.jssc.2015.11.010  \n",
       "15908        10.1016/j.jssc.2015.11.010  \n",
       "\n",
       "[2007 rows x 6 columns]"
      ]
     },
     "execution_count": 167,
     "metadata": {},
     "output_type": "execute_result"
    }
   ],
   "source": [
    "MOF_ChemUnity_Apps_Fil"
   ]
  },
  {
   "cell_type": "code",
   "execution_count": null,
   "metadata": {},
   "outputs": [],
   "source": []
  },
  {
   "cell_type": "markdown",
   "metadata": {},
   "source": [
    "# Make sure to include mofs where no properties were found as well!"
   ]
  },
  {
   "cell_type": "markdown",
   "metadata": {},
   "source": [
    "append these to the final .csv file!!!"
   ]
  },
  {
   "cell_type": "markdown",
   "metadata": {},
   "source": []
  },
  {
   "cell_type": "markdown",
   "metadata": {},
   "source": [
    "## Preparing Computational Data"
   ]
  },
  {
   "cell_type": "markdown",
   "metadata": {},
   "source": [
    "We have our list of all MOFs found in CSd+CoRe (around 20 000) that Sartaaj has calculated descriptors for. We need to filter out all the ones that are not contained in MOF ChemUnity (ie ones that we could not match names too)\n",
    "\n",
    "We have around 15 000 MOFs with matched names (this is the size of our database)"
   ]
  },
  {
   "cell_type": "code",
   "execution_count": 30,
   "metadata": {},
   "outputs": [],
   "source": [
    "import pandas as pd\n",
    "\n",
    "# Load the CSV files\n",
    "csd_info_desc = pd.read_csv('CSD_Info_desc.csv')\n",
    "mof_chem_unity = pd.read_csv('Results/Matching/Final/MOF_ChemUnity.csv')\n",
    "\n",
    "# Filter rows where \"CSD code\" in csd_info_desc matches \"CSD Ref Code\" in MOF_ChemUnity\n",
    "filtered_csd_info_desc = csd_info_desc[csd_info_desc['CSD code'].isin(mof_chem_unity['CSD Ref Code'])]\n",
    "\n",
    "# Save the filtered DataFrame to a new CSV file\n",
    "filtered_csd_info_desc.to_csv('Results/Properties/Computational/MOF_ChemUnity_desc.csv', index=False)\n",
    "\n"
   ]
  },
  {
   "cell_type": "markdown",
   "metadata": {},
   "source": [
    "## Figure Preparation"
   ]
  },
  {
   "cell_type": "markdown",
   "metadata": {},
   "source": []
  },
  {
   "cell_type": "code",
   "execution_count": 88,
   "metadata": {},
   "outputs": [
    {
     "data": {
      "image/png": "[encoded data removed]",
      "text/plain": [
       "<Figure size 1200x800 with 1 Axes>"
      ]
     },
     "metadata": {},
     "output_type": "display_data"
    }
   ],
   "source": [
    "import pandas as pd\n",
    "import matplotlib.pyplot as plt\n",
    "import seaborn as sns\n",
    "\n",
    "# Load the CSV files into DataFrames\n",
    "input_data = pd.read_csv('Results/input_data.csv')\n",
    "mof_chem_unity = pd.read_csv('Results/Matching/Final/MOF_ChemUnity.csv')\n",
    "\n",
    "# Identify matched and unmatched CSD Codes\n",
    "matched_codes = input_data[input_data['CSD code'].isin(mof_chem_unity['CSD Ref Code'])]\n",
    "unmatched_codes = input_data[~input_data['CSD code'].isin(mof_chem_unity['CSD Ref Code'])]\n",
    "\n",
    "# Group by Publisher and count CSD Codes\n",
    "matched_counts = matched_codes.groupby('Publisher')['CSD code'].count()\n",
    "unmatched_counts = unmatched_codes.groupby('Publisher')['CSD code'].count()\n",
    "\n",
    "# Align the indices to make sure both have the same publishers\n",
    "all_publishers = matched_counts.index.union(unmatched_counts.index)\n",
    "matched_counts = matched_counts.reindex(all_publishers, fill_value=0)\n",
    "unmatched_counts = unmatched_counts.reindex(all_publishers, fill_value=0)\n",
    "\n",
    "# Set Seaborn style\n",
    "sns.set_theme(style=\"whitegrid\", font_scale=1.2)\n",
    "\n",
    "# Create the plot\n",
    "plt.figure(figsize=(12, 8))\n",
    "bar_width = 0.5\n",
    "x_positions = range(len(all_publishers))\n",
    "\n",
    "plt.bar(\n",
    "    x_positions, matched_counts, bar_width, \n",
    "    label='Matched CSD Entries', color='#aaccff'\n",
    ")\n",
    "plt.bar(\n",
    "    x_positions, unmatched_counts, bar_width, \n",
    "    bottom=matched_counts, label='Unmatched CSD Entries', color='#d7f4d7'\n",
    ")\n",
    "\n",
    "# Customize plot\n",
    "plt.xlabel(\"Publisher\", fontsize=16, labelpad=12)\n",
    "plt.ylabel(\"Number of MOFs\", fontsize=16, labelpad=12)\n",
    "plt.xticks(x_positions, all_publishers, rotation=45, ha='right', fontsize=14)\n",
    "plt.yticks(fontsize=14)\n",
    "plt.legend(title_fontsize=16, fontsize=14)\n",
    "\n",
    "# Remove grid lines\n",
    "plt.grid(False)\n",
    "\n",
    "# Save the plot as an image for publications\n",
    "plt.tight_layout()\n",
    "plt.savefig(\"stacked_matched_vs_unmatched_csd_codes.png\", dpi=300, bbox_inches='tight')\n",
    "\n",
    "# Display the plot\n",
    "plt.show()\n",
    "\n"
   ]
  },
  {
   "cell_type": "code",
   "execution_count": null,
   "metadata": {},
   "outputs": [],
   "source": []
  }
 ],
 "metadata": {
  "kernelspec": {
   "display_name": "llms",
   "language": "python",
   "name": "python3"
  },
  "language_info": {
   "codemirror_mode": {
    "name": "ipython",
    "version": 3
   },
   "file_extension": ".py",
   "mimetype": "text/x-python",
   "name": "python",
   "nbconvert_exporter": "python",
   "pygments_lexer": "ipython3",
   "version": "3.12.5"
  }
 },
 "nbformat": 4,
 "nbformat_minor": 2
}
