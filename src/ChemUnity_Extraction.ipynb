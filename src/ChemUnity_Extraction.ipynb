{
 "cells": [
  {
   "cell_type": "markdown",
   "metadata": {},
   "source": [
    "## <b>MOF ChemUnity Property Extraction</b>\n",
    "\n",
    "This notebook is a demonstration on how the property extraction workflow in MOF-ChemUnity is done. Prior to running this, the MOF names that are extracted from the Matching Workflow are required, so we advise the user to run ``ChemUnity_Matching.ipynb`` first to retrieve these. Furthermore, the vector stores generated from the Matching Workflow can be re-used here - there is no need to read .pdf, .xml or convert files to .md."
   ]
  },
  {
   "cell_type": "code",
   "execution_count": 1,
   "metadata": {},
   "outputs": [],
   "source": [
    "import pandas as pd\n",
    "import glob\n",
    "import os\n",
    "from langchain_openai import ChatOpenAI\n",
    "from langchain.callbacks import get_openai_callback\n",
    "\n",
    "from MOF_ChemUnity.Agents.ExtractionAgent import ExtractionAgent\n",
    "from MOF_ChemUnity.utils.DocProcessor import DocProcessor\n",
    "from MOF_ChemUnity.Prompts.Extraction_Prompts import VERIFICATION, RECHECK, EXTRACTION\n",
    "from MOF_ChemUnity.Prompts.Water_Stability_Prompts import WATER_STABILITY, RULES_WATER_STABILITY, VERF_RULES_WATER_STABILITY, WATER_STABILITY_RE\n",
    "from MOF_ChemUnity.Agents.BaseAgent import BaseAgent\n",
    "from openai import RateLimitError\n",
    "from MOF_ChemUnity.utils.DataModels import ListApplications\n",
    "from MOF_ChemUnity.Prompts.Extraction_Prompts import APPLICATION"
   ]
  },
  {
   "cell_type": "markdown",
   "metadata": {},
   "source": [
    "<b>Preparation of MOF Names from Matching CSV</b>"
   ]
  },
  {
   "cell_type": "markdown",
   "metadata": {},
   "source": [
    "Please refer to ```ChemUnity_Matching.ipynb``` to get a matching .csv file (set this as ```mof_names_df```), which manages to map MOF name to the reference code (alongside their respective DOI). These are needed to run the rest of the demonstration. Furthermore, please use your own OpenAI API key. For reference, the following cell has been constructed for preparation of extraction process."
   ]
  },
  {
   "cell_type": "code",
   "execution_count": 3,
   "metadata": {},
   "outputs": [
    {
     "data": {
      "text/html": [
       "<div>\n",
       "<style scoped>\n",
       "    .dataframe tbody tr th:only-of-type {\n",
       "        vertical-align: middle;\n",
       "    }\n",
       "\n",
       "    .dataframe tbody tr th {\n",
       "        vertical-align: top;\n",
       "    }\n",
       "\n",
       "    .dataframe thead th {\n",
       "        text-align: right;\n",
       "    }\n",
       "</style>\n",
       "<table border=\"1\" class=\"dataframe\">\n",
       "  <thead>\n",
       "    <tr style=\"text-align: right;\">\n",
       "      <th></th>\n",
       "      <th>MOF Name</th>\n",
       "      <th>CSD Ref Code</th>\n",
       "      <th>Justification</th>\n",
       "      <th>DOI</th>\n",
       "    </tr>\n",
       "  </thead>\n",
       "  <tbody>\n",
       "    <tr>\n",
       "      <th>0</th>\n",
       "      <td>[HN(CH2CH2)3NH]3[Fe8(HPO4)12(PO4)2(H2O)6]&lt;|&gt;co...</td>\n",
       "      <td>NAVCAO</td>\n",
       "      <td>The compound [HN(CH2CH2)3NH]3[Fe8(HPO4)12(PO4)...</td>\n",
       "      <td>10.1039/a700472i</td>\n",
       "    </tr>\n",
       "    <tr>\n",
       "      <th>1</th>\n",
       "      <td>[Ag(CM-TTF)(CF3SO3)]&lt;|&gt;complex 2</td>\n",
       "      <td>FEKDAA</td>\n",
       "      <td>The compound [Ag(CM-TTF)(CF3SO3)] is described...</td>\n",
       "      <td>10.1039/a804945i</td>\n",
       "    </tr>\n",
       "    <tr>\n",
       "      <th>2</th>\n",
       "      <td>C9H12CaO10&lt;|&gt;calcium trimesate synthesized by ...</td>\n",
       "      <td>OWZEW01</td>\n",
       "      <td>The MOF C9H12CaO10 matches the CSD Ref Code OW...</td>\n",
       "      <td>10.1016/j.molstruc.2017.11.128</td>\n",
       "    </tr>\n",
       "    <tr>\n",
       "      <th>3</th>\n",
       "      <td>C23.5H28.5EuN2.5O10.5&lt;|&gt;complex 2</td>\n",
       "      <td>CIJBEF</td>\n",
       "      <td>The MOF with the empirical formula C23.5H28.5E...</td>\n",
       "      <td>10.1021/acs.analchem.8b00494</td>\n",
       "    </tr>\n",
       "    <tr>\n",
       "      <th>4</th>\n",
       "      <td>C23.5H28.5TbN2.5O10.5&lt;|&gt;complex 3</td>\n",
       "      <td>CIJBIJ</td>\n",
       "      <td>The MOF with the empirical formula C23.5H28.5T...</td>\n",
       "      <td>10.1021/acs.analchem.8b00494</td>\n",
       "    </tr>\n",
       "  </tbody>\n",
       "</table>\n",
       "</div>"
      ],
      "text/plain": [
       "                                            MOF Name CSD Ref Code  \\\n",
       "0  [HN(CH2CH2)3NH]3[Fe8(HPO4)12(PO4)2(H2O)6]<|>co...       NAVCAO   \n",
       "1                   [Ag(CM-TTF)(CF3SO3)]<|>complex 2       FEKDAA   \n",
       "2  C9H12CaO10<|>calcium trimesate synthesized by ...      OWZEW01   \n",
       "3                  C23.5H28.5EuN2.5O10.5<|>complex 2       CIJBEF   \n",
       "4                  C23.5H28.5TbN2.5O10.5<|>complex 3       CIJBIJ   \n",
       "\n",
       "                                       Justification  \\\n",
       "0  The compound [HN(CH2CH2)3NH]3[Fe8(HPO4)12(PO4)...   \n",
       "1  The compound [Ag(CM-TTF)(CF3SO3)] is described...   \n",
       "2  The MOF C9H12CaO10 matches the CSD Ref Code OW...   \n",
       "3  The MOF with the empirical formula C23.5H28.5E...   \n",
       "4  The MOF with the empirical formula C23.5H28.5T...   \n",
       "\n",
       "                              DOI  \n",
       "0                10.1039/a700472i  \n",
       "1                10.1039/a804945i  \n",
       "2  10.1016/j.molstruc.2017.11.128  \n",
       "3    10.1021/acs.analchem.8b00494  \n",
       "4    10.1021/acs.analchem.8b00494  "
      ]
     },
     "execution_count": 3,
     "metadata": {},
     "output_type": "execute_result"
    }
   ],
   "source": [
    "# If you haven't already, set your OpenAI API key as an environment variable\n",
    "#os.environ[\"OPENAI_API_KEY\"] = 'YOUR_API_KEY'\n",
    "\n",
    "llm = ChatOpenAI(model=\"gpt-4o\", temperature=0.1)\n",
    "parser_llm = ChatOpenAI(model=\"gpt-4o-mini\", temperature=0)\n",
    "\n",
    "# mof_names_df is directly from matching\n",
    "mof_names_df = pd.read_csv(\"Examples/KG_Data/matching.csv\")\n",
    "mof_names_df.head()"
   ]
  },
  {
   "cell_type": "markdown",
   "metadata": {},
   "source": [
    "<b>Markdown files setup</b>\n",
    "\n",
    "For this example, we will use the markdown example explored in the matching notebook. Please follow these steps:\n",
    "- Point the input_folder to the vector store folder \"vs\" that was created during the matching\n",
    "- Initialize your extraction results dictionary (shown as ```result```, ```filtered_result```, ```ws_result```) as follows.\n",
    "- Load the prompts needed for water stability extraction, etc."
   ]
  },
  {
   "cell_type": "code",
   "execution_count": 3,
   "metadata": {},
   "outputs": [],
   "source": [
    "## step 1: point input_folder to vector store folder\n",
    "input_folder = \"Examples/MD/vs\"\n",
    "files = glob.glob(input_folder+\"/*/\")\n",
    "\n",
    "## step 2: initialize extraction results dictionary\n",
    "result, filtered_result, ws_result = {}, {}, {}\n",
    "keys_of_interest = [\"MOF Name\", \"Ref Code\", \"Property\", \"Value\", \"Units\", \"Condition\", \"Summary\", \"Reference\"]\n",
    "\n",
    "for key in keys_of_interest:\n",
    "    result[key] = []\n",
    "    filtered_result[key] = []\n",
    "    ws_result[key] = []\n",
    "\n",
    "## step 3: load the prompts for extraction and construct agent object\n",
    "WS_READ = WATER_STABILITY.replace(\"{RULES}\", RULES_WATER_STABILITY)\n",
    "WS_CHECK = VERIFICATION.replace(\"{VERF_RULES}\", VERF_RULES_WATER_STABILITY)\n",
    "WS_RECHECK = RECHECK.replace(\"{RECHECK_INSTRUCTIONS}\", WATER_STABILITY_RE.replace(\"{RULES}\", RULES_WATER_STABILITY))\n",
    "\n",
    "sp_dict = {\"read_prompts\": [WS_READ], \"verification_prompts\": [WS_CHECK], \"recheck_prompts\": [WS_RECHECK]}\n",
    "agent = ExtractionAgent(llm=llm)"
   ]
  },
  {
   "cell_type": "markdown",
   "metadata": {},
   "source": [
    "<b>Running the Extraction Loop for General Property Extraction + CoV</b>\n",
    "\n",
    "From running the following cell, general property extraction and CoV is performed to extract details such as the crystal system, chemical formula, space group, surface area, water stability label (if it is mentioned in the literature for that particular MOF), etc. These results are stored in: ```all_props```, ```filtered``` and ```ws``` DataFrames for future reference (saved in a separate folder)."
   ]
  },
  {
   "cell_type": "code",
   "execution_count": 4,
   "metadata": {},
   "outputs": [
    {
     "name": "stdout",
     "output_type": "stream",
     "text": [
      "Action: reading the document\n",
      "finding all properties of name 1: C9H12CaO10 ---name 2: calcium trimesate synthesized by one-pot self-assembly reaction\n",
      "Error code: 401 - {'error': {'message': 'Incorrect API key provided: YOUR_API_KEY. You can find your API key at https://platform.openai.com/account/api-keys.', 'type': 'invalid_request_error', 'param': None, 'code': 'invalid_api_key'}}\n"
     ]
    }
   ],
   "source": [
    "try:\n",
    "    for i in range(len(mof_names_df)):\n",
    "\n",
    "        mof = mof_names_df.iloc[i][\"MOF Name\"]\n",
    "        refcode = mof_names_df.iloc[i][\"CSD Ref Code\"]\n",
    "        reference = mof_names_df.iloc[i][\"DOI\"]\n",
    "\n",
    "        if len(refcode) > 8:\n",
    "            continue\n",
    "        if refcode.lower() == \"not provided\":\n",
    "            continue        \n",
    "        \n",
    "        response = agent.agent_response(mof, reference.replace(\"/\",\"_\")+\".md\",\n",
    "                                        EXTRACTION, [\"Water Stability\"], sp_dict, CoV=True, fuzz_threshold=85,\n",
    "                                        vector_store=input_folder+f\"/{reference.replace('/','_',1)}\")\n",
    "\n",
    "\n",
    "        general_extraction = response[0]\n",
    "\n",
    "        filtered = general_extraction[0]\n",
    "        all_props = general_extraction[1]\n",
    "\n",
    "        for j in filtered:\n",
    "            filtered_result[\"MOF Name\"].append(mof)\n",
    "            filtered_result[\"Ref Code\"].append(refcode)\n",
    "            filtered_result[\"Reference\"].append(reference)\n",
    "            filtered_result[\"Property\"].append(j.name)\n",
    "            filtered_result[\"Units\"].append(j.units)\n",
    "            filtered_result[\"Value\"].append(j.value)\n",
    "            filtered_result[\"Condition\"].append(j.condition)\n",
    "            filtered_result[\"Summary\"].append(j.summary)\n",
    "\n",
    "        for j in all_props.properties:\n",
    "            result[\"MOF Name\"].append(mof)\n",
    "            result[\"Ref Code\"].append(refcode)\n",
    "            result[\"Reference\"].append(reference)\n",
    "            result[\"Property\"].append(j.name)\n",
    "            result[\"Units\"].append(j.units)\n",
    "            result[\"Value\"].append(j.value)\n",
    "            result[\"Condition\"].append(j.condition)\n",
    "            result[\"Summary\"].append(j.summary)\n",
    "        \n",
    "        specific_extraction = response[1]\n",
    "        ws = specific_extraction[0]\n",
    "\n",
    "        for j in ws:\n",
    "            ws_result[\"MOF Name\"].append(mof)\n",
    "            ws_result[\"Ref Code\"].append(refcode)\n",
    "            ws_result[\"Reference\"].append(reference)\n",
    "            ws_result[\"Property\"].append(j.name)\n",
    "            ws_result[\"Units\"].append(j.units)\n",
    "            ws_result[\"Value\"].append(j.value)\n",
    "            ws_result[\"Condition\"].append(j.condition)\n",
    "            ws_result[\"Summary\"].append(j.summary)\n",
    "\n",
    "except Exception as e:\n",
    "    print(e)\n",
    "    all_props = pd.DataFrame(result)\n",
    "    filtered = pd.DataFrame(filtered_result)\n",
    "    ws = pd.DataFrame(ws_result)\n",
    "\n",
    "    all_props.to_csv(\"all-Elsevier-P2_3.csv\")\n",
    "    filtered.to_csv(\"fil-Elsevier-P2_3.csv\")\n",
    "    ws.to_csv(\"ws-Elsevier-P2_3.csv\")"
   ]
  },
  {
   "cell_type": "code",
   "execution_count": 5,
   "metadata": {},
   "outputs": [],
   "source": [
    "all_props = pd.DataFrame(result)\n",
    "filtered = pd.DataFrame(filtered_result)\n",
    "ws = pd.DataFrame(ws_result)\n",
    "\n",
    "all_props.to_csv(\"Examples/results/all-Elsevier-P2_3.csv\")\n",
    "filtered.to_csv(\"Examples/results/fil-Elsevier-P2_3.csv\")\n",
    "ws.to_csv(\"Examples/results/ws-Elsevier-P2_3.csv\")"
   ]
  },
  {
   "cell_type": "code",
   "execution_count": 6,
   "metadata": {},
   "outputs": [
    {
     "data": {
      "text/html": [
       "<div>\n",
       "<style scoped>\n",
       "    .dataframe tbody tr th:only-of-type {\n",
       "        vertical-align: middle;\n",
       "    }\n",
       "\n",
       "    .dataframe tbody tr th {\n",
       "        vertical-align: top;\n",
       "    }\n",
       "\n",
       "    .dataframe thead th {\n",
       "        text-align: right;\n",
       "    }\n",
       "</style>\n",
       "<table border=\"1\" class=\"dataframe\">\n",
       "  <thead>\n",
       "    <tr style=\"text-align: right;\">\n",
       "      <th></th>\n",
       "      <th>MOF Name</th>\n",
       "      <th>Ref Code</th>\n",
       "      <th>Property</th>\n",
       "      <th>Value</th>\n",
       "      <th>Units</th>\n",
       "      <th>Condition</th>\n",
       "      <th>Summary</th>\n",
       "      <th>Reference</th>\n",
       "    </tr>\n",
       "  </thead>\n",
       "  <tbody>\n",
       "  </tbody>\n",
       "</table>\n",
       "</div>"
      ],
      "text/plain": [
       "Empty DataFrame\n",
       "Columns: [MOF Name, Ref Code, Property, Value, Units, Condition, Summary, Reference]\n",
       "Index: []"
      ]
     },
     "execution_count": 6,
     "metadata": {},
     "output_type": "execute_result"
    }
   ],
   "source": [
    "all_props.head()"
   ]
  },
  {
   "cell_type": "code",
   "execution_count": 7,
   "metadata": {},
   "outputs": [
    {
     "data": {
      "text/html": [
       "<div>\n",
       "<style scoped>\n",
       "    .dataframe tbody tr th:only-of-type {\n",
       "        vertical-align: middle;\n",
       "    }\n",
       "\n",
       "    .dataframe tbody tr th {\n",
       "        vertical-align: top;\n",
       "    }\n",
       "\n",
       "    .dataframe thead th {\n",
       "        text-align: right;\n",
       "    }\n",
       "</style>\n",
       "<table border=\"1\" class=\"dataframe\">\n",
       "  <thead>\n",
       "    <tr style=\"text-align: right;\">\n",
       "      <th></th>\n",
       "      <th>MOF Name</th>\n",
       "      <th>Ref Code</th>\n",
       "      <th>Property</th>\n",
       "      <th>Value</th>\n",
       "      <th>Units</th>\n",
       "      <th>Condition</th>\n",
       "      <th>Summary</th>\n",
       "      <th>Reference</th>\n",
       "    </tr>\n",
       "  </thead>\n",
       "  <tbody>\n",
       "  </tbody>\n",
       "</table>\n",
       "</div>"
      ],
      "text/plain": [
       "Empty DataFrame\n",
       "Columns: [MOF Name, Ref Code, Property, Value, Units, Condition, Summary, Reference]\n",
       "Index: []"
      ]
     },
     "execution_count": 7,
     "metadata": {},
     "output_type": "execute_result"
    }
   ],
   "source": [
    "filtered.head()"
   ]
  },
  {
   "cell_type": "code",
   "execution_count": 8,
   "metadata": {},
   "outputs": [
    {
     "data": {
      "text/html": [
       "<div>\n",
       "<style scoped>\n",
       "    .dataframe tbody tr th:only-of-type {\n",
       "        vertical-align: middle;\n",
       "    }\n",
       "\n",
       "    .dataframe tbody tr th {\n",
       "        vertical-align: top;\n",
       "    }\n",
       "\n",
       "    .dataframe thead th {\n",
       "        text-align: right;\n",
       "    }\n",
       "</style>\n",
       "<table border=\"1\" class=\"dataframe\">\n",
       "  <thead>\n",
       "    <tr style=\"text-align: right;\">\n",
       "      <th></th>\n",
       "      <th>MOF Name</th>\n",
       "      <th>Ref Code</th>\n",
       "      <th>Property</th>\n",
       "      <th>Value</th>\n",
       "      <th>Units</th>\n",
       "      <th>Condition</th>\n",
       "      <th>Summary</th>\n",
       "      <th>Reference</th>\n",
       "    </tr>\n",
       "  </thead>\n",
       "  <tbody>\n",
       "  </tbody>\n",
       "</table>\n",
       "</div>"
      ],
      "text/plain": [
       "Empty DataFrame\n",
       "Columns: [MOF Name, Ref Code, Property, Value, Units, Condition, Summary, Reference]\n",
       "Index: []"
      ]
     },
     "execution_count": 8,
     "metadata": {},
     "output_type": "execute_result"
    }
   ],
   "source": [
    "ws.head()"
   ]
  },
  {
   "cell_type": "markdown",
   "metadata": {},
   "source": [
    "<b>Application Extraction</b>\n",
    "\n",
    "The following cells will extract the recommended applications by MOF experts and scientists in the literature. It will return:\n",
    "- MOF name\n",
    "- CSD reference code\n",
    "- The application mentioned in the literature\n",
    "- From investigation, whether it is recommended by MOF experts or not (Not recommended, Investigated, Recommended)\n",
    "- Justification on the recommendation of application\n",
    "- DOI (source)"
   ]
  },
  {
   "cell_type": "code",
   "execution_count": 9,
   "metadata": {},
   "outputs": [
    {
     "name": "stdout",
     "output_type": "stream",
     "text": [
      "Trying to get response...\n",
      "Action: reading the document\n",
      "finding all properties of name 1: C9H12CaO10 ---name 2: calcium trimesate synthesized by one-pot self-assembly reaction\n",
      "Error code: 401 - {'error': {'message': 'Incorrect API key provided: YOUR_API_KEY. You can find your API key at https://platform.openai.com/account/api-keys.', 'type': 'invalid_request_error', 'param': None, 'code': 'invalid_api_key'}}\n",
      "Tokens Used: 0\n",
      "\tPrompt Tokens: 0\n",
      "\t\tPrompt Tokens Cached: 0\n",
      "\tCompletion Tokens: 0\n",
      "\t\tReasoning Tokens: 0\n",
      "Successful Requests: 0\n",
      "Total Cost (USD): $0.0\n",
      "0\n"
     ]
    }
   ],
   "source": [
    "result = {}\n",
    "result[\"MOF Name\"] = []\n",
    "result[\"Ref Code\"] = []\n",
    "result[\"Application\"] = []\n",
    "result[\"Recommendation\"] = []\n",
    "result[\"Justification\"] = []\n",
    "result[\"Source\"] = []\n",
    "\n",
    "agent = ExtractionAgent(llm = llm)\n",
    "\n",
    "with get_openai_callback() as cb:\n",
    "    try:\n",
    "        for i in range(len(mof_names_df)):\n",
    "\n",
    "            mof = mof_names_df.iloc[i][\"MOF Name\"]\n",
    "            refcode = mof_names_df.iloc[i][\"CSD Ref Code\"]\n",
    "            reference = mof_names_df.iloc[i][\"DOI\"]\n",
    "            #file = mof_names_df.iloc[i][\"File Name\"]\n",
    "\n",
    "            if len(refcode) > 8:\n",
    "                print(f\"{refcode} is longer than 8 characters. Skipping...\")\n",
    "                continue\n",
    "            if refcode.lower() == \"not provided\":\n",
    "                continue        \n",
    "            \n",
    "            print(\"Trying to get response...\")\n",
    "            response = agent.agent_response(mof, reference.replace(\"/\",\"_\")+\".md\",\n",
    "                                            APPLICATION, CoV=False, filtered=False, gen_extraction_structure = ListApplications,\n",
    "                                            vector_store=os.path.join(input_folder, reference.replace(\"/\", \"_\", 1)))\n",
    "\n",
    "            general_extraction = response\n",
    "\n",
    "            filtered = general_extraction\n",
    "            applications = general_extraction\n",
    "\n",
    "            print(applications)\n",
    "\n",
    "            for app in applications.app_list:\n",
    "                result[\"MOF Name\"].append(mof)\n",
    "                result[\"Ref Code\"].append(refcode)\n",
    "                result[\"Source\"].append(reference)\n",
    "                result[\"Application\"].append(app.application_name)\n",
    "                result[\"Recommendation\"].append(app.recommendation)\n",
    "                result[\"Justification\"].append(app.justification)\n",
    "        \n",
    "        print(cb)\n",
    "\n",
    "    except Exception as e:\n",
    "        print(e)\n",
    "        print(cb)\n",
    "        print(i)\n",
    "        res = pd.DataFrame(result)"
   ]
  },
  {
   "cell_type": "code",
   "execution_count": 10,
   "metadata": {},
   "outputs": [
    {
     "data": {
      "text/html": [
       "<div>\n",
       "<style scoped>\n",
       "    .dataframe tbody tr th:only-of-type {\n",
       "        vertical-align: middle;\n",
       "    }\n",
       "\n",
       "    .dataframe tbody tr th {\n",
       "        vertical-align: top;\n",
       "    }\n",
       "\n",
       "    .dataframe thead th {\n",
       "        text-align: right;\n",
       "    }\n",
       "</style>\n",
       "<table border=\"1\" class=\"dataframe\">\n",
       "  <thead>\n",
       "    <tr style=\"text-align: right;\">\n",
       "      <th></th>\n",
       "      <th>MOF Name</th>\n",
       "      <th>Ref Code</th>\n",
       "      <th>Application</th>\n",
       "      <th>Recommendation</th>\n",
       "      <th>Justification</th>\n",
       "      <th>Source</th>\n",
       "    </tr>\n",
       "  </thead>\n",
       "  <tbody>\n",
       "  </tbody>\n",
       "</table>\n",
       "</div>"
      ],
      "text/plain": [
       "Empty DataFrame\n",
       "Columns: [MOF Name, Ref Code, Application, Recommendation, Justification, Source]\n",
       "Index: []"
      ]
     },
     "execution_count": 10,
     "metadata": {},
     "output_type": "execute_result"
    }
   ],
   "source": [
    "res = pd.DataFrame(result)\n",
    "res.to_csv(\"Examples/results/apps-ACS-P1_1real.csv\")\n",
    "\n",
    "res"
   ]
  },
  {
   "cell_type": "code",
   "execution_count": null,
   "metadata": {},
   "outputs": [],
   "source": []
  }
 ],
 "metadata": {
  "kernelspec": {
   "display_name": "llms",
   "language": "python",
   "name": "python3"
  },
  "language_info": {
   "codemirror_mode": {
    "name": "ipython",
    "version": 3
   },
   "file_extension": ".py",
   "mimetype": "text/x-python",
   "name": "python",
   "nbconvert_exporter": "python",
   "pygments_lexer": "ipython3",
   "version": "3.12.5"
  }
 },
 "nbformat": 4,
 "nbformat_minor": 2
}
