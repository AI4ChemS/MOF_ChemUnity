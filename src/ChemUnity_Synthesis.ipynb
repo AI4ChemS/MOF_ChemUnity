{
 "cells": [
  {
   "cell_type": "markdown",
   "metadata": {},
   "source": [
    "## <b>MOF ChemUnity Synthesis Extraction</b>\n",
    "\n",
    "This notebook demonstrates how the synthesis extraction workflow in MOF ChemUnity is used. Prior to running this, the MOF names that are extracted from the Matching Workflow are required, so we advise the user to run ``ChemUnity_Matching.ipynb`` first to retrieve these. As well, the vector stores generated from the Matching Workflow can be re-used here to keep things simple - we don't have to worry about reading any .pdf or .xml files here, or converting them to .md"
   ]
  },
  {
   "cell_type": "code",
   "execution_count": 2,
   "metadata": {},
   "outputs": [],
   "source": [
    "import pandas as pd\n",
    "import glob\n",
    "import os\n",
    "from langchain_openai import ChatOpenAI\n",
    "from langchain.callbacks import get_openai_callback\n",
    "\n",
    "from MOF_ChemUnity.Agents.ExtractionAgent import ExtractionAgent\n",
    "from MOF_ChemUnity.utils.DocProcessor import DocProcessor\n",
    "from MOF_ChemUnity.Prompts.Synthesis_Prompts import SYNTHESIS_EXTRACTION\n",
    "from MOF_ChemUnity.utils.DataModels import Synthesis\n",
    "from MOF_ChemUnity.Agents.BaseAgent import BaseAgent"
   ]
  },
  {
   "cell_type": "markdown",
   "metadata": {},
   "source": [
    "<b>Preparation of MOF Names from Matching CSV</b>"
   ]
  },
  {
   "cell_type": "markdown",
   "metadata": {},
   "source": [
    "Please refer to ```ChemUnity_Matching.ipynb``` to get a matching .csv file (set this as ```mof_names_df```), which manages to map MOF name to the reference code (alongside their respective DOI). These are needed to run the rest of the demonstration. Furthermore, please use your own OpenAI API key. For reference, the following cell has been constructed for preparation of extraction process."
   ]
  },
  {
   "cell_type": "code",
   "execution_count": null,
   "metadata": {},
   "outputs": [
    {
     "data": {
      "text/html": [
       "<div>\n",
       "<style scoped>\n",
       "    .dataframe tbody tr th:only-of-type {\n",
       "        vertical-align: middle;\n",
       "    }\n",
       "\n",
       "    .dataframe tbody tr th {\n",
       "        vertical-align: top;\n",
       "    }\n",
       "\n",
       "    .dataframe thead th {\n",
       "        text-align: right;\n",
       "    }\n",
       "</style>\n",
       "<table border=\"1\" class=\"dataframe\">\n",
       "  <thead>\n",
       "    <tr style=\"text-align: right;\">\n",
       "      <th></th>\n",
       "      <th>MOF Name</th>\n",
       "      <th>CSD Ref Code</th>\n",
       "      <th>Justification</th>\n",
       "      <th>DOI</th>\n",
       "    </tr>\n",
       "  </thead>\n",
       "  <tbody>\n",
       "    <tr>\n",
       "      <th>0</th>\n",
       "      <td>C9H12CaO10&lt;|&gt;One-pot Self-assembly Reaction</td>\n",
       "      <td>OWEZEW01</td>\n",
       "      <td>The MOF C9H12CaO10 synthesized by the one-pot ...</td>\n",
       "      <td>10.1016/j.molstruc.2017.11.128</td>\n",
       "    </tr>\n",
       "    <tr>\n",
       "      <th>1</th>\n",
       "      <td>C18H30Ca3O24&lt;|&gt;Ion Exchange Method</td>\n",
       "      <td>not provided</td>\n",
       "      <td>The MOF C18H30Ca3O24 synthesized by the ion ex...</td>\n",
       "      <td>10.1016/j.molstruc.2017.11.128</td>\n",
       "    </tr>\n",
       "  </tbody>\n",
       "</table>\n",
       "</div>"
      ],
      "text/plain": [
       "                                      MOF Name  CSD Ref Code  \\\n",
       "0  C9H12CaO10<|>One-pot Self-assembly Reaction      OWEZEW01   \n",
       "1           C18H30Ca3O24<|>Ion Exchange Method  not provided   \n",
       "\n",
       "                                       Justification  \\\n",
       "0  The MOF C9H12CaO10 synthesized by the one-pot ...   \n",
       "1  The MOF C18H30Ca3O24 synthesized by the ion ex...   \n",
       "\n",
       "                              DOI  \n",
       "0  10.1016/j.molstruc.2017.11.128  \n",
       "1  10.1016/j.molstruc.2017.11.128  "
      ]
     },
     "execution_count": 23,
     "metadata": {},
     "output_type": "execute_result"
    }
   ],
   "source": [
    "os.environ[\"OPENAI_API_KEY\"] = 'YOUR_API_KEY'\n",
    "\n",
    "llm = ChatOpenAI(model=\"gpt-4o\", temperature=0.1)\n",
    "parser_llm = ChatOpenAI(model=\"gpt-4o-mini\", temperature=0)\n",
    "\n",
    "mof_names_df = pd.read_csv(\"Examples/MD/Elsevier/results/matching.csv\")\n",
    "mof_names_df.head()"
   ]
  },
  {
   "cell_type": "markdown",
   "metadata": {},
   "source": [
    "<b>Vector Store Files setup</b>\n",
    "\n",
    "For this example, we will use the markdown example explored in the matching notebook. Please follow these steps:\n",
    "- Point the input_folder to the vector store folder \"vs\" that was created during the matching\n",
    "- Initialize your extraction results dictionary (shown as ```result```)\n",
    "- Create the agent object"
   ]
  },
  {
   "cell_type": "code",
   "execution_count": 24,
   "metadata": {},
   "outputs": [],
   "source": [
    "input_folder = \"Examples/MD/vs\"\n",
    "files = glob.glob(input_folder+\"/*/\")\n",
    "\n",
    "agent = ExtractionAgent(llm=llm)\n",
    "\n",
    "# Directory and file paths\n",
    "results_dir = os.path.join(input_folder, 'synthesis_results')\n",
    "results_file = os.path.join(results_dir, 'synthesis_extractions.csv')\n",
    "\n",
    "# Set parameters\n",
    "saving_every = 250  # Save results every X MOFs\n",
    "batch_size = 4000    # Stop after processing X MOFs (manual restart required)\n",
    "\n",
    "# Ensure the results directory exists\n",
    "os.makedirs(results_dir, exist_ok=True)\n",
    "\n",
    "# Prepare or load the results DataFrame\n",
    "if os.path.exists(results_file):\n",
    "    existing_results = pd.read_csv(results_file)\n",
    "\n",
    "    # Drop \"Unnamed: 0\" if it exists\n",
    "    if \"Unnamed: 0\" in existing_results.columns:\n",
    "        existing_results = existing_results.drop(columns=[\"Unnamed: 0\"])\n",
    "    \n",
    "    processed_refs = set(existing_results[\"Reference\"])\n",
    "    results = existing_results.to_dict(orient=\"list\")\n",
    "else:\n",
    "    processed_refs = set()\n",
    "    results = {\n",
    "        \"Metal Precursor\": [], \"Linker\": [], \"Solvent\": [],\n",
    "        \"Temperature\": [], \"Reaction Time\": [], \"Synthesis Procedure\": [],\n",
    "        \"Additional Conditions\": [], \"Justification\": [], \"Reference\": [],\n",
    "        \"CSD Ref Code\": []\n",
    "    }\n",
    "\n",
    "# Determine rows that haven't been processed yet\n",
    "remaining_df = mof_names_df[~mof_names_df[\"DOI\"].isin(processed_refs)].reset_index(drop=True)\n",
    "\n",
    "# Get the total number of MOFs that need to be processed\n",
    "total_remaining = len(remaining_df)\n",
    "total_processed = 0  # Tracks how many MOFs have been processed in this run"
   ]
  },
  {
   "cell_type": "markdown",
   "metadata": {},
   "source": [
    "<b>Running the Extraction Loop for General Property Extraction + CoV</b>\n",
    "\n",
    "From running the following cell, general property extraction and CoV is performed to extract details from the literature that are relevant in synthesis extraction such as:\n",
    "- CSD Reference Code\n",
    "- Metal precursor\n",
    "- Linker\n",
    "- Solvent used for synthesis\n",
    "- Temperature of reaction\n",
    "- Reaction time\n",
    "- The synthesis procedure itself\n",
    "- Reference (DOI)"
   ]
  },
  {
   "cell_type": "code",
   "execution_count": 25,
   "metadata": {},
   "outputs": [
    {
     "name": "stdout",
     "output_type": "stream",
     "text": [
      "✅ Processing complete! All MOFs processed.\n"
     ]
    }
   ],
   "source": [
    "# Process in batches, but stop after processing batch_size MOFs\n",
    "for batch_start in range(0, total_remaining, saving_every):\n",
    "    if total_processed >= batch_size:\n",
    "        break  # Stop execution when batch_size MOFs are processed\n",
    "\n",
    "    batch_df = remaining_df.iloc[batch_start:batch_start + saving_every]\n",
    "    \n",
    "    # Track number of rows before processing this batch\n",
    "    prev_length = len(results[\"Reference\"])\n",
    "\n",
    "    # Process each row in the batch\n",
    "    for i, row in batch_df.iterrows():\n",
    "        reference = row[\"DOI\"]\n",
    "        mof = row[\"MOF Name\"]\n",
    "        refcode = row[\"CSD Ref Code\"]\n",
    "\n",
    "        # Skip if refcode doesn't meet criteria\n",
    "        if len(refcode) > 8 or refcode.lower() == \"not provided\":\n",
    "            continue\n",
    "        \n",
    "        # Generate file name based on reference\n",
    "        file_name = reference.replace(\"/\", \"_\") + \".md\"\n",
    "        \n",
    "        # Get synthesis extraction via agent response\n",
    "        try:\n",
    "            response = agent.agent_response(mof, file_name,\n",
    "                                            SYNTHESIS_EXTRACTION, CoV=False, filtered=False,\n",
    "                                            gen_extraction_structure=Synthesis,\n",
    "                                            vector_store=os.path.join(input_folder, reference.replace(\"/\", \"_\", 1)))\n",
    "            synthesis_extraction = response\n",
    "\n",
    "            # Append extracted synthesis data to results dictionary\n",
    "            results[\"Metal Precursor\"].append(getattr(synthesis_extraction, \"metal_precursor\", \"\"))\n",
    "            results[\"Linker\"].append(getattr(synthesis_extraction, \"organic_linker\", \"\"))\n",
    "            results[\"Solvent\"].append(getattr(synthesis_extraction, \"solvent\", \"\"))\n",
    "            results[\"Temperature\"].append(getattr(synthesis_extraction, \"temperature\", \"\"))\n",
    "            results[\"Reaction Time\"].append(getattr(synthesis_extraction, \"reaction_time\", \"\"))\n",
    "            results[\"Synthesis Procedure\"].append(getattr(synthesis_extraction, \"synthesis_procedure\", \"\"))\n",
    "            results[\"Additional Conditions\"].append(getattr(synthesis_extraction, \"additional_conditions\", \"\"))\n",
    "            results[\"Justification\"].append(getattr(synthesis_extraction, \"justification\", \"\"))\n",
    "            results[\"Reference\"].append(reference)\n",
    "            results[\"CSD Ref Code\"].append(refcode)\n",
    "            \n",
    "            total_processed += 1  # Increment the count of processed MOFs\n",
    "            \n",
    "            # Stop early if batch_size limit is reached\n",
    "            if total_processed >= batch_size:\n",
    "                break  \n",
    "\n",
    "        except Exception as e:\n",
    "            print(f\"Error processing row {i} with DOI {reference}: {e}\")\n",
    "\n",
    "    # Save progress every `saving_every` MOFs\n",
    "    batch_results_df = pd.DataFrame(results)\n",
    "    batch_results_df.to_csv(results_file, index=False)\n",
    "\n",
    "    # Calculate remaining MOFs\n",
    "    # Correct calculation of remaining MOFs\n",
    "    remaining_to_process = max(total_remaining - total_processed, 0)\n",
    "\n",
    "    print(f\"✅ {total_processed} MOFs processed so far. {remaining_to_process} remaining this batch. Progress saved to {results_file}.\")\n",
    "\n",
    "# Final completion message\n",
    "if total_processed >= batch_size:\n",
    "    print(f\"🚫 Processing stopped after {batch_size} MOFs. {remaining_to_process} MOFs still need processing. Restart script to continue.\")\n",
    "else:\n",
    "    print(\"✅ Processing complete! All MOFs processed.\")\n"
   ]
  },
  {
   "cell_type": "code",
   "execution_count": 26,
   "metadata": {},
   "outputs": [
    {
     "data": {
      "text/html": [
       "<div>\n",
       "<style scoped>\n",
       "    .dataframe tbody tr th:only-of-type {\n",
       "        vertical-align: middle;\n",
       "    }\n",
       "\n",
       "    .dataframe tbody tr th {\n",
       "        vertical-align: top;\n",
       "    }\n",
       "\n",
       "    .dataframe thead th {\n",
       "        text-align: right;\n",
       "    }\n",
       "</style>\n",
       "<table border=\"1\" class=\"dataframe\">\n",
       "  <thead>\n",
       "    <tr style=\"text-align: right;\">\n",
       "      <th></th>\n",
       "      <th>Metal Precursor</th>\n",
       "      <th>Linker</th>\n",
       "      <th>Solvent</th>\n",
       "      <th>Temperature</th>\n",
       "      <th>Reaction Time</th>\n",
       "      <th>Synthesis Procedure</th>\n",
       "      <th>Additional Conditions</th>\n",
       "      <th>Justification</th>\n",
       "      <th>Reference</th>\n",
       "      <th>CSD Ref Code</th>\n",
       "    </tr>\n",
       "  </thead>\n",
       "  <tbody>\n",
       "    <tr>\n",
       "      <th>0</th>\n",
       "      <td>calcium acetate</td>\n",
       "      <td>trimesic acid (C9H6O6)</td>\n",
       "      <td>deionized water, ethanol</td>\n",
       "      <td>150 °C</td>\n",
       "      <td>12 days</td>\n",
       "      <td>Dissolve 2 mmol of trimesic acid in 20 mL deio...</td>\n",
       "      <td>Not Provided</td>\n",
       "      <td>2 mmol of trimesic acid were dissolved in 20 m...</td>\n",
       "      <td>10.1016/j.molstruc.2017.11.128</td>\n",
       "      <td>OWEZEW01</td>\n",
       "    </tr>\n",
       "  </tbody>\n",
       "</table>\n",
       "</div>"
      ],
      "text/plain": [
       "   Metal Precursor                  Linker                   Solvent  \\\n",
       "0  calcium acetate  trimesic acid (C9H6O6)  deionized water, ethanol   \n",
       "\n",
       "  Temperature Reaction Time  \\\n",
       "0      150 °C       12 days   \n",
       "\n",
       "                                 Synthesis Procedure Additional Conditions  \\\n",
       "0  Dissolve 2 mmol of trimesic acid in 20 mL deio...          Not Provided   \n",
       "\n",
       "                                       Justification  \\\n",
       "0  2 mmol of trimesic acid were dissolved in 20 m...   \n",
       "\n",
       "                        Reference CSD Ref Code  \n",
       "0  10.1016/j.molstruc.2017.11.128     OWEZEW01  "
      ]
     },
     "execution_count": 26,
     "metadata": {},
     "output_type": "execute_result"
    }
   ],
   "source": [
    "batch_results_df"
   ]
  },
  {
   "cell_type": "code",
   "execution_count": null,
   "metadata": {},
   "outputs": [],
   "source": []
  },
  {
   "cell_type": "code",
   "execution_count": null,
   "metadata": {},
   "outputs": [],
   "source": []
  },
  {
   "cell_type": "code",
   "execution_count": null,
   "metadata": {},
   "outputs": [],
   "source": []
  },
  {
   "cell_type": "code",
   "execution_count": null,
   "metadata": {},
   "outputs": [],
   "source": []
  },
  {
   "cell_type": "code",
   "execution_count": null,
   "metadata": {},
   "outputs": [],
   "source": []
  }
 ],
 "metadata": {
  "kernelspec": {
   "display_name": "chemunity",
   "language": "python",
   "name": "python3"
  },
  "language_info": {
   "codemirror_mode": {
    "name": "ipython",
    "version": 3
   },
   "file_extension": ".py",
   "mimetype": "text/x-python",
   "name": "python",
   "nbconvert_exporter": "python",
   "pygments_lexer": "ipython3",
   "version": "3.11.9"
  }
 },
 "nbformat": 4,
 "nbformat_minor": 2
}
