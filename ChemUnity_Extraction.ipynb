{
 "cells": [
  {
   "cell_type": "markdown",
   "metadata": {},
   "source": [
    "# MOF ChemUnity Property Extraction\n",
    "\n",
    "This notebook demonstrates how the property extraction in MOF ChemUnity is used. You need to have the MOF name that you want to extract properties for which is obtained from the Matching workflow."
   ]
  },
  {
   "cell_type": "code",
   "execution_count": 61,
   "metadata": {},
   "outputs": [],
   "source": [
    "from src.MOF_ChemUnity.Agents.ExtractionAgent import ExtractionAgent\n",
    "from src.MOF_ChemUnity.utils.DocProcessor import DocProcessor\n",
    "from src.MOF_ChemUnity.Extraction_Prompts import VERIFICATION, RECHECK, EXTRACTION\n",
    "from src.MOF_ChemUnity.Water_Stability_Prompts import WATER_STABILITY, RULES_WATER_STABILITY, VERF_RULES_WATER_STABILITY, WATER_STABILITY_RE"
   ]
  },
  {
   "cell_type": "markdown",
   "metadata": {},
   "source": [
    "### Preparation of MOF Names from Matching CSV"
   ]
  },
  {
   "cell_type": "markdown",
   "metadata": {},
   "source": [
    "we need to read the matching csv file and extract the file names from within that."
   ]
  },
  {
   "cell_type": "code",
   "execution_count": 62,
   "metadata": {},
   "outputs": [],
   "source": [
    "import pandas as pd\n",
    "import glob\n",
    "import os"
   ]
  },
  {
   "cell_type": "code",
   "execution_count": 63,
   "metadata": {},
   "outputs": [],
   "source": [
    "with open(\".apikeys\", 'r') as f:\n",
    "    os.environ[\"OPENAI_API_KEY\"] = f.read()\n",
    "\n",
    "from langchain_openai import ChatOpenAI\n",
    "\n",
    "llm = ChatOpenAI(model=\"gpt-4o\", temperature=0.1)\n",
    "parser_llm = ChatOpenAI(model=\"gpt-4o-mini\", temperature=0)"
   ]
  },
  {
   "cell_type": "code",
   "execution_count": 64,
   "metadata": {},
   "outputs": [
    {
     "data": {
      "text/html": [
       "<div>\n",
       "<style scoped>\n",
       "    .dataframe tbody tr th:only-of-type {\n",
       "        vertical-align: middle;\n",
       "    }\n",
       "\n",
       "    .dataframe tbody tr th {\n",
       "        vertical-align: top;\n",
       "    }\n",
       "\n",
       "    .dataframe thead th {\n",
       "        text-align: right;\n",
       "    }\n",
       "</style>\n",
       "<table border=\"1\" class=\"dataframe\">\n",
       "  <thead>\n",
       "    <tr style=\"text-align: right;\">\n",
       "      <th></th>\n",
       "      <th>MOF Name</th>\n",
       "      <th>CSD Ref Code</th>\n",
       "      <th>Justification</th>\n",
       "      <th>DOI</th>\n",
       "    </tr>\n",
       "  </thead>\n",
       "  <tbody>\n",
       "    <tr>\n",
       "      <th>0</th>\n",
       "      <td>{[Cd2(tbip)(nic)2(H2O)4]·H2O}n&lt;|&gt;compound 3</td>\n",
       "      <td>PORZON</td>\n",
       "      <td>The MOF {[Cd2(tbip)(nic)2(H2O)4]·H2O}n, referr...</td>\n",
       "      <td>10.1002/zaac.201400134</td>\n",
       "    </tr>\n",
       "    <tr>\n",
       "      <th>1</th>\n",
       "      <td>Cd(BIPA)(bpe)1.5&lt;|&gt;complex 1</td>\n",
       "      <td>LIDQIA</td>\n",
       "      <td>The MOF Cd(BIPA)(bpe)1.5, referred to as compl...</td>\n",
       "      <td>10.1002/zaac.201100373</td>\n",
       "    </tr>\n",
       "    <tr>\n",
       "      <th>2</th>\n",
       "      <td>Cd(BIPA)(bpp)(H2O)&lt;|&gt;complex 2</td>\n",
       "      <td>not provided</td>\n",
       "      <td>The MOF Cd(BIPA)(bpp)(H2O), referred to as com...</td>\n",
       "      <td>10.1002/zaac.201100373</td>\n",
       "    </tr>\n",
       "    <tr>\n",
       "      <th>3</th>\n",
       "      <td>[Mn2(L)(DMPU)3]n&lt;|&gt;compound 1</td>\n",
       "      <td>WUFSOI</td>\n",
       "      <td>The MOF [Mn2(L)(DMPU)3]n, referred to as compo...</td>\n",
       "      <td>10.1002/zaac.201900299</td>\n",
       "    </tr>\n",
       "    <tr>\n",
       "      <th>4</th>\n",
       "      <td>[Mn(L)0.5(4,4'-bipy)0.5(H2O)]n&lt;|&gt;compound 2</td>\n",
       "      <td>WUFSIC</td>\n",
       "      <td>The MOF [Mn(L)0.5(4,4'-bipy)0.5(H2O)]n, referr...</td>\n",
       "      <td>10.1002/zaac.201900299</td>\n",
       "    </tr>\n",
       "  </tbody>\n",
       "</table>\n",
       "</div>"
      ],
      "text/plain": [
       "                                      MOF Name  CSD Ref Code  \\\n",
       "0  {[Cd2(tbip)(nic)2(H2O)4]·H2O}n<|>compound 3        PORZON   \n",
       "1                 Cd(BIPA)(bpe)1.5<|>complex 1        LIDQIA   \n",
       "2               Cd(BIPA)(bpp)(H2O)<|>complex 2  not provided   \n",
       "3                [Mn2(L)(DMPU)3]n<|>compound 1        WUFSOI   \n",
       "4  [Mn(L)0.5(4,4'-bipy)0.5(H2O)]n<|>compound 2        WUFSIC   \n",
       "\n",
       "                                       Justification                     DOI  \n",
       "0  The MOF {[Cd2(tbip)(nic)2(H2O)4]·H2O}n, referr...  10.1002/zaac.201400134  \n",
       "1  The MOF Cd(BIPA)(bpe)1.5, referred to as compl...  10.1002/zaac.201100373  \n",
       "2  The MOF Cd(BIPA)(bpp)(H2O), referred to as com...  10.1002/zaac.201100373  \n",
       "3  The MOF [Mn2(L)(DMPU)3]n, referred to as compo...  10.1002/zaac.201900299  \n",
       "4  The MOF [Mn(L)0.5(4,4'-bipy)0.5(H2O)]n, referr...  10.1002/zaac.201900299  "
      ]
     },
     "execution_count": 64,
     "metadata": {},
     "output_type": "execute_result"
    }
   ],
   "source": [
    "mof_names_df = pd.read_csv(\"/mnt/c/Users/Amro/Desktop/DOI LISTS/Processing Batches - results/Batch 7/matching.csv\", skiprows=102+101, header=None, names=[\"MOF Name\", \"CSD Ref Code\", \"Justification\", \"DOI\"])\n",
    "mof_names_df.head()"
   ]
  },
  {
   "cell_type": "markdown",
   "metadata": {},
   "source": [
    "### Markdown files setup"
   ]
  },
  {
   "cell_type": "code",
   "execution_count": 65,
   "metadata": {},
   "outputs": [],
   "source": [
    "from src.MOF_ChemUnity.Agents.BaseAgent import BaseAgent\n",
    "\n",
    "\n",
    "input_folder = \"/mnt/c/Users/Amro/Desktop/DOI LISTS/Processing Batches - vs/Batch 7/vs\"\n",
    "\n",
    "\n",
    "files = glob.glob(input_folder+\"/*/\")"
   ]
  },
  {
   "cell_type": "markdown",
   "metadata": {},
   "source": [
    "### Running the Extraction Loop for General Property Extraction + CoV"
   ]
  },
  {
   "cell_type": "code",
   "execution_count": 66,
   "metadata": {},
   "outputs": [],
   "source": [
    "result = {}\n",
    "result[\"MOF Name\"] = []\n",
    "result[\"Ref Code\"] = []\n",
    "result[\"Property\"] = []\n",
    "result[\"Value\"] = []\n",
    "result[\"Units\"] = []\n",
    "result[\"Condition\"] = []\n",
    "result[\"Summary\"] = []\n",
    "result[\"Reference\"] = []"
   ]
  },
  {
   "cell_type": "code",
   "execution_count": 67,
   "metadata": {},
   "outputs": [],
   "source": [
    "filtered_result = {}\n",
    "filtered_result[\"MOF Name\"] = []\n",
    "filtered_result[\"Ref Code\"] = []\n",
    "filtered_result[\"Property\"] = []\n",
    "filtered_result[\"Value\"] = []\n",
    "filtered_result[\"Units\"] = []\n",
    "filtered_result[\"Condition\"] = []\n",
    "filtered_result[\"Summary\"] = []\n",
    "filtered_result[\"Reference\"] = []"
   ]
  },
  {
   "cell_type": "code",
   "execution_count": 68,
   "metadata": {},
   "outputs": [],
   "source": [
    "ws_result = {}\n",
    "ws_result[\"MOF Name\"] = []\n",
    "ws_result[\"Ref Code\"] = []\n",
    "ws_result[\"Property\"] = []\n",
    "ws_result[\"Value\"] = []\n",
    "ws_result[\"Units\"] = []\n",
    "ws_result[\"Condition\"] = []\n",
    "ws_result[\"Summary\"] = []\n",
    "ws_result[\"Reference\"] = []"
   ]
  },
  {
   "cell_type": "code",
   "execution_count": 69,
   "metadata": {},
   "outputs": [],
   "source": [
    "WS_READ = WATER_STABILITY.replace(\"{RULES}\", RULES_WATER_STABILITY)\n",
    "WS_CHECK = VERIFICATION.replace(\"{VERF_RULES}\", VERF_RULES_WATER_STABILITY)\n",
    "WS_RECHECK = RECHECK.replace(\"{RECHECK_INSTRUCTIONS}\", WATER_STABILITY_RE.replace(\"{RULES}\", RULES_WATER_STABILITY))\n",
    "\n",
    "sp_dict = {\"read_prompts\": [WS_READ], \"verification_prompts\": [WS_CHECK], \"recheck_prompts\": [WS_RECHECK]}"
   ]
  },
  {
   "cell_type": "code",
   "execution_count": 70,
   "metadata": {},
   "outputs": [],
   "source": [
    "agent = ExtractionAgent(llm=llm)"
   ]
  },
  {
   "cell_type": "code",
   "execution_count": null,
   "metadata": {},
   "outputs": [
    {
     "name": "stdout",
     "output_type": "stream",
     "text": [
      "Action: reading the document\n",
      "finding all properties of name 1: ][Cd2(tbip)(nic)2(H2O)4]·H2O]n ---name 2: compound 3\n",
      "\n",
      "Result: \n",
      "1.  -Property Name: Crystal System\n",
      "    -Property Value: monoclinic\n",
      "    -Value Units: N/A\n",
      "    -Conditions: N/A\n",
      "    -Summary: \"Compound 3 crystallizes in the acentric space group Cc, with the Flack parameter[31] of –0.02(2) indicating enantiomeric purity within the crystal.\"\n",
      "\n",
      "2.  -Property Name: Space Group\n",
      "    -Property Value: Cc\n",
      "    -Value Units: N/A\n",
      "    -Conditions: N/A\n",
      "    -Summary: \"Compound 3 crystallizes in the acentric space group Cc, with the Flack parameter[31] of –0.02(2) indicating enantiomeric purity within the crystal.\"\n",
      "\n",
      "3.  -Property Name: Flack Parameter\n",
      "    -Property Value: -0.02(2)\n",
      "    -Value Units: N/A\n",
      "    -Conditions: N/A\n",
      "    -Summary: \"Compound 3 crystallizes in the acentric space group Cc, with the Flack parameter[31] of –0.02(2) indicating enantiomeric purity within the crystal.\"\n",
      "\n",
      "4.  -Property Name: Formula Weight\n",
      "    -Property Value: 779.30\n",
      "    -Value Units: N/A\n",
      "    -Conditions: N/A\n",
      "    -Summary: \"3 234 Empirical formula C24H30Cd2N2O13 C21H18Cd2N2O11 Formula weight 779.30 699.17\"\n",
      "\n",
      "5.  -Property Name: Crystal Size\n",
      "    -Property Value: 0.13 x 0.10 x 0.09\n",
      "    -Value Units: mm\n",
      "    -Conditions: N/A\n",
      "    -Summary: \"Crystal size /mm 0.320.120.12 0.270.150.11 0.130.100.09 0.320.210.10\"\n",
      "\n",
      "6.  -Property Name: Density\n",
      "    -Property Value: 1.868\n",
      "    -Value Units: g·cm–3\n",
      "    -Conditions: N/A\n",
      "    -Summary: \"D /g·cm–3 2.010 1.891 1.868 2.101\"\n",
      "\n",
      "7.  -Property Name: Maximum Excitation Wavelength\n",
      "    -Property Value: 215\n",
      "    -Value Units: nm\n",
      "    -Conditions: Emission monitored at 400 nm\n",
      "    -Summary: \"The excitation spectra for 1–4 were monitored at an emission of 400 nm, with maximum excitation wavelengths of 215 nm for 1–3, and 245 nm for 4.\"\n",
      "\n",
      "8.  -Property Name: Emission Maximum\n",
      "    -Property Value: 391\n",
      "    -Value Units: nm\n",
      "    -Conditions: N/A\n",
      "    -Summary: \"The emission maxima for 1–4 were as follows: 381 nm (1), 390 nm (2), 391 nm (3), and 402 nm (4).\"\n",
      "\n",
      "9.  -Property Name: Thermal Stability\n",
      "    -Property Value: 145\n",
      "    -Value Units: °C\n",
      "    -Conditions: Dehydration observed\n",
      "    -Summary: \"Dehydration of compound 3 was observed between 25 °C and 145 °C, with a mass loss of 10.0% roughly corresponding to ejection of five molar equivalents of water (11.6% calculated).\"\n",
      "\n",
      "10.  -Property Name: Coordination Environment\n",
      "    -Property Value: {CdO5N} octahedron\n",
      "    -Value Units: N/A\n",
      "    -Conditions: N/A\n",
      "    -Summary: \"The coordination sphere at Cd1 is a distorted {CdO5N} octahedron, with the equatorial positions occupied by a chelating carboxylate group of a tbip ligand, an oxygen atom donor from a monodentate carboxylate group of a nic-A ligand, and a nitrogen atom donor from a nic-B ligand.\"\n"
     ]
    }
   ],
   "source": [
    "from openai import RateLimitError\n",
    "\n",
    "\n",
    "try:\n",
    "    for i in range(len(mof_names_df)):\n",
    "\n",
    "        mof = mof_names_df.iloc[i][\"MOF Name\"]\n",
    "        refcode = mof_names_df.iloc[i][\"CSD Ref Code\"]\n",
    "        reference = mof_names_df.iloc[i][\"DOI\"]\n",
    "\n",
    "        if len(refcode) > 8:\n",
    "            continue\n",
    "        if refcode.lower() == \"not provided\":\n",
    "            continue\n",
    "        \n",
    "        response = agent.agent_response(mof, reference.replace(\"/\",\"_\")+\".md\",\n",
    "                                        EXTRACTION, [\"Water Stability\"], sp_dict, CoV=True, fuzz_threshold=85,\n",
    "                                        vector_store=input_folder+f\"/{reference.replace('/','_',1)}\")\n",
    "\n",
    "        general_extraction = response[0]\n",
    "\n",
    "        filtered = general_extraction[0]\n",
    "        all_props = general_extraction[1]\n",
    "\n",
    "        print(filtered)\n",
    "        print(all_props)\n",
    "\n",
    "        for j in filtered:\n",
    "            filtered_result[\"MOF Name\"].append(mof)\n",
    "            filtered_result[\"Ref Code\"].append(refcode)\n",
    "            filtered_result[\"Reference\"].append(reference)\n",
    "            filtered_result[\"Property\"].append(j.name)\n",
    "            filtered_result[\"Units\"].append(j.units)\n",
    "            filtered_result[\"Value\"].append(j.value)\n",
    "            filtered_result[\"Condition\"].append(j.condition)\n",
    "            filtered_result[\"Summary\"].append(j.summary)\n",
    "        for j in all_props.properties:\n",
    "            result[\"MOF Name\"].append(mof)\n",
    "            result[\"Ref Code\"].append(refcode)\n",
    "            result[\"Reference\"].append(reference)\n",
    "            result[\"Property\"].append(j.name)\n",
    "            result[\"Units\"].append(j.units)\n",
    "            result[\"Value\"].append(j.value)\n",
    "            result[\"Condition\"].append(j.condition)\n",
    "            result[\"Summary\"].append(j.summary)\n",
    "        \n",
    "        specific_extraction = response[1]\n",
    "\n",
    "        ws = specific_extraction[0]\n",
    "\n",
    "        for j in ws:\n",
    "            ws_result[\"MOF Name\"].append(mof)\n",
    "            ws_result[\"Ref Code\"].append(refcode)\n",
    "            ws_result[\"Reference\"].append(reference)\n",
    "            ws_result[\"Property\"].append(j.name)\n",
    "            ws_result[\"Units\"].append(j.units)\n",
    "            ws_result[\"Value\"].append(j.value)\n",
    "            ws_result[\"Condition\"].append(j.condition)\n",
    "            ws_result[\"Summary\"].append(j.summary)\n",
    "except Exception as e:\n",
    "    all_props = pd.DataFrame(result)\n",
    "    filtered = pd.DataFrame(filtered_result)\n",
    "    ws = pd.DataFrame(ws_result)\n",
    "\n",
    "    all_props.to_csv(\"/mnt/c/Users/Amro/Desktop/all-B7-P3.csv\")\n",
    "    filtered.to_csv(\"/mnt/c/Users/Amro/Desktop/fil-B7-P3.csv\")\n",
    "    ws.to_csv(\"/mnt/c/Users/Amro/Desktop/ws-B7-P3.csv\")\n",
    "\n",
    "\n",
    "all_props = pd.DataFrame(result)\n",
    "filtered = pd.DataFrame(filtered_result)\n",
    "ws = pd.DataFrame(ws_result)\n",
    "    "
   ]
  },
  {
   "cell_type": "code",
   "execution_count": null,
   "metadata": {},
   "outputs": [],
   "source": [
    "all_props.to_csv(\"/mnt/c/Users/Amro/Desktop/all-B7-P3.csv\")\n",
    "filtered.to_csv(\"/mnt/c/Users/Amro/Desktop/fil-B7-P3.csv\")\n",
    "ws.to_csv(\"/mnt/c/Users/Amro/Desktop/ws-B7-P3.csv\")"
   ]
  },
  {
   "cell_type": "code",
   "execution_count": null,
   "metadata": {},
   "outputs": [],
   "source": []
  }
 ],
 "metadata": {
  "kernelspec": {
   "display_name": ".venv",
   "language": "python",
   "name": "python3"
  },
  "language_info": {
   "codemirror_mode": {
    "name": "ipython",
    "version": 3
   },
   "file_extension": ".py",
   "mimetype": "text/x-python",
   "name": "python",
   "nbconvert_exporter": "python",
   "pygments_lexer": "ipython3",
   "version": "3.10.12"
  }
 },
 "nbformat": 4,
 "nbformat_minor": 2
}
