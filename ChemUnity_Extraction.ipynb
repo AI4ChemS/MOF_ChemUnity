{
 "cells": [
  {
   "cell_type": "markdown",
   "metadata": {},
   "source": [
    "# MOF ChemUnity Property Extraction\n",
    "\n",
    "This notebook demonstrates how the property extraction in MOF ChemUnity is used. You need to have the MOF name that you want to extract properties for which is obtained from the Matching workflow."
   ]
  },
  {
   "cell_type": "code",
   "execution_count": 14,
   "metadata": {},
   "outputs": [],
   "source": [
    "from src.MOF_ChemUnity.Agents.ExtractionAgent import ExtractionAgent\n",
    "from src.MOF_ChemUnity.utils.DocProcessor import DocProcessor\n",
    "from src.MOF_ChemUnity.Extraction_Prompts import VERIFICATION, RECHECK, EXTRACTION\n",
    "from src.MOF_ChemUnity.Water_Stability_Prompts import WATER_STABILITY, RULES_WATER_STABILITY, VERF_RULES_WATER_STABILITY, WATER_STABILITY_RE"
   ]
  },
  {
   "cell_type": "markdown",
   "metadata": {},
   "source": [
    "### Preparation of MOF Names from Matching CSV"
   ]
  },
  {
   "cell_type": "markdown",
   "metadata": {},
   "source": [
    "we need to read the matching csv file and extract the file names from within that."
   ]
  },
  {
   "cell_type": "code",
   "execution_count": 15,
   "metadata": {},
   "outputs": [],
   "source": [
    "import pandas as pd\n",
    "import glob\n",
    "import os"
   ]
  },
  {
   "cell_type": "code",
   "execution_count": 16,
   "metadata": {},
   "outputs": [
    {
     "data": {
      "text/html": [
       "<div>\n",
       "<style scoped>\n",
       "    .dataframe tbody tr th:only-of-type {\n",
       "        vertical-align: middle;\n",
       "    }\n",
       "\n",
       "    .dataframe tbody tr th {\n",
       "        vertical-align: top;\n",
       "    }\n",
       "\n",
       "    .dataframe thead th {\n",
       "        text-align: right;\n",
       "    }\n",
       "</style>\n",
       "<table border=\"1\" class=\"dataframe\">\n",
       "  <thead>\n",
       "    <tr style=\"text-align: right;\">\n",
       "      <th></th>\n",
       "      <th>MOF Name</th>\n",
       "      <th>CSD Ref Code</th>\n",
       "      <th>Justification</th>\n",
       "      <th>Reference</th>\n",
       "    </tr>\n",
       "  </thead>\n",
       "  <tbody>\n",
       "    <tr>\n",
       "      <th>0</th>\n",
       "      <td>Diaqua(4-Oxoheptanedioato)Zinc(II)&lt;|&gt;catena(Di...</td>\n",
       "      <td>CAJCUL</td>\n",
       "      <td>The document describes the synthesis and chara...</td>\n",
       "      <td>10.1107_S010827018300918X.md</td>\n",
       "    </tr>\n",
       "    <tr>\n",
       "      <th>1</th>\n",
       "      <td>[Ag(C18H16N2O2)(C4H2O4)0.5]H2O</td>\n",
       "      <td>HIPZEM</td>\n",
       "      <td>The MOF [Ag(C18H16N2O2)(C4H2O4)0.5]H2O matches...</td>\n",
       "      <td>10.1107_S1600536807054591.md</td>\n",
       "    </tr>\n",
       "    <tr>\n",
       "      <th>2</th>\n",
       "      <td>[Er(C6H6NO6)(H2O)]&lt;|&gt;Polymeric Aqua(Nitrilotri...</td>\n",
       "      <td>AFUQUN</td>\n",
       "      <td>The MOF [Er(C6H6NO6)(H2O)] matches the CSD ref...</td>\n",
       "      <td>10.1107_S010827010200464X.md</td>\n",
       "    </tr>\n",
       "    <tr>\n",
       "      <th>3</th>\n",
       "      <td>trans-[Co(dbm)2(-dppe-O2)]n&lt;|&gt;catena-poly[[bis...</td>\n",
       "      <td>LICDIL</td>\n",
       "      <td>The MOF described in the document matches the ...</td>\n",
       "      <td>10.1107_S010827010700933X.md</td>\n",
       "    </tr>\n",
       "    <tr>\n",
       "      <th>4</th>\n",
       "      <td>catena-poly[cadmium(II)-bis(-5amino-1,3,4-thia...</td>\n",
       "      <td>BOVPOS</td>\n",
       "      <td>The MOF described in the document matches the ...</td>\n",
       "      <td>10.1107_S160053680902371X.md</td>\n",
       "    </tr>\n",
       "  </tbody>\n",
       "</table>\n",
       "</div>"
      ],
      "text/plain": [
       "                                            MOF Name CSD Ref Code  \\\n",
       "0  Diaqua(4-Oxoheptanedioato)Zinc(II)<|>catena(Di...       CAJCUL   \n",
       "1                     [Ag(C18H16N2O2)(C4H2O4)0.5]H2O       HIPZEM   \n",
       "2  [Er(C6H6NO6)(H2O)]<|>Polymeric Aqua(Nitrilotri...       AFUQUN   \n",
       "3  trans-[Co(dbm)2(-dppe-O2)]n<|>catena-poly[[bis...       LICDIL   \n",
       "4  catena-poly[cadmium(II)-bis(-5amino-1,3,4-thia...       BOVPOS   \n",
       "\n",
       "                                       Justification  \\\n",
       "0  The document describes the synthesis and chara...   \n",
       "1  The MOF [Ag(C18H16N2O2)(C4H2O4)0.5]H2O matches...   \n",
       "2  The MOF [Er(C6H6NO6)(H2O)] matches the CSD ref...   \n",
       "3  The MOF described in the document matches the ...   \n",
       "4  The MOF described in the document matches the ...   \n",
       "\n",
       "                      Reference  \n",
       "0  10.1107_S010827018300918X.md  \n",
       "1  10.1107_S1600536807054591.md  \n",
       "2  10.1107_S010827010200464X.md  \n",
       "3  10.1107_S010827010700933X.md  \n",
       "4  10.1107_S160053680902371X.md  "
      ]
     },
     "execution_count": 16,
     "metadata": {},
     "output_type": "execute_result"
    }
   ],
   "source": [
    "mof_names_df = pd.read_csv(\"/mnt/c/Users/Amro/Desktop/DOI LISTS/Processing Batches - PDF/Batch 1/matching.csv\")\n",
    "mof_names_df.head()"
   ]
  },
  {
   "cell_type": "markdown",
   "metadata": {},
   "source": [
    "### Markdown files setup"
   ]
  },
  {
   "cell_type": "code",
   "execution_count": 17,
   "metadata": {},
   "outputs": [],
   "source": [
    "input_folder = \"/mnt/c/Users/Amro/Desktop/DOI LISTS/Processing Batches - PDF/Batch 1/md\"\n",
    "\n",
    "\n",
    "files = glob.glob(input_folder+\"/*/*.md\")"
   ]
  },
  {
   "cell_type": "code",
   "execution_count": 18,
   "metadata": {},
   "outputs": [],
   "source": [
    "files_in_matching = [file for file in files if os.path.basename(file) in list(mof_names_df[\"Reference\"])]"
   ]
  },
  {
   "cell_type": "markdown",
   "metadata": {},
   "source": [
    "### Running the Extraction Loop for General Property Extraction + CoV"
   ]
  },
  {
   "cell_type": "code",
   "execution_count": 19,
   "metadata": {},
   "outputs": [],
   "source": [
    "with open(\".apikeys\", 'r') as f:\n",
    "    os.environ[\"OPENAI_API_KEY\"] = f.read()\n",
    "\n",
    "from langchain_openai import ChatOpenAI\n",
    "\n",
    "llm = ChatOpenAI(model=\"gpt-4o\", temperature=0.1)\n",
    "parser_llm = ChatOpenAI(model=\"gpt-4o-mini\", temperature=0)"
   ]
  },
  {
   "cell_type": "code",
   "execution_count": 20,
   "metadata": {},
   "outputs": [],
   "source": [
    "result = {}\n",
    "result[\"MOF Name\"] = []\n",
    "result[\"Ref Code\"] = []\n",
    "result[\"Property\"] = []\n",
    "result[\"Value\"] = []\n",
    "result[\"Units\"] = []\n",
    "result[\"Condition\"] = []\n",
    "result[\"Summary\"] = []\n",
    "result[\"Reference\"] = []"
   ]
  },
  {
   "cell_type": "code",
   "execution_count": 21,
   "metadata": {},
   "outputs": [],
   "source": [
    "filtered_result = {}\n",
    "filtered_result[\"MOF Name\"] = []\n",
    "filtered_result[\"Ref Code\"] = []\n",
    "filtered_result[\"Property\"] = []\n",
    "filtered_result[\"Value\"] = []\n",
    "filtered_result[\"Units\"] = []\n",
    "filtered_result[\"Condition\"] = []\n",
    "filtered_result[\"Summary\"] = []\n",
    "filtered_result[\"Reference\"] = []"
   ]
  },
  {
   "cell_type": "code",
   "execution_count": 22,
   "metadata": {},
   "outputs": [],
   "source": [
    "ws_result = {}\n",
    "ws_result[\"MOF Name\"] = []\n",
    "ws_result[\"Ref Code\"] = []\n",
    "ws_result[\"Property\"] = []\n",
    "ws_result[\"Value\"] = []\n",
    "ws_result[\"Units\"] = []\n",
    "ws_result[\"Condition\"] = []\n",
    "ws_result[\"Summary\"] = []\n",
    "ws_result[\"Reference\"] = []"
   ]
  },
  {
   "cell_type": "code",
   "execution_count": 23,
   "metadata": {},
   "outputs": [],
   "source": [
    "WS_READ = WATER_STABILITY.replace(\"{RULES}\", RULES_WATER_STABILITY)\n",
    "WS_CHECK = VERIFICATION.replace(\"{VERF_RULES}\", VERF_RULES_WATER_STABILITY)\n",
    "WS_RECHECK = RECHECK.replace(\"{RECHECK_INSTRUCTIONS}\", WATER_STABILITY_RE.replace(\"{RULES}\", RULES_WATER_STABILITY))\n",
    "\n",
    "sp_dict = {\"read_prompts\": [WS_READ], \"verification_prompts\": [WS_CHECK], \"recheck_prompts\": [WS_RECHECK]}"
   ]
  },
  {
   "cell_type": "code",
   "execution_count": 24,
   "metadata": {},
   "outputs": [],
   "source": [
    "agent = ExtractionAgent(llm=llm, parser_llm=parser_llm)"
   ]
  },
  {
   "cell_type": "code",
   "execution_count": null,
   "metadata": {},
   "outputs": [
    {
     "name": "stdout",
     "output_type": "stream",
     "text": [
      "\n",
      "[Document(metadata={}, page_content='Structure Of Diaqua(4-Oxoheptanedioato)Zine(Ii), [Zn(Cthsos)(H20)2]\\n\\nBY ANASTAS KARIPIDES \\nDepartment of Chemistry, Miami University, Oxford, Ohio 45056, USA \\n(Received 17 May 1983; accepted 27 July 1983) \\nAbstract. M r = 273.6, monoclinic, P2/c, a = 9.307 (3), b=5.194(2), c=10.850(5)/k, fl=99.74(1) °, V= 516.9/~3, Z = 2, D m = 1.74, D x = 1.76 g cm -3, 2(Mo Ka) = 0.71069 A, g = 0.246 cm -1, F(000) = 280, T= 293 K. Final R =0.042 for 1172 unique observed reflections. The Zn 2÷ and 4-oxoheptanedioate ions are each constrained by the space group to lie on sites of C2 symmetry. The severely distorted \\'octahedral\\' ZnO 6 polyhedron consists of two water molecules \\n(cis configuration) at 2.020 (2) A and four carboxylate O atoms from two different 4-oxoheptanedioate ions at 2.213 (3) and 2.179 (2)/~. The oxo O atom is not coordinated to the Zn 2+ ion. Introduction. For some time, we have been interested in the variability of metal-ion binding by carboxylate ligands (Karipides, 1979; Karipides & Reed, 1980; Karipides, Ault & Reed, 1977). As part of these studies, the crystal structure of diaqua(4-oxoheptanedioato)- zinc(II) has been determined to investigate the nature of the zinc(II) coordination polyhedron as well as the role of the oxo O atom in the structure.\\n\\nExperimental. Colorless prisms grown by slow evaporation of an aqueous solution prepared by dissolving zinc carbonate in a solution of 4-oxoheptanedioic acid; approximate crystal dimensions 0.2 × 0.2 × 0.3 mm. Picker FACS-I diffractometer, MoKct. 12 reflections used for measuring lattice parameters. 20max = 55 °. Range of hkl: -12-11, 0-6, 0-14. 1302 reflections collected, 1172 unique data with F o > ½tr(Fo) , e(Fo) derived from previously defined off) \\n(Karipides, 1979). [Four strong reflections (100, 130, 002, 211)judged to be suffering from extinction removed.] No absorption corrections. No significant variation in intensities for two standard reflections. Structure solved using conventional heavy-atom methods. H-atom positions located from a difference Fourier synthesis. Full-matrix least-squares refinement \\n(based on F); anisotropic thermal parameters for non-H atoms; H positional and thermal parameters not varied; refinement converged to R = 0.042, R w = 0.063 with w=[o(Fo)]-2; S=2.02. (A/o)max=0\"01. 70 parameters refined. Final difference electron density map revealed no peaks >0.38 e/~-3. Atomic scattering factors for all atoms and anomalous-dispersion correc0108-2701/83/111541-02501.50 tions for Zn from International Tables for X-ray Crystallography (1974).\\n\\nDiscussion. Computer programs used have been described (Karipides, 1979). Final atom coordinates and isotropic thermal parameters are given in Table 1. A view of the structure and atom-numbering scheme is shown in Fig. 1. Bond distances and angles are given in Table 2. For two formula units in the unit cell, space group P2/c* requires that both the Zn 2+ and the 4-oxoheptanedioate ions lie on different crystallographic sites each with C 2 symmetry. Thus, the asymmetric unit contains half of the anion as well as one water molecule.\\n\\nThe irregular ZnO6 coordination polyhedron consists of two water molecules, O(14/) and O(Wi), and four carboxylate O atoms, O(1), O(2), O(1 i) and O(2 i) from two different 4-oxoheptanedioate ions. Although the coordination about Zn 2+ may be considered approximately \\'octahedral\\', extensive deviations from the idealized angles are present. This is primarily due to the small bite angle of 58.9 (1) ° from the carboxylate group. In addition, there is the somewhat large angle of 102.3 (1) ° between the coordinated water molecules.\\n\\nThe bidentate Zn:+-carboxylate coordination is symmetric with Zn-O(1) and Zn-O(2) bond distances of 2.213 (3) and 2.179 (2)/k respectively. With the exception of zinc acetate dihydrate (Zn-O, 2.17, 2.18 A) (van Niekerk, Schoening & Talbot, 1953), this mode of binding involving four-membered chelate rings has not been observed in previously reported Zn 2÷- \\ncarboxylate structures. It is particularly noteworthy that the Zn-O bond lengths in the two cases of symmetric bidentate coordination are appreciably longer than the average 2.02 + 0.08/~ (range 1.914 to 2.166/k) reported for unidentate carboxylate-Zn 2÷ \\ninteractions in anhydrous zinc acetate (Capilla & \\nAranda, 1979), zinc formate dihydrate (Burger & Fuess, 1977), zinc propionate (Goldschmiel, Rae & Stephenson, 1977), zinc 2-chlorobenzoate (Nakacho,\\n\\nLists of observed and calculated structure factors and anisotropic thermal parameters have been deposited with the British Library Lending Division as Supplementary Publication No. SUP \\n38775 (8 pp.). Copies may be obtained through The Executive Secretary, International Union of Crystallography, 5 Abbey Square, Chester CH1 2HU, England.\\n\\n© 1983 International Union of Crystallography \\nMisawa, Fujiwara, Wakahara & Tomita, 1976), zinc tetrafluorosuccinate tetrahydrate (Karipides, 1980), \\nzinc o-ethoxybenzoate monohydrate (Natarajan, Sake Gowda & CartE, 1974) and zinc malonate dihydrate \\n(Ray & Hathaway, 1982). This lengthening is the result of the steric constraint imposed on a carboxylate group in binding a small ion such as Zn 2+. The observed Zn2+...C(1) distance of 2.556 (3)A probably represents an approximate .limit for such an interaction (Smith, O\\'ReiUy, Kennard, Stadnicka & Oleksyn, 1981). Carboxylate four-membered chelate-ring formation is much more common with larger cations such as Ca 2+ (Einspahr & Bugg, 1977; Karipides et aL, \\n1977; Karipides & Reed, 1980).\\n\\nThe 4-oxoheptanedioate anion, which binds two different Zn 2÷ ions in a bidentate fashion from each of its two carboxylate groups, has C 2 symmetry. A~ twofold axis is collinear with the C(4)-O(3) bond direction. The central portion of the ligand is approxi-\\nTable 1. Fractional coordinates (xl04 for non-H atoms; x 103 for H) and equivalent isotropic tem-\\n\\nPerature Factors With E.S.D.\\'S\\n\\n4 \\' \" \\nBeq = ]~i~.jflijai.aj, isotropic temperature factors for H atoms were fixed at 5.0 A 2.\\n\\nx y z Beq(A 2) Zn 0 8226.3 (8) 2500 2.57 (2) O(1) -1088 (3) 7782 (6) 4150 (2) 3.8 (1) 0(2) -1616 (3) 5218 (4) 2573 (2) 3.2 (I) O(3) -5000 6709 (6) 2500 6.0 (2) O(W) 1424 (3) 10665 (5) 3515 (2) 3.3 (1) C(1) -1819 (3) 5930 (6) 3643 (2) 2.6 (I) C(2) -2890 (3) 4551 (7) 4332 (3) 3.3 (1) C(3) -4006 (4) 2885 (6) 3494 (4) 3.3 (1) C(4) -5000 4416 (9) 2500 3.2 (2) HI(C2) --343 582 489 H2(C2) -222 332 500 HI(C3) -473 186 400 H2(C3) -343 152 300 HI(OW) 124 1123 432 H2(OW) 178 1218 316\\n\\nZn-O(l) 2.213 (3) C(4)-O(3) 1.191 (6) Zn-O(2) 2.179 (2) O(W)...O(P ~) 2.727 (4) Zn-O(W) 2-020 (2) O(W)...0(2 ~) 2.663 (4) C(1)-O(1) t.251 (4) O(W)--H 1 (O W) 0.96 C(1)--O(2) 1.263 (4) O(W)-H2(OW) 0.96 C(1)-C(2) 1.522 (4) HI(OW)...O(P~ 1.77 C(2)-C(3) 1.528 (5) H2(OW)...O(2 H~) 1.76 C(3)-C(4) 1.521 (4) O(W)--Zn-O(W ~) 102.3 (I) O(1)--C(1)-O(2) 118.3 (3) O(W)-Zn-O(I) 88.4 (1) O(I)-C(1)-C(2) 119.9 (3) O(W)-Zn-O(P) 99.1 (1) O(2)-C(I)--C(2) 121.7 (3) O(W)-Zn-O(2) 145.4 (1) C(I)-C(2)--C(3) 114.2 (3) O(W)-Zn-O(2 ~) 94.4 (I) C(2)-C(3)-C(4) 113.3 (3) 0(1)-Zn-O(P) 168-0 (2) O(3)-C(4)-C(3) 121.5 (2) O(l)-Zn-O(2) 58.9 (1) C(3)-C(4)-C(3 ~v) If7.0 (4) O(2)--Zn--O (2 ~) 88.4 (1) O(W)--H 1 (O W). - • O(1 ~) 174 O(2)-Zn-O(P) 111.6 (1) O(W)-H2(OW)...O(2 \"~) 155 C(1)--O(l)-Zn 90-8 (2) C(1)-O(2)-Zn 92.0 (2)\\n\\nTable 2. Interatomic distances (A) and angles (o) \\nSymmetry code: (i) -x,y, ½ - z; (ii) -x, 2 -y, 1 - z; (iii) -x, 1 + y, \\n½-z; (iv) -1 -x,y, ½-z.\\n\\nFig. 1. A view of a portion of the structure showing the ZnO 6 coordination polyhedron, mode of ligand-Zn 2+ binding and the atom-numbering scheme.'), Document(metadata={}, page_content=\"Table 2. Interatomic distances (A) and angles (o) \\nSymmetry code: (i) -x,y, ½ - z; (ii) -x, 2 -y, 1 - z; (iii) -x, 1 + y, \\n½-z; (iv) -1 -x,y, ½-z.\\n\\nFig. 1. A view of a portion of the structure showing the ZnO 6 coordination polyhedron, mode of ligand-Zn 2+ binding and the atom-numbering scheme.\\n\\nmately planar as indicated by the torsion angle C(2)--C(3)-C(4)-C(3 i') of 171-3 °. The carboxylate group is twisted by about 18 ° from the C(1)- C(2)-C(3) plane. An interesting feature is that the oxo O atom, O(3), does not participate in any binding to Zn 2÷ ions nor is it involved in the hydrogen-bonding scheme. The shortest intermolecular contact to 0(3) is H2(C3 v) [(v) x, 1 + y, z] at 2.90 A, which is too long for a C-H...O hydrogen bond.\\n\\nThe crystal structure consists of chains of...(H20)2- \\nZnO2CCH2CH2C(O)CH2CH2COOZn(H20)2... units linked together along [100]. Besides ionic interactions, these chains are held together by hydrogen bonds involving both H atoms from the water molecules. Hydrogen-bonding parameters are given in Table 2.\\n\\nThe author is grateful to Miami University and the Faculty Committee for support of this research.\")]\n",
      "\n",
      "Action: reading the document\n",
      "finding all properties of name 1: Diaqua(4-Oxoheptanedioato)Zinc(II) ---name 2: catena(Diaqua-(4-oxoheptanedioato)-zinc(ii))\n",
      "\n",
      "Result: \n",
      "1.  -Property Name: Molecular Weight\n",
      "    -Property Value: 273.6\n",
      "    -Value Units: g/mol\n",
      "    -Conditions: Not specified\n",
      "    -Summary: \"M r = 273.6, monoclinic, P2/c, a = 9.307 (3), b=5.194(2), c=10.850(5)/k, fl=99.74(1) °, V= 516.9/~3, Z = 2, D m = 1.74, D x = 1.76 g cm -3, 2(Mo Ka) = 0.71069 A, g = 0.246 cm -1, F(000) = 280, T= 293 K.\"\n",
      "\n",
      "2.  -Property Name: Crystal System\n",
      "    -Property Value: Monoclinic\n",
      "    -Value Units: N/A\n",
      "    -Conditions: Not specified\n",
      "    -Summary: \"M r = 273.6, monoclinic, P2/c, a = 9.307 (3), b=5.194(2), c=10.850(5)/k, fl=99.74(1) °, V= 516.9/~3, Z = 2, D m = 1.74, D x = 1.76 g cm -3, 2(Mo Ka) = 0.71069 A, g = 0.246 cm -1, F(000) = 280, T= 293 K.\"\n",
      "\n",
      "3.  -Property Name: Space Group\n",
      "    -Property Value: P2/c\n",
      "    -Value Units: N/A\n",
      "    -Conditions: Not specified\n",
      "    -Summary: \"M r = 273.6, monoclinic, P2/c, a = 9.307 (3), b=5.194(2), c=10.850(5)/k, fl=99.74(1) °, V= 516.9/~3, Z = 2, D m = 1.74, D x = 1.76 g cm -3, 2(Mo Ka) = 0.71069 A, g = 0.246 cm -1, F(000) = 280, T= 293 K.\"\n",
      "\n",
      "4.  -Property Name: Unit Cell Dimensions\n",
      "    -Property Value: a = 9.307, b = 5.194, c = 10.850\n",
      "    -Value Units: Å\n",
      "    -Conditions: Not specified\n",
      "    -Summary: \"M r = 273.6, monoclinic, P2/c, a = 9.307 (3), b=5.194(2), c=10.850(5)/k, fl=99.74(1) °, V= 516.9/~3, Z = 2, D m = 1.74, D x = 1.76 g cm -3, 2(Mo Ka) = 0.71069 A, g = 0.246 cm -1, F(000) = 280, T= 293 K.\"\n",
      "\n",
      "5.  -Property Name: Unit Cell Volume\n",
      "    -Property Value: 516.9\n",
      "    -Value Units: Å³\n",
      "    -Conditions: Not specified\n",
      "    -Summary: \"M r = 273.6, monoclinic, P2/c, a = 9.307 (3), b=5.194(2), c=10.850(5)/k, fl=99.74(1) °, V= 516.9/~3, Z = 2, D m = 1.74, D x = 1.76 g cm -3, 2(Mo Ka) = 0.71069 A, g = 0.246 cm -1, F(000) = 280, T= 293 K.\"\n",
      "\n",
      "6.  -Property Name: Density (Measured)\n",
      "    -Property Value: 1.74\n",
      "    -Value Units: g/cm³\n",
      "    -Conditions: Not specified\n",
      "    -Summary: \"M r = 273.6, monoclinic, P2/c, a = 9.307 (3), b=5.194(2), c=10.850(5)/k, fl=99.74(1) °, V= 516.9/~3, Z = 2, D m = 1.74, D x = 1.76 g cm -3, 2(Mo Ka) = 0.71069 A, g = 0.246 cm -1, F(000) = 280, T= 293 K.\"\n",
      "\n",
      "7.  -Property Name: Density (Calculated)\n",
      "    -Property Value: 1.76\n",
      "    -Value Units: g/cm³\n",
      "    -Conditions: Not specified\n",
      "    -Summary: \"M r = 273.6, monoclinic, P2/c, a = 9.307 (3), b=5.194(2), c=10.850(5)/k, fl=99.74(1) °, V= 516.9/~3, Z = 2, D m = 1.74, D x = 1.76 g cm -3, 2(Mo Ka) = 0.71069 A, g = 0.246 cm -1, F(000) = 280, T= 293 K.\"\n",
      "\n",
      "8.  -Property Name: Coordination Geometry\n",
      "    -Property Value: Distorted Octahedral\n",
      "    -Value Units: N/A\n",
      "    -Conditions: Not specified\n",
      "    -Summary: \"The severely distorted 'octahedral' ZnO 6 polyhedron consists of two water molecules (cis configuration) at 2.020 (2) A and four carboxylate O atoms from two different 4-oxoheptanedioate ions at 2.213 (3) and 2.179 (2)/~.\"\n",
      "\n",
      "9.  -Property Name: Zn-O Bond Lengths\n",
      "    -Property Value: 2.020, 2.213, 2.179\n",
      "    -Value Units: Å\n",
      "    -Conditions: Not specified\n",
      "    -Summary: \"The severely distorted 'octahedral' ZnO 6 polyhedron consists of two water molecules (cis configuration) at 2.020 (2) A and four carboxylate O atoms from two different 4-oxoheptanedioate ions at 2.213 (3) and 2.179 (2)/~.\"\n",
      "\n",
      "10.  -Property Name: Symmetry\n",
      "    -Property Value: C2\n",
      "    -Value Units: N/A\n",
      "    -Conditions: Not specified\n",
      "    -Summary: \"The Zn 2+ and 4-oxoheptanedioate ions are each constrained by the space group to lie on sites of C2 symmetry.\"\n",
      "\n",
      "Parsed Result: \n",
      "1- Molecular Weight = 273.6g/mol ; conditions: Not specified ; Justification: M r = 273.6, monoclinic, P2/c, a = 9.307 (3), b=5.194(2), c=10.850(5)/k, fl=99.74(1) °, V= 516.9/~3, Z = 2, D m = 1.74, D x = 1.76 g cm -3, 2(Mo Ka) = 0.71069 A, g = 0.246 cm -1, F(000) = 280, T= 293 K.\n",
      "2- Crystal System = MonoclinicN/A ; conditions: Not specified ; Justification: M r = 273.6, monoclinic, P2/c, a = 9.307 (3), b=5.194(2), c=10.850(5)/k, fl=99.74(1) °, V= 516.9/~3, Z = 2, D m = 1.74, D x = 1.76 g cm -3, 2(Mo Ka) = 0.71069 A, g = 0.246 cm -1, F(000) = 280, T= 293 K.\n",
      "3- Space Group = P2/cN/A ; conditions: Not specified ; Justification: M r = 273.6, monoclinic, P2/c, a = 9.307 (3), b=5.194(2), c=10.850(5)/k, fl=99.74(1) °, V= 516.9/~3, Z = 2, D m = 1.74, D x = 1.76 g cm -3, 2(Mo Ka) = 0.71069 A, g = 0.246 cm -1, F(000) = 280, T= 293 K.\n",
      "4- Unit Cell Dimensions = a = 9.307, b = 5.194, c = 10.850Å ; conditions: Not specified ; Justification: M r = 273.6, monoclinic, P2/c, a = 9.307 (3), b=5.194(2), c=10.850(5)/k, fl=99.74(1) °, V= 516.9/~3, Z = 2, D m = 1.74, D x = 1.76 g cm -3, 2(Mo Ka) = 0.71069 A, g = 0.246 cm -1, F(000) = 280, T= 293 K.\n",
      "5- Unit Cell Volume = 516.9Å³ ; conditions: Not specified ; Justification: M r = 273.6, monoclinic, P2/c, a = 9.307 (3), b=5.194(2), c=10.850(5)/k, fl=99.74(1) °, V= 516.9/~3, Z = 2, D m = 1.74, D x = 1.76 g cm -3, 2(Mo Ka) = 0.71069 A, g = 0.246 cm -1, F(000) = 280, T= 293 K.\n",
      "6- Density (Measured) = 1.74g/cm³ ; conditions: Not specified ; Justification: M r = 273.6, monoclinic, P2/c, a = 9.307 (3), b=5.194(2), c=10.850(5)/k, fl=99.74(1) °, V= 516.9/~3, Z = 2, D m = 1.74, D x = 1.76 g cm -3, 2(Mo Ka) = 0.71069 A, g = 0.246 cm -1, F(000) = 280, T= 293 K.\n",
      "7- Density (Calculated) = 1.76g/cm³ ; conditions: Not specified ; Justification: M r = 273.6, monoclinic, P2/c, a = 9.307 (3), b=5.194(2), c=10.850(5)/k, fl=99.74(1) °, V= 516.9/~3, Z = 2, D m = 1.74, D x = 1.76 g cm -3, 2(Mo Ka) = 0.71069 A, g = 0.246 cm -1, F(000) = 280, T= 293 K.\n",
      "8- Coordination Geometry = Distorted OctahedralN/A ; conditions: Not specified ; Justification: The severely distorted 'octahedral' ZnO 6 polyhedron consists of two water molecules (cis configuration) at 2.020 (2) A and four carboxylate O atoms from two different 4-oxoheptanedioate ions at 2.213 (3) and 2.179 (2)/~.\n",
      "9- Zn-O Bond Lengths = 2.020, 2.213, 2.179Å ; conditions: Not specified ; Justification: The severely distorted 'octahedral' ZnO 6 polyhedron consists of two water molecules (cis configuration) at 2.020 (2) A and four carboxylate O atoms from two different 4-oxoheptanedioate ions at 2.213 (3) and 2.179 (2)/~.\n",
      "10- Symmetry = C2N/A ; conditions: Not specified ; Justification: The Zn 2+ and 4-oxoheptanedioate ions are each constrained by the space group to lie on sites of C2 symmetry.\n",
      "\n",
      "\n",
      "\n",
      "\n",
      "Filtered Output: \n",
      "density = 1.74g/cm³ ; conditions: Not specified ; Justification: M r = 273.6, monoclinic, P2/c, a = 9.307 (3), b=5.194(2), c=10.850(5)/k, fl=99.74(1) °, V= 516.9/~3, Z = 2, D m = 1.74, D x = 1.76 g cm -3, 2(Mo Ka) = 0.71069 A, g = 0.246 cm -1, F(000) = 280, T= 293 K.\n",
      "crystal system = MonoclinicN/A ; conditions: Not specified ; Justification: M r = 273.6, monoclinic, P2/c, a = 9.307 (3), b=5.194(2), c=10.850(5)/k, fl=99.74(1) °, V= 516.9/~3, Z = 2, D m = 1.74, D x = 1.76 g cm -3, 2(Mo Ka) = 0.71069 A, g = 0.246 cm -1, F(000) = 280, T= 293 K.\n",
      "cell volume = 516.9Å³ ; conditions: Not specified ; Justification: M r = 273.6, monoclinic, P2/c, a = 9.307 (3), b=5.194(2), c=10.850(5)/k, fl=99.74(1) °, V= 516.9/~3, Z = 2, D m = 1.74, D x = 1.76 g cm -3, 2(Mo Ka) = 0.71069 A, g = 0.246 cm -1, F(000) = 280, T= 293 K.\n",
      "space group = P2/cN/A ; conditions: Not specified ; Justification: M r = 273.6, monoclinic, P2/c, a = 9.307 (3), b=5.194(2), c=10.850(5)/k, fl=99.74(1) °, V= 516.9/~3, Z = 2, D m = 1.74, D x = 1.76 g cm -3, 2(Mo Ka) = 0.71069 A, g = 0.246 cm -1, F(000) = 280, T= 293 K.\n",
      "molecular weight = 273.6g/mol ; conditions: Not specified ; Justification: M r = 273.6, monoclinic, P2/c, a = 9.307 (3), b=5.194(2), c=10.850(5)/k, fl=99.74(1) °, V= 516.9/~3, Z = 2, D m = 1.74, D x = 1.76 g cm -3, 2(Mo Ka) = 0.71069 A, g = 0.246 cm -1, F(000) = 280, T= 293 K.\n",
      "density = 1.76g/cm³ ; conditions: Not specified ; Justification: M r = 273.6, monoclinic, P2/c, a = 9.307 (3), b=5.194(2), c=10.850(5)/k, fl=99.74(1) °, V= 516.9/~3, Z = 2, D m = 1.74, D x = 1.76 g cm -3, 2(Mo Ka) = 0.71069 A, g = 0.246 cm -1, F(000) = 280, T= 293 K.\n",
      "\n",
      "\n",
      "Reading to find the Water Stability of Diaqua(4-Oxoheptanedioato)Zinc(II)<|>catena(Diaqua-(4-oxoheptanedioato)-zinc(ii)) specifically\n",
      "LLM Output: \n",
      "1. The water stability of the MOF: Unstable\n",
      "\n",
      "2. Testing conditions for water stability: Not provided\n",
      "\n",
      "3. The exact sentences without any changes from the document that justifies your decision: \n",
      "   - \"Colorless prisms grown by slow evaporation of an aqueous solution prepared by dissolving zinc carbonate in a solution of 4-oxoheptanedioic acid; approximate crystal dimensions 0.2 × 0.2 × 0.3 mm.\" \n",
      "\n",
      "This sentence indicates that the MOF is soluble in an aqueous solution, which aligns with the criteria for being classified as \"Unstable\" in water.\n",
      "\n",
      "Parsed Output:\n",
      "water stability = Unstable ; conditions: Not provided ; Justification: Colorless prisms grown by slow evaporation of an aqueous solution prepared by dissolving zinc carbonate in a solution of 4-oxoheptanedioic acid; approximate crystal dimensions 0.2 × 0.2 × 0.3 mm. This sentence indicates that the MOF is soluble in an aqueous solution, which aligns with the criteria for being classified as \"Unstable\" in water.\n",
      "\n",
      "Verifying the extraction:\n",
      "\n",
      "Reading the document again to find a different justification/label\n",
      "LLM Output from Rechecking: \n",
      "1. The water stability of the MOF: Not provided\n",
      "\n",
      "2. Testing conditions for water stability: Not provided\n",
      "\n",
      "3. Justification: Not provided\n",
      "\n",
      "Parsed Output:\n",
      "water stability = Not provided ; conditions: Not provided ; Justification: The water stability of the MOF: Not provided\n",
      "[Property(name='density', value='1.74', units='g/cm³', condition='Not specified', summary='M r = 273.6, monoclinic, P2/c, a = 9.307 (3), b=5.194(2), c=10.850(5)/k, fl=99.74(1) °, V= 516.9/~3, Z = 2, D m = 1.74, D x = 1.76 g cm -3, 2(Mo Ka) = 0.71069 A, g = 0.246 cm -1, F(000) = 280, T= 293 K.'), Property(name='crystal system', value='Monoclinic', units='N/A', condition='Not specified', summary='M r = 273.6, monoclinic, P2/c, a = 9.307 (3), b=5.194(2), c=10.850(5)/k, fl=99.74(1) °, V= 516.9/~3, Z = 2, D m = 1.74, D x = 1.76 g cm -3, 2(Mo Ka) = 0.71069 A, g = 0.246 cm -1, F(000) = 280, T= 293 K.'), Property(name='cell volume', value='516.9', units='Å³', condition='Not specified', summary='M r = 273.6, monoclinic, P2/c, a = 9.307 (3), b=5.194(2), c=10.850(5)/k, fl=99.74(1) °, V= 516.9/~3, Z = 2, D m = 1.74, D x = 1.76 g cm -3, 2(Mo Ka) = 0.71069 A, g = 0.246 cm -1, F(000) = 280, T= 293 K.'), Property(name='space group', value='P2/c', units='N/A', condition='Not specified', summary='M r = 273.6, monoclinic, P2/c, a = 9.307 (3), b=5.194(2), c=10.850(5)/k, fl=99.74(1) °, V= 516.9/~3, Z = 2, D m = 1.74, D x = 1.76 g cm -3, 2(Mo Ka) = 0.71069 A, g = 0.246 cm -1, F(000) = 280, T= 293 K.'), Property(name='molecular weight', value='273.6', units='g/mol', condition='Not specified', summary='M r = 273.6, monoclinic, P2/c, a = 9.307 (3), b=5.194(2), c=10.850(5)/k, fl=99.74(1) °, V= 516.9/~3, Z = 2, D m = 1.74, D x = 1.76 g cm -3, 2(Mo Ka) = 0.71069 A, g = 0.246 cm -1, F(000) = 280, T= 293 K.'), Property(name='density', value='1.76', units='g/cm³', condition='Not specified', summary='M r = 273.6, monoclinic, P2/c, a = 9.307 (3), b=5.194(2), c=10.850(5)/k, fl=99.74(1) °, V= 516.9/~3, Z = 2, D m = 1.74, D x = 1.76 g cm -3, 2(Mo Ka) = 0.71069 A, g = 0.246 cm -1, F(000) = 280, T= 293 K.')]\n",
      "1- molecular weight = 273.6g/mol ; conditions: Not specified ; Justification: M r = 273.6, monoclinic, P2/c, a = 9.307 (3), b=5.194(2), c=10.850(5)/k, fl=99.74(1) °, V= 516.9/~3, Z = 2, D m = 1.74, D x = 1.76 g cm -3, 2(Mo Ka) = 0.71069 A, g = 0.246 cm -1, F(000) = 280, T= 293 K.\n",
      "2- crystal system = MonoclinicN/A ; conditions: Not specified ; Justification: M r = 273.6, monoclinic, P2/c, a = 9.307 (3), b=5.194(2), c=10.850(5)/k, fl=99.74(1) °, V= 516.9/~3, Z = 2, D m = 1.74, D x = 1.76 g cm -3, 2(Mo Ka) = 0.71069 A, g = 0.246 cm -1, F(000) = 280, T= 293 K.\n",
      "3- space group = P2/cN/A ; conditions: Not specified ; Justification: M r = 273.6, monoclinic, P2/c, a = 9.307 (3), b=5.194(2), c=10.850(5)/k, fl=99.74(1) °, V= 516.9/~3, Z = 2, D m = 1.74, D x = 1.76 g cm -3, 2(Mo Ka) = 0.71069 A, g = 0.246 cm -1, F(000) = 280, T= 293 K.\n",
      "4- Unit Cell Dimensions = a = 9.307, b = 5.194, c = 10.850Å ; conditions: Not specified ; Justification: M r = 273.6, monoclinic, P2/c, a = 9.307 (3), b=5.194(2), c=10.850(5)/k, fl=99.74(1) °, V= 516.9/~3, Z = 2, D m = 1.74, D x = 1.76 g cm -3, 2(Mo Ka) = 0.71069 A, g = 0.246 cm -1, F(000) = 280, T= 293 K.\n",
      "5- cell volume = 516.9Å³ ; conditions: Not specified ; Justification: M r = 273.6, monoclinic, P2/c, a = 9.307 (3), b=5.194(2), c=10.850(5)/k, fl=99.74(1) °, V= 516.9/~3, Z = 2, D m = 1.74, D x = 1.76 g cm -3, 2(Mo Ka) = 0.71069 A, g = 0.246 cm -1, F(000) = 280, T= 293 K.\n",
      "6- density = 1.74g/cm³ ; conditions: Not specified ; Justification: M r = 273.6, monoclinic, P2/c, a = 9.307 (3), b=5.194(2), c=10.850(5)/k, fl=99.74(1) °, V= 516.9/~3, Z = 2, D m = 1.74, D x = 1.76 g cm -3, 2(Mo Ka) = 0.71069 A, g = 0.246 cm -1, F(000) = 280, T= 293 K.\n",
      "7- density = 1.76g/cm³ ; conditions: Not specified ; Justification: M r = 273.6, monoclinic, P2/c, a = 9.307 (3), b=5.194(2), c=10.850(5)/k, fl=99.74(1) °, V= 516.9/~3, Z = 2, D m = 1.74, D x = 1.76 g cm -3, 2(Mo Ka) = 0.71069 A, g = 0.246 cm -1, F(000) = 280, T= 293 K.\n",
      "8- Coordination Geometry = Distorted OctahedralN/A ; conditions: Not specified ; Justification: The severely distorted 'octahedral' ZnO 6 polyhedron consists of two water molecules (cis configuration) at 2.020 (2) A and four carboxylate O atoms from two different 4-oxoheptanedioate ions at 2.213 (3) and 2.179 (2)/~.\n",
      "9- Zn-O Bond Lengths = 2.020, 2.213, 2.179Å ; conditions: Not specified ; Justification: The severely distorted 'octahedral' ZnO 6 polyhedron consists of two water molecules (cis configuration) at 2.020 (2) A and four carboxylate O atoms from two different 4-oxoheptanedioate ions at 2.213 (3) and 2.179 (2)/~.\n",
      "10- Symmetry = C2N/A ; conditions: Not specified ; Justification: The Zn 2+ and 4-oxoheptanedioate ions are each constrained by the space group to lie on sites of C2 symmetry.\n",
      "\n"
     ]
    },
    {
     "ename": "AttributeError",
     "evalue": "'tuple' object has no attribute 'name'",
     "output_type": "error",
     "traceback": [
      "\u001b[0;31m---------------------------------------------------------------------------\u001b[0m",
      "\u001b[0;31mAttributeError\u001b[0m                            Traceback (most recent call last)",
      "Cell \u001b[0;32mIn[25], line 33\u001b[0m\n\u001b[1;32m     31\u001b[0m result[\u001b[38;5;124m\"\u001b[39m\u001b[38;5;124mRef Code\u001b[39m\u001b[38;5;124m\"\u001b[39m] \u001b[38;5;241m=\u001b[39m refcode\n\u001b[1;32m     32\u001b[0m result[\u001b[38;5;124m\"\u001b[39m\u001b[38;5;124mReference\u001b[39m\u001b[38;5;124m\"\u001b[39m] \u001b[38;5;241m=\u001b[39m reference\n\u001b[0;32m---> 33\u001b[0m result[\u001b[38;5;124m\"\u001b[39m\u001b[38;5;124mProperty\u001b[39m\u001b[38;5;124m\"\u001b[39m] \u001b[38;5;241m=\u001b[39m \u001b[43mj\u001b[49m\u001b[38;5;241;43m.\u001b[39;49m\u001b[43mname\u001b[49m\n\u001b[1;32m     34\u001b[0m result[\u001b[38;5;124m\"\u001b[39m\u001b[38;5;124mUnits\u001b[39m\u001b[38;5;124m\"\u001b[39m] \u001b[38;5;241m=\u001b[39m j\u001b[38;5;241m.\u001b[39munits\n\u001b[1;32m     35\u001b[0m result[\u001b[38;5;124m\"\u001b[39m\u001b[38;5;124mValue\u001b[39m\u001b[38;5;124m\"\u001b[39m] \u001b[38;5;241m=\u001b[39m j\u001b[38;5;241m.\u001b[39mvalue\n",
      "\u001b[0;31mAttributeError\u001b[0m: 'tuple' object has no attribute 'name'"
     ]
    }
   ],
   "source": [
    "for i in range(len(mof_names_df)):\n",
    "    if mof_names_df.iloc[i][\"Reference\"] not in [os.path.basename(file) for file in files_in_matching]:\n",
    "        continue\n",
    "\n",
    "    mof = mof_names_df.iloc[i][\"MOF Name\"]\n",
    "    refcode = mof_names_df.iloc[i][\"CSD Ref Code\"]\n",
    "    reference = mof_names_df.iloc[i][\"Reference\"]\n",
    "    \n",
    "    response = agent.agent_response(mof, [file for file in files_in_matching if os.path.basename(file) == reference][0],\n",
    "                                    EXTRACTION, [\"Water Stability\"], sp_dict, CoV=True, fuzz_threshold=85)\n",
    "    \n",
    "    general_extraction = response[0]\n",
    "\n",
    "    filtered = general_extraction[0]\n",
    "    all_props = general_extraction[1]\n",
    "\n",
    "    print(filtered)\n",
    "    print(all_props)\n",
    "\n",
    "    for j in filtered:\n",
    "        filtered_result[\"MOF Name\"] = mof\n",
    "        filtered_result[\"Ref Code\"] = refcode\n",
    "        filtered_result[\"Reference\"] = reference\n",
    "        filtered_result[\"Property\"] = j.name\n",
    "        filtered_result[\"Units\"] = j.units\n",
    "        filtered_result[\"Value\"] = j.value\n",
    "        filtered_result[\"Condition\"] = j.condition\n",
    "        filtered_result[\"Summary\"] = j.summary\n",
    "    for j in all_props.properties:\n",
    "        result[\"MOF Name\"] = mof\n",
    "        result[\"Ref Code\"] = refcode\n",
    "        result[\"Reference\"] = reference\n",
    "        result[\"Property\"] = j.name\n",
    "        result[\"Units\"] = j.units\n",
    "        result[\"Value\"] = j.value\n",
    "        result[\"Condition\"] = j.condition\n",
    "        result[\"Summary\"] = j.summary\n",
    "    \n",
    "    specific_extraction = response[1]\n",
    "\n",
    "    ws = specific_extraction[0]\n",
    "\n",
    "    for j in ws:\n",
    "        ws_result[\"MOF Name\"] = mof\n",
    "        ws_result[\"Ref Code\"] = refcode\n",
    "        ws_result[\"Reference\"] = reference\n",
    "        ws_result[\"Property\"] = j.name\n",
    "        ws_result[\"Units\"] = j.units\n",
    "        ws_result[\"Value\"] = j.value\n",
    "        ws_result[\"Condition\"] = j.condition\n",
    "        ws_result[\"Summary\"] = j.summary\n",
    "\n",
    "\n",
    "all_props = pd.DataFrame(result)\n",
    "filtered = pd.DataFrame(filtered_result)\n",
    "ws = pd.DataFrame(ws_result)\n",
    "    "
   ]
  },
  {
   "cell_type": "code",
   "execution_count": null,
   "metadata": {},
   "outputs": [
    {
     "ename": "AttributeError",
     "evalue": "'tuple' object has no attribute 'name'",
     "output_type": "error",
     "traceback": [
      "\u001b[0;31m---------------------------------------------------------------------------\u001b[0m",
      "\u001b[0;31mAttributeError\u001b[0m                            Traceback (most recent call last)",
      "Cell \u001b[0;32mIn[13], line 1\u001b[0m\n\u001b[0;32m----> 1\u001b[0m \u001b[43mi\u001b[49m\u001b[38;5;241;43m.\u001b[39;49m\u001b[43mname\u001b[49m()\n",
      "\u001b[0;31mAttributeError\u001b[0m: 'tuple' object has no attribute 'name'"
     ]
    }
   ],
   "source": [
    "j.name()"
   ]
  },
  {
   "cell_type": "code",
   "execution_count": null,
   "metadata": {},
   "outputs": [],
   "source": [
    "all_props.to_csv(\"/mnt/c/Users/Amro/Desktop/all.csv\")\n",
    "filtered.to_csv(\"/mnt/c/Users/Amro/Desktop/fil.csv\")\n",
    "ws.to_csv(\"/mnt/c/Users/Amro/Desktop/ws.csv\")"
   ]
  }
 ],
 "metadata": {
  "kernelspec": {
   "display_name": ".venv",
   "language": "python",
   "name": "python3"
  },
  "language_info": {
   "codemirror_mode": {
    "name": "ipython",
    "version": 3
   },
   "file_extension": ".py",
   "mimetype": "text/x-python",
   "name": "python",
   "nbconvert_exporter": "python",
   "pygments_lexer": "ipython3",
   "version": "3.10.12"
  }
 },
 "nbformat": 4,
 "nbformat_minor": 2
}
