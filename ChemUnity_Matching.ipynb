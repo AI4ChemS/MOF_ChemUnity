{
 "cells": [
  {
   "cell_type": "markdown",
   "metadata": {},
   "source": [
    "# MOF ChemUnity Matching "
   ]
  },
  {
   "cell_type": "markdown",
   "metadata": {},
   "source": [
    "The purpose of this notebook is to use our developed tools to match CSD Ref Codes to MOF Names/Co-References found in their synthesis papers. "
   ]
  },
  {
   "cell_type": "markdown",
   "metadata": {},
   "source": [
    "### Preparation of CSD Data"
   ]
  },
  {
   "cell_type": "markdown",
   "metadata": {},
   "source": [
    "First, the CSD Data must be prepared to be injected into the prompt. For each DOI we wish to process, we must gather the relevant info for each associated CSD code.\n",
    "\n",
    "Over 20 000 DOIs have been selected for text mining. We chose MOFs that:\n",
    "- Are found in CSD \n",
    "- Are also found in either QMOF or CoRE Databases\n",
    "\n",
    "This way, every MOF in our database has relevant computational properties already calculated (found in QMOF or CoRE). The properties can be easily added to our database at the end. "
   ]
  },
  {
   "cell_type": "code",
   "execution_count": 1,
   "metadata": {},
   "outputs": [
    {
     "name": "stderr",
     "output_type": "stream",
     "text": [
      "/home/tom-pruyn/Documents/Project/MOF_ChemUnity/MOF_ChemUnity/src/MOF_ChemUnity/Agents/BaseAgent.py:33: LangChainDeprecationWarning: The class `OpenAIEmbeddings` was deprecated in LangChain 0.0.9 and will be removed in 1.0. An updated version of the class exists in the langchain-openai package and should be used instead. To use it run `pip install -U langchain-openai` and import as `from langchain_openai import OpenAIEmbeddings`.\n",
      "  embeddings=OpenAIEmbeddings(model=\"text-embedding-ada-002\"),\n"
     ]
    }
   ],
   "source": [
    "# Imports\n",
    "import pandas as pd\n",
    "import glob\n",
    "import os\n",
    "\n",
    "from src.MOF_ChemUnity.utils.DataPrep import Data_Prep\n",
    "from src.MOF_ChemUnity.Agents.MatchingAgent import MatchingAgent"
   ]
  },
  {
   "cell_type": "code",
   "execution_count": 2,
   "metadata": {},
   "outputs": [],
   "source": [
    "# Define path to folder containing all papers to be text mined from\n",
    "paper_folder_path = '/home/tom-pruyn/Documents/TDM Papers/Processing Batches-PDF/Batch 1'\n",
    "\n",
    "# Define path to file containing all CSD info extracted from CSD API\n",
    "csd_info_path = '/home/tom-pruyn/Documents/Project/chain-eunomia/Chain_Eunomia/data/Benchmark_set_2/Ground Truth/CSD_Info.csv'"
   ]
  },
  {
   "cell_type": "code",
   "execution_count": 3,
   "metadata": {},
   "outputs": [],
   "source": [
    "# List of columns we want to take from our master CSD file and put into our prompt\n",
    "feature_list = [\n",
    "    \"CSD code\", \n",
    "    \"DOI\",\n",
    "    \"Chemical Name\",\n",
    "    \"Space group\", \n",
    "    \"Metal types\",\n",
    "    \"Molecular formula\",\n",
    "    \"Synonyms\",\n",
    "    \"a\",\n",
    "    \"b\",\n",
    "    \"c\"\n",
    "]"
   ]
  },
  {
   "cell_type": "code",
   "execution_count": 4,
   "metadata": {},
   "outputs": [],
   "source": [
    "# Initialize Data_Prep class\n",
    "Prepare_Data = Data_Prep(paper_folder_path, csd_info_path,feature_list)"
   ]
  },
  {
   "cell_type": "code",
   "execution_count": 5,
   "metadata": {},
   "outputs": [
    {
     "name": "stdout",
     "output_type": "stream",
     "text": [
      "\n",
      "WARNING: 161 DOIs not found in Master CSV:\n",
      "Missing DOIs: {'10.1107/S0567740876002719', '10.1107/S0108270110009510', '10.1107/S0108270191004341', '10.1107/S1600536804026996', '10.1107/S1600536804010438', '10.1107/S1600536806033654', '10.1107/S1600536809007879', '10.1107/S0108270197004009', '10.1107/S0108270102001798', '10.1107/S0108270111008195', '10.1107/S0108270113026450', '10.1107/S1600536809043839', '10.1107/S1600536805031995', '10.1107/S0108270193011473', '10.1107/S1600536807009282', '10.1107/S0108270104033943', '10.1107/S0108270197013061', '10.1107/S1600536807020831', '10.1107/S1600536808027657', '10.1107/S0108270104011011', '10.1107/S160053680400251X', '10.1107/S0108270108041504', '10.1107/S1600536808011100', '10.1107/S1600536806045740', '10.1107/S1600536810013735', '10.1107/S1600536810007129', '10.1107/S0567740873003523', '10.1107/S1600536810037384', '10.1107/S1600536808030055', '10.1107/S0108270103026568', '10.1107/S1600536811015091', '10.1107/S1600536807062435', '10.1107/S1600536807067839', '10.1107/S1600536810043205', '10.1107/S056774087700778X', '10.1107/S1600536804010402', '10.1107/S1600536806042255', '10.1107/S0108270100007435', '10.1107/S0108270113013000', '10.1107/S0108270105022511', '10.1107/S010827010706249X', '10.1107/S0108270104026757', '10.1107/S0567740873001949', '10.1107/S1600536806055553', '10.1107/S1600536807039220', '10.1107/S1600536810040857', '10.1107/S1600536810014091', '10.1107/S0108270183005429', '10.1107/S0108270105004002', '10.1107/S0108270109047015', '10.1107/S1600536803027818', '10.1107/S1600536810003879', '10.1107/S1600536809013889', '10.1107/S0108270104026502', '10.1107/S0108270190007624', '10.1107/S0108270100016589', '10.1107/S1600536807014730', '10.1107/S0108270104022280', '10.1107/S0108270198006660', '10.1107/S1600536805017150', '10.1107/S1600536807021654', '10.1107/S1600536806051270', '10.1107/S1600536804026273', '10.1107/S0108768111030692', '10.1107/S1600536806040360', '10.1107/S0108270113019045', '10.1107/S1600536810041590', '10.1107/S1600536805042819', '10.1107/S160053681003984X', '10.1107/S0108270191010764', '10.1107/S0108270101004231', '10.1107/S160053680200805X', '10.1107/S1600536811014759', '10.1107/S1600536807035726', '10.1107/S1600536805026966', '10.1107/S1600536805032289', '10.1107/S1600536804028673', '10.1107/S1600536804027461', '10.1107/S1600536803021445', '10.1107/S0108270189005238', '10.1107/S0108270108038146', '10.1107/S1600536808001967', '10.1107/S0108270189005366', '10.1107/S1600536809051381', '10.1107/S1600536801001660', '10.1107/S1600536809036150', '10.1107/S1600536804011614', '10.1107/S0108270188000988', '10.1107/S0108270108043783', '10.1107/S1600536808025233', '10.1107/S1600536810010536', '10.1107/S1600536810014753', '10.1107/S1600536804025139', '10.1107/S0567740879010967', '10.1107/S1600536808024197', '10.1107/S0108270104029531', '10.1107/S1600536805038754', '10.1107/S1600536805013632', '10.1107/S010827010701459X', '10.1107/S1600536805000516', '10.1107/S0108270108026760', '10.1107/S0108768109028626', '10.1107/S0108270196007123', '10.1107/S0108270199001171', '10.1107/S1600536809018649', '10.1107/S1600536806017636', '10.1107/S0108270198016709', '10.1107/S0108270107027862', '10.1107/S0108270185004498', '10.1107/S1600536805036998', '10.1107/S0108270196012772', '10.1107/S1600536806001097', '10.1107/S0108270192001288', '10.1107/S1600536806018733', '10.1107/S0108270110009984', '10.1107/S1600536810001820', '10.1107/S1600536809045255', '10.1107/S1600536810039176', '10.1107/S1600536806027942', '10.1107/S1600536810004162', '10.1107/S1600536809013580', '10.1107/S0108270101001615', '10.1107/S0108270100013846', '10.1107/S1600536803006871', '10.1107/S010827011302475X', '10.1107/S1600536806053475', '10.1107/S160053680501514X', '10.1107/S0108270191009484', '10.1107/S1600536805003661', '10.1107/S0108270112025577', '10.1107/S1600536811000419', '10.1107/S160053680700709X', '10.1107/S1600536811018290', '10.1107/S1600536809005212', '10.1107/S1600536807067165', '10.1107/S1600536804012565', '10.1107/S0108270199011750', '10.1107/S1600536806010841', '10.1107/S0108270195009176', '10.1107/S0108270113003892', '10.1107/S0108270187009120', '10.1107/S1600536806042899', '10.1107/S1600536811020861', '10.1107/S0567740871005958', '10.1107/S1600536809051721', '10.1107/S1600536811016989', '10.1107/S0108270196003721', '10.1107/S1600536811010099', '10.1107/S1600536807067979', '10.1107/S1600536810045903', '10.1107/S160053680402999X', '10.1107/S1600536810001182', '10.1107/S1600536801009965', '10.1107/S1600536806006088', '10.1107/S1600536804023724', '10.1107/S1600536811001814', '10.1107/S1600536811022471', '10.1107/S0108270188014271', '10.1107/S1600536809052325', '10.1107/S160053680500053X', '10.1107/S1600536810048634'}\n",
      "\n"
     ]
    }
   ],
   "source": [
    "publication_data = Prepare_Data.gather_info()"
   ]
  },
  {
   "cell_type": "code",
   "execution_count": 6,
   "metadata": {},
   "outputs": [
    {
     "data": {
      "text/html": [
       "<div>\n",
       "<style scoped>\n",
       "    .dataframe tbody tr th:only-of-type {\n",
       "        vertical-align: middle;\n",
       "    }\n",
       "\n",
       "    .dataframe tbody tr th {\n",
       "        vertical-align: top;\n",
       "    }\n",
       "\n",
       "    .dataframe thead th {\n",
       "        text-align: right;\n",
       "    }\n",
       "</style>\n",
       "<table border=\"1\" class=\"dataframe\">\n",
       "  <thead>\n",
       "    <tr style=\"text-align: right;\">\n",
       "      <th></th>\n",
       "      <th>DOI</th>\n",
       "      <th>File Name</th>\n",
       "      <th>File Format</th>\n",
       "      <th>File Path</th>\n",
       "      <th>Journal</th>\n",
       "      <th>CSD code</th>\n",
       "      <th>Chemical Name</th>\n",
       "      <th>Space group</th>\n",
       "      <th>Metal types</th>\n",
       "      <th>Molecular formula</th>\n",
       "      <th>Synonyms</th>\n",
       "      <th>a</th>\n",
       "      <th>b</th>\n",
       "      <th>c</th>\n",
       "    </tr>\n",
       "  </thead>\n",
       "  <tbody>\n",
       "    <tr>\n",
       "      <th>0</th>\n",
       "      <td>10.1107/S010827018300918X</td>\n",
       "      <td>10.1107_S010827018300918X.md</td>\n",
       "      <td>md</td>\n",
       "      <td>/home/tom-pruyn/Documents/TDM Papers/Processin...</td>\n",
       "      <td>Journal(Acta Crystallographica,Section C: Crys...</td>\n",
       "      <td>CAJCUL</td>\n",
       "      <td>catena(Diaqua-(4-oxoheptanedioato)-zinc(ii))</td>\n",
       "      <td>P2/c</td>\n",
       "      <td>Zn</td>\n",
       "      <td>C14H24O14Zn2</td>\n",
       "      <td>[]</td>\n",
       "      <td>9.3070</td>\n",
       "      <td>5.1940</td>\n",
       "      <td>10.8500</td>\n",
       "    </tr>\n",
       "    <tr>\n",
       "      <th>1</th>\n",
       "      <td>10.1107/S1600536807054591</td>\n",
       "      <td>10.1107_S1600536807054591.md</td>\n",
       "      <td>md</td>\n",
       "      <td>/home/tom-pruyn/Documents/TDM Papers/Processin...</td>\n",
       "      <td>Journal(Acta Crystallographica Section E: Stru...</td>\n",
       "      <td>HIPZEM</td>\n",
       "      <td>catena-(bis(μ2-1,4-bis(3-Pyridylmethoxy)benzen...</td>\n",
       "      <td>P-1</td>\n",
       "      <td>Ag</td>\n",
       "      <td>Ag2C40H34N4O8</td>\n",
       "      <td>[]</td>\n",
       "      <td>8.5730</td>\n",
       "      <td>9.7120</td>\n",
       "      <td>12.0990</td>\n",
       "    </tr>\n",
       "    <tr>\n",
       "      <th>2</th>\n",
       "      <td>10.1107/S010827010200464X</td>\n",
       "      <td>10.1107_S010827010200464X.md</td>\n",
       "      <td>md</td>\n",
       "      <td>/home/tom-pruyn/Documents/TDM Papers/Processin...</td>\n",
       "      <td>Journal(Acta Crystallographica,Section C: Crys...</td>\n",
       "      <td>AFUQUN</td>\n",
       "      <td>catena-((μ4-Nitrilotriacetato)-aqua-erbium(iii))</td>\n",
       "      <td>P21/n</td>\n",
       "      <td>Er</td>\n",
       "      <td>C24Er4H32N4O28</td>\n",
       "      <td>[]</td>\n",
       "      <td>6.7262</td>\n",
       "      <td>6.5427</td>\n",
       "      <td>19.8000</td>\n",
       "    </tr>\n",
       "    <tr>\n",
       "      <th>3</th>\n",
       "      <td>10.1107/S010827010700933X</td>\n",
       "      <td>10.1107_S010827010700933X.md</td>\n",
       "      <td>md</td>\n",
       "      <td>/home/tom-pruyn/Documents/TDM Papers/Processin...</td>\n",
       "      <td>Journal(Acta Crystallographica,Section C: Crys...</td>\n",
       "      <td>LICDIL</td>\n",
       "      <td>catena-((μ2-ethylene-bis(diphenylphosphine oxi...</td>\n",
       "      <td>P-1</td>\n",
       "      <td>Co</td>\n",
       "      <td>C56Co1H46O6P2</td>\n",
       "      <td>[]</td>\n",
       "      <td>9.2994</td>\n",
       "      <td>10.9817</td>\n",
       "      <td>11.6053</td>\n",
       "    </tr>\n",
       "    <tr>\n",
       "      <th>4</th>\n",
       "      <td>10.1107/S160053680902371X</td>\n",
       "      <td>10.1107_S160053680902371X.md</td>\n",
       "      <td>md</td>\n",
       "      <td>/home/tom-pruyn/Documents/TDM Papers/Processin...</td>\n",
       "      <td>Journal(Acta Crystallographica Section E: Stru...</td>\n",
       "      <td>BOVPOS</td>\n",
       "      <td>catena-[bis(μ2-5-Amino-1,3,4-thiadiazole-2-thi...</td>\n",
       "      <td>C2/c</td>\n",
       "      <td>Cd</td>\n",
       "      <td>C8Cd2H8N12S8</td>\n",
       "      <td>[]</td>\n",
       "      <td>12.6419</td>\n",
       "      <td>10.8341</td>\n",
       "      <td>7.7241</td>\n",
       "    </tr>\n",
       "  </tbody>\n",
       "</table>\n",
       "</div>"
      ],
      "text/plain": [
       "                         DOI                     File Name File Format  \\\n",
       "0  10.1107/S010827018300918X  10.1107_S010827018300918X.md          md   \n",
       "1  10.1107/S1600536807054591  10.1107_S1600536807054591.md          md   \n",
       "2  10.1107/S010827010200464X  10.1107_S010827010200464X.md          md   \n",
       "3  10.1107/S010827010700933X  10.1107_S010827010700933X.md          md   \n",
       "4  10.1107/S160053680902371X  10.1107_S160053680902371X.md          md   \n",
       "\n",
       "                                           File Path  \\\n",
       "0  /home/tom-pruyn/Documents/TDM Papers/Processin...   \n",
       "1  /home/tom-pruyn/Documents/TDM Papers/Processin...   \n",
       "2  /home/tom-pruyn/Documents/TDM Papers/Processin...   \n",
       "3  /home/tom-pruyn/Documents/TDM Papers/Processin...   \n",
       "4  /home/tom-pruyn/Documents/TDM Papers/Processin...   \n",
       "\n",
       "                                             Journal CSD code  \\\n",
       "0  Journal(Acta Crystallographica,Section C: Crys...   CAJCUL   \n",
       "1  Journal(Acta Crystallographica Section E: Stru...   HIPZEM   \n",
       "2  Journal(Acta Crystallographica,Section C: Crys...   AFUQUN   \n",
       "3  Journal(Acta Crystallographica,Section C: Crys...   LICDIL   \n",
       "4  Journal(Acta Crystallographica Section E: Stru...   BOVPOS   \n",
       "\n",
       "                                       Chemical Name Space group Metal types  \\\n",
       "0       catena(Diaqua-(4-oxoheptanedioato)-zinc(ii))        P2/c          Zn   \n",
       "1  catena-(bis(μ2-1,4-bis(3-Pyridylmethoxy)benzen...         P-1          Ag   \n",
       "2   catena-((μ4-Nitrilotriacetato)-aqua-erbium(iii))       P21/n          Er   \n",
       "3  catena-((μ2-ethylene-bis(diphenylphosphine oxi...         P-1          Co   \n",
       "4  catena-[bis(μ2-5-Amino-1,3,4-thiadiazole-2-thi...        C2/c          Cd   \n",
       "\n",
       "  Molecular formula Synonyms        a        b        c  \n",
       "0      C14H24O14Zn2       []   9.3070   5.1940  10.8500  \n",
       "1     Ag2C40H34N4O8       []   8.5730   9.7120  12.0990  \n",
       "2    C24Er4H32N4O28       []   6.7262   6.5427  19.8000  \n",
       "3     C56Co1H46O6P2       []   9.2994  10.9817  11.6053  \n",
       "4      C8Cd2H8N12S8       []  12.6419  10.8341   7.7241  "
      ]
     },
     "execution_count": 6,
     "metadata": {},
     "output_type": "execute_result"
    }
   ],
   "source": [
    "publication_data.head()"
   ]
  },
  {
   "cell_type": "markdown",
   "metadata": {},
   "source": [
    "### Running The Prediction Loop"
   ]
  },
  {
   "cell_type": "code",
   "execution_count": 7,
   "metadata": {},
   "outputs": [],
   "source": [
    "# Instantiate Agent\n",
    "agent = MatchingAgent()"
   ]
  },
  {
   "cell_type": "code",
   "execution_count": 8,
   "metadata": {},
   "outputs": [],
   "source": [
    "# Initialize Results Dict\n",
    "results = {\"Reference\": [], \"MOF Name\": [], \"CSD Ref Code\": [], \"Justification\": []}\n",
    "pickle_results = dict()"
   ]
  },
  {
   "cell_type": "code",
   "execution_count": 9,
   "metadata": {},
   "outputs": [],
   "source": [
    "# This function is used to gather info from the publication info dataframe and put it into a dictionary \n",
    "def csd_dict(csd_data): \n",
    "    return {\n",
    "        i[\"CSD code\"]: {\n",
    "            'Space Group': i[\"Space group\"],\n",
    "            'Metal Nodes': i[\"Metal types\"],\n",
    "            'Chemical Name': i[\"Chemical Name\"],\n",
    "            'a': i[\"a\"],\n",
    "            'b': i[\"b\"],\n",
    "            'c': i[\"c\"],\n",
    "            'Molecular Formula': i[\"Molecular formula\"],\n",
    "            'Synonyms': i[\"Synonyms\"]\n",
    "        } \n",
    "        for _, i in csd_data.iterrows()\n",
    "    }"
   ]
  },
  {
   "cell_type": "code",
   "execution_count": 10,
   "metadata": {},
   "outputs": [
    {
     "name": "stdout",
     "output_type": "stream",
     "text": [
      "Processing DOI: 10.1107/S010827018300918X\n",
      "File Path: /home/tom-pruyn/Documents/TDM Papers/Processing Batches-PDF/Batch 1/md/10.1107_S010827018300918X/10.1107_S010827018300918X.md\n",
      "----------------------------\n",
      "{'CAJCUL': {'Space Group': 'P2/c', 'Metal Nodes': 'Zn', 'Chemical Name': 'catena(Diaqua-(4-oxoheptanedioato)-zinc(ii))', 'a': 9.307, 'b': 5.194, 'c': 10.85, 'Molecular Formula': 'C14H24O14Zn2', 'Synonyms': '[]'}}\n",
      "Saved vector store for /home/tom-pruyn/Documents/TDM Papers/Processing Batches-PDF/Batch 1/md/10.1107_S010827018300918X/10.1107_S010827018300918X.md in /home/tom-pruyn/Documents/TDM Papers/Processing Batches-PDF/Batch 1/md/vs/10.1107_S010827018300918X/ with name 10.1107_S010827018300918X\n",
      "--------------10.1107_S010827018300918X.md--------------\n",
      "Action: read_doc\n",
      "input_variables=['context', 'input'] input_types={} partial_variables={} messages=[HumanMessagePromptTemplate(prompt=PromptTemplate(input_variables=['context', 'input'], input_types={}, partial_variables={}, template=\"Answer the user question using the information provided in the documents.Don't make up answer!\\nQuestion:\\n {input}\\n\\n Documents:\\n {context}\"), additional_kwargs={})]\n",
      "'input'\n",
      "hitting the context window limit. Adjusting k to try again... \n",
      "\n",
      "input_variables=['context', 'input'] input_types={} partial_variables={} messages=[HumanMessagePromptTemplate(prompt=PromptTemplate(input_variables=['context', 'input'], input_types={}, partial_variables={}, template=\"Answer the user question using the information provided in the documents.Don't make up answer!\\nQuestion:\\n {input}\\n\\n Documents:\\n {context}\"), additional_kwargs={})]\n",
      "'input'\n",
      "hitting the context window limit. Adjusting k to try again... \n",
      "\n",
      "input_variables=['context', 'input'] input_types={} partial_variables={} messages=[HumanMessagePromptTemplate(prompt=PromptTemplate(input_variables=['context', 'input'], input_types={}, partial_variables={}, template=\"Answer the user question using the information provided in the documents.Don't make up answer!\\nQuestion:\\n {input}\\n\\n Documents:\\n {context}\"), additional_kwargs={})]\n",
      "'input'\n",
      "hitting the context window limit. Adjusting k to try again... \n",
      "\n",
      "input_variables=['context', 'input'] input_types={} partial_variables={} messages=[HumanMessagePromptTemplate(prompt=PromptTemplate(input_variables=['context', 'input'], input_types={}, partial_variables={}, template=\"Answer the user question using the information provided in the documents.Don't make up answer!\\nQuestion:\\n {input}\\n\\n Documents:\\n {context}\"), additional_kwargs={})]\n",
      "'input'\n",
      "hitting the context window limit. Adjusting k to try again... \n",
      "\n",
      "input_variables=['context', 'input'] input_types={} partial_variables={} messages=[HumanMessagePromptTemplate(prompt=PromptTemplate(input_variables=['context', 'input'], input_types={}, partial_variables={}, template=\"Answer the user question using the information provided in the documents.Don't make up answer!\\nQuestion:\\n {input}\\n\\n Documents:\\n {context}\"), additional_kwargs={})]\n",
      "'input'\n",
      "hitting the context window limit. Adjusting k to try again... \n",
      "\n",
      "input_variables=['context', 'input'] input_types={} partial_variables={} messages=[HumanMessagePromptTemplate(prompt=PromptTemplate(input_variables=['context', 'input'], input_types={}, partial_variables={}, template=\"Answer the user question using the information provided in the documents.Don't make up answer!\\nQuestion:\\n {input}\\n\\n Documents:\\n {context}\"), additional_kwargs={})]\n",
      "'input'\n",
      "hitting the context window limit. Adjusting k to try again... \n",
      "\n",
      "input_variables=['context', 'input'] input_types={} partial_variables={} messages=[HumanMessagePromptTemplate(prompt=PromptTemplate(input_variables=['context', 'input'], input_types={}, partial_variables={}, template=\"Answer the user question using the information provided in the documents.Don't make up answer!\\nQuestion:\\n {input}\\n\\n Documents:\\n {context}\"), additional_kwargs={})]\n",
      "'input'\n",
      "hitting the context window limit. Adjusting k to try again... \n",
      "\n",
      "input_variables=['context', 'input'] input_types={} partial_variables={} messages=[HumanMessagePromptTemplate(prompt=PromptTemplate(input_variables=['context', 'input'], input_types={}, partial_variables={}, template=\"Answer the user question using the information provided in the documents.Don't make up answer!\\nQuestion:\\n {input}\\n\\n Documents:\\n {context}\"), additional_kwargs={})]\n",
      "'input'\n",
      "hitting the context window limit. Adjusting k to try again... \n",
      "\n",
      "failed to retriever results after multiple attempts\n"
     ]
    },
    {
     "ename": "TypeError",
     "evalue": "cannot unpack non-iterable NoneType object",
     "output_type": "error",
     "traceback": [
      "\u001b[0;31m---------------------------------------------------------------------------\u001b[0m",
      "\u001b[0;31mTypeError\u001b[0m                                 Traceback (most recent call last)",
      "Cell \u001b[0;32mIn[10], line 18\u001b[0m\n\u001b[1;32m     16\u001b[0m \u001b[38;5;28mprint\u001b[39m(csd)\n\u001b[1;32m     17\u001b[0m \u001b[38;5;66;03m# Get Matching Agent Response\u001b[39;00m\n\u001b[0;32m---> 18\u001b[0m mofs \u001b[38;5;241m=\u001b[39m \u001b[43magent\u001b[49m\u001b[38;5;241;43m.\u001b[39;49m\u001b[43magent_response\u001b[49m\u001b[43m(\u001b[49m\u001b[43mcsd\u001b[49m\u001b[43m,\u001b[49m\u001b[43m \u001b[49m\u001b[43mfile_path\u001b[49m\u001b[43m)\u001b[49m\n\u001b[1;32m     20\u001b[0m \u001b[38;5;66;03m# Collect results\u001b[39;00m\n\u001b[1;32m     21\u001b[0m \u001b[38;5;28;01mfor\u001b[39;00m mof \u001b[38;5;129;01min\u001b[39;00m mofs\u001b[38;5;241m.\u001b[39mmofs:\n",
      "File \u001b[0;32m~/Documents/Project/MOF_ChemUnity/MOF_ChemUnity/src/MOF_ChemUnity/Agents/MatchingAgent.py:59\u001b[0m, in \u001b[0;36mMatchingAgent.agent_response\u001b[0;34m(self, csd_data, paper_file, read_prompt, vector_store, ret_docs, store_vs)\u001b[0m\n\u001b[1;32m     55\u001b[0m \u001b[38;5;28mprint\u001b[39m(\u001b[38;5;124m\"\u001b[39m\u001b[38;5;124mAction: read_doc\u001b[39m\u001b[38;5;124m\"\u001b[39m)\n\u001b[1;32m     58\u001b[0m \u001b[38;5;66;03m# Step 1: Reading the document\u001b[39;00m\n\u001b[0;32m---> 59\u001b[0m (answer1, docs) \u001b[38;5;241m=\u001b[39m \u001b[38;5;28mself\u001b[39m\u001b[38;5;241m.\u001b[39mRAG_Chain_Output(prompt \u001b[38;5;241m=\u001b[39m read_prompt\u001b[38;5;241m.\u001b[39mformat(csd_ref_codes \u001b[38;5;241m=\u001b[39m \u001b[38;5;28mself\u001b[39m\u001b[38;5;241m.\u001b[39mpretty_csd_data(csd_data)), vectorstore\u001b[38;5;241m=\u001b[39mvs)\n\u001b[1;32m     61\u001b[0m \u001b[38;5;28mprint\u001b[39m(\u001b[38;5;124m\"\u001b[39m\u001b[38;5;130;01m\\n\u001b[39;00m\u001b[38;5;124mResult: \u001b[39m\u001b[38;5;124m\"\u001b[39m)\n\u001b[1;32m     62\u001b[0m \u001b[38;5;28mprint\u001b[39m(answer1[\u001b[38;5;124m\"\u001b[39m\u001b[38;5;124mresult\u001b[39m\u001b[38;5;124m\"\u001b[39m])\n",
      "\u001b[0;31mTypeError\u001b[0m: cannot unpack non-iterable NoneType object"
     ]
    }
   ],
   "source": [
    "for DOI in publication_data[\"DOI\"].unique():\n",
    "    # Filter csd_data based on DOI\n",
    "    filtered_csd_data = publication_data[publication_data[\"DOI\"] == DOI]\n",
    "\n",
    "    # Get the associated file path \n",
    "    file_path = filtered_csd_data.iloc[0]['File Path']\n",
    "    \n",
    "    print(f\"Processing DOI: {DOI}\")\n",
    "    print(f\"File Path: {file_path}\")\n",
    "    print(\"-\" * 28)\n",
    "\n",
    "    if not filtered_csd_data.empty:\n",
    "        # Call the csd_dict function with the filtered data\n",
    "        csd = csd_dict(filtered_csd_data)\n",
    "\n",
    "        print(csd)\n",
    "        # Get Matching Agent Response\n",
    "        mofs = agent.agent_response(csd, file_path)\n",
    "\n",
    "        # Collect results\n",
    "        for mof in mofs.mofs:\n",
    "            results[\"MOF Name\"].append(mof.name)\n",
    "            results[\"CSD Ref Code\"].append(mof.refcode)\n",
    "            results[\"Justification\"].append(mof.justification)\n",
    "            results[\"Reference\"].append(os.path.basename(file_path))\n",
    "    else:\n",
    "        print(f\"No data found for DOI {DOI}\")\n",
    "    \n",
    "# Save results to CSV\n",
    "pd.DataFrame(results).to_csv(\"/home/tom-pruyn/Documents/TDM Papers/Processing Batches-PDF/Batch 1/results/matching.csv\", index=False)"
   ]
  }
 ],
 "metadata": {
  "kernelspec": {
   "display_name": "llms",
   "language": "python",
   "name": "python3"
  },
  "language_info": {
   "codemirror_mode": {
    "name": "ipython",
    "version": 3
   },
   "file_extension": ".py",
   "mimetype": "text/x-python",
   "name": "python",
   "nbconvert_exporter": "python",
   "pygments_lexer": "ipython3",
   "version": "3.12.5"
  }
 },
 "nbformat": 4,
 "nbformat_minor": 2
}
