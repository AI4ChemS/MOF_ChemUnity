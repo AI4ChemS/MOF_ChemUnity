{
 "cells": [
  {
   "cell_type": "markdown",
   "metadata": {},
   "source": [
    "# MOF ChemUnity Matching "
   ]
  },
  {
   "cell_type": "markdown",
   "metadata": {},
   "source": [
    "The purpose of this notebook is to use our developed tools to match CSD Ref Codes to MOF Names/Co-References found in their synthesis papers. "
   ]
  },
  {
   "cell_type": "markdown",
   "metadata": {},
   "source": [
    "### Preparation of CSD Data"
   ]
  },
  {
   "cell_type": "markdown",
   "metadata": {},
   "source": [
    "First, the CSD Data must be prepared to be injected into the prompt. For each DOI we wish to process, we must gather the relevant info for each associated CSD code.\n",
    "\n",
    "Over 20 000 DOIs have been selected for text mining. We chose MOFs that:\n",
    "- Are found in CSD \n",
    "- Are also found in either QMOF or CoRE Databases\n",
    "\n",
    "This way, every MOF in our database has relevant computational properties already calculated (found in QMOF or CoRE). The properties can be easily added to our database at the end. "
   ]
  },
  {
   "cell_type": "code",
   "execution_count": 8,
   "metadata": {},
   "outputs": [],
   "source": [
    "# Imports\n",
    "import pandas as pd\n",
    "from src.MOF_ChemUnity.utils.DataPrep import Data_Prep"
   ]
  },
  {
   "cell_type": "code",
   "execution_count": 2,
   "metadata": {},
   "outputs": [],
   "source": [
    "# Define path to all CSD info extracted from CSD Python API\n",
    "csd_info_path = 'data/Benchmark_set_2/Ground Truth/CoRE_QMOF_expanded_w_synonyms.csv'"
   ]
  },
  {
   "cell_type": "code",
   "execution_count": 3,
   "metadata": {},
   "outputs": [],
   "source": [
    "# Define path to folder containing all papers to be text mined from\n",
    "doi_folder_path = '/home/tom-pruyn/Documents/TDM Papers/Processing Batches-PDF/Batch 1/PDF'\n",
    "\n",
    "# Define path to file containing all CSD info extracted from CSD API\n",
    "csd_info_path = 'data/Benchmark_set_2/Ground Truth/CoRE_QMOF_expanded_w_synonyms.csv'"
   ]
  },
  {
   "cell_type": "code",
   "execution_count": 4,
   "metadata": {},
   "outputs": [],
   "source": [
    "# List of columns we want to take from our master CSD file and put into our prompt\n",
    "feature_list = [\n",
    "    \"CSD code\", \n",
    "    \"DOI\",\n",
    "    \"Chemical Name\",\n",
    "    \"Space group\", \n",
    "    \"Metal types\",\n",
    "    \"Molecular formula\",\n",
    "    \"Synonyms\",\n",
    "    \"a\",\n",
    "    \"b\",\n",
    "    \"c\"\n",
    "]"
   ]
  },
  {
   "cell_type": "code",
   "execution_count": 5,
   "metadata": {},
   "outputs": [],
   "source": [
    "# Initialize Data_Prep class\n",
    "Prepare_Data = Data_Prep(doi_folder_path, csd_info_path,feature_list)"
   ]
  },
  {
   "cell_type": "code",
   "execution_count": 6,
   "metadata": {},
   "outputs": [
    {
     "name": "stdout",
     "output_type": "stream",
     "text": [
      "\n",
      "WARNING: 161 DOIs not found in Master CSV:\n",
      "Missing DOIs: {'10.1107/S0108270198006660', '10.1107/S1600536811000419', '10.1107/S0108270108026760', '10.1107/S0108270104026502', '10.1107/S0108270185004498', '10.1107/S1600536806040360', '10.1107/S1600536806042899', '10.1107/S1600536809005212', '10.1107/S1600536809007879', '10.1107/S1600536806010841', '10.1107/S1600536803006871', '10.1107/S0567740871005958', '10.1107/S1600536804010402', '10.1107/S1600536806018733', '10.1107/S1600536811001814', '10.1107/S0108270101004231', '10.1107/S1600536805017150', '10.1107/S1600536810041590', '10.1107/S1600536810010536', '10.1107/S1600536809051381', '10.1107/S0108270103026568', '10.1107/S1600536807035726', '10.1107/S0108270191009484', '10.1107/S0108270191004341', '10.1107/S0108270100007435', '10.1107/S0108270112025577', '10.1107/S1600536810001182', '10.1107/S1600536810045903', '10.1107/S0108270104011011', '10.1107/S0108270188014271', '10.1107/S1600536803021445', '10.1107/S1600536811010099', '10.1107/S1600536811014759', '10.1107/S0108270101001615', '10.1107/S1600536808027657', '10.1107/S0108270197004009', '10.1107/S1600536810043205', '10.1107/S1600536804012565', '10.1107/S1600536804026273', '10.1107/S1600536808025233', '10.1107/S0108270192001288', '10.1107/S160053680402999X', '10.1107/S1600536808030055', '10.1107/S0108270198016709', '10.1107/S1600536809045255', '10.1107/S1600536809043839', '10.1107/S1600536806001097', '10.1107/S0108270193011473', '10.1107/S160053681003984X', '10.1107/S1600536806045740', '10.1107/S1600536810013735', '10.1107/S1600536810003879', '10.1107/S0108270110009510', '10.1107/S1600536805032289', '10.1107/S0567740879010967', '10.1107/S1600536809051721', '10.1107/S1600536810001820', '10.1107/S056774087700778X', '10.1107/S0108270113019045', '10.1107/S0108270191010764', '10.1107/S1600536808011100', '10.1107/S1600536805042819', '10.1107/S1600536806051270', '10.1107/S1600536811015091', '10.1107/S0108270199011750', '10.1107/S1600536805026966', '10.1107/S1600536805003661', '10.1107/S0108270108041504', '10.1107/S0108768109028626', '10.1107/S0108270113003892', '10.1107/S1600536811016989', '10.1107/S1600536804028673', '10.1107/S1600536804011614', '10.1107/S1600536807021654', '10.1107/S0108270111008195', '10.1107/S160053680400251X', '10.1107/S0567740873003523', '10.1107/S0108270100016589', '10.1107/S0108270102001798', '10.1107/S1600536803027818', '10.1107/S1600536810014753', '10.1107/S010827010701459X', '10.1107/S1600536807020831', '10.1107/S1600536810014091', '10.1107/S1600536811022471', '10.1107/S1600536807009282', '10.1107/S0108270100013846', '10.1107/S0108270104022280', '10.1107/S1600536809018649', '10.1107/S1600536805031995', '10.1107/S1600536808024197', '10.1107/S160053680501514X', '10.1107/S1600536809052325', '10.1107/S1600536806017636', '10.1107/S1600536807067979', '10.1107/S1600536809013889', '10.1107/S0567740876002719', '10.1107/S1600536801009965', '10.1107/S1600536806033654', '10.1107/S0108270104026757', '10.1107/S1600536805036998', '10.1107/S0108270105004002', '10.1107/S1600536807014730', '10.1107/S1600536811018290', '10.1107/S0108270113026450', '10.1107/S0108270110009984', '10.1107/S1600536810037384', '10.1107/S1600536804023724', '10.1107/S160053680500053X', '10.1107/S0108270105022511', '10.1107/S1600536809013580', '10.1107/S1600536804010438', '10.1107/S0108270188000988', '10.1107/S1600536811020861', '10.1107/S1600536804025139', '10.1107/S0108270196007123', '10.1107/S1600536805013632', '10.1107/S1600536810039176', '10.1107/S0108270108038146', '10.1107/S1600536806042255', '10.1107/S1600536804027461', '10.1107/S0108270183005429', '10.1107/S1600536810048634', '10.1107/S1600536806053475', '10.1107/S1600536807067839', '10.1107/S0108270104029531', '10.1107/S0108270195009176', '10.1107/S0108270109047015', '10.1107/S010827010706249X', '10.1107/S1600536806027942', '10.1107/S1600536807062435', '10.1107/S1600536801001660', '10.1107/S1600536808001967', '10.1107/S0108270190007624', '10.1107/S010827011302475X', '10.1107/S0108270197013061', '10.1107/S1600536805038754', '10.1107/S0108270196003721', '10.1107/S0567740873001949', '10.1107/S0108270189005238', '10.1107/S1600536807067165', '10.1107/S0108768111030692', '10.1107/S0108270108043783', '10.1107/S0108270104033943', '10.1107/S1600536807039220', '10.1107/S0108270196012772', '10.1107/S0108270189005366', '10.1107/S1600536809036150', '10.1107/S1600536805000516', '10.1107/S1600536806055553', '10.1107/S1600536810004162', '10.1107/S0108270187009120', '10.1107/S0108270199001171', '10.1107/S1600536810040857', '10.1107/S160053680200805X', '10.1107/S1600536810007129', '10.1107/S0108270107027862', '10.1107/S1600536804026996', '10.1107/S1600536806006088', '10.1107/S160053680700709X', '10.1107/S0108270113013000'}\n",
      "\n"
     ]
    }
   ],
   "source": [
    "publication_data = Prepare_Data.gather_info()"
   ]
  },
  {
   "cell_type": "code",
   "execution_count": 10,
   "metadata": {},
   "outputs": [
    {
     "data": {
      "text/html": [
       "<div>\n",
       "<style scoped>\n",
       "    .dataframe tbody tr th:only-of-type {\n",
       "        vertical-align: middle;\n",
       "    }\n",
       "\n",
       "    .dataframe tbody tr th {\n",
       "        vertical-align: top;\n",
       "    }\n",
       "\n",
       "    .dataframe thead th {\n",
       "        text-align: right;\n",
       "    }\n",
       "</style>\n",
       "<table border=\"1\" class=\"dataframe\">\n",
       "  <thead>\n",
       "    <tr style=\"text-align: right;\">\n",
       "      <th></th>\n",
       "      <th>DOI</th>\n",
       "      <th>File Name</th>\n",
       "      <th>File Format</th>\n",
       "      <th>File Path</th>\n",
       "      <th>Journal</th>\n",
       "      <th>CSD code</th>\n",
       "      <th>Chemical Name</th>\n",
       "      <th>Space group</th>\n",
       "      <th>Metal types</th>\n",
       "      <th>Molecular formula</th>\n",
       "      <th>Synonyms</th>\n",
       "      <th>a</th>\n",
       "      <th>b</th>\n",
       "      <th>c</th>\n",
       "    </tr>\n",
       "  </thead>\n",
       "  <tbody>\n",
       "    <tr>\n",
       "      <th>0</th>\n",
       "      <td>10.1107/S0108270187012125</td>\n",
       "      <td>10.1107_S0108270187012125.pdf</td>\n",
       "      <td>pdf</td>\n",
       "      <td>/home/tom-pruyn/Documents/TDM Papers/Processin...</td>\n",
       "      <td>Journal(Acta Crystallographica,Section C: Crys...</td>\n",
       "      <td>GENGEL</td>\n",
       "      <td>catena-((μ5-Dihydrogen glutarato)-(μ3-dihydrog...</td>\n",
       "      <td>P21/a</td>\n",
       "      <td>K</td>\n",
       "      <td>C40H60K4O32</td>\n",
       "      <td>[]</td>\n",
       "      <td>9.3920</td>\n",
       "      <td>12.7820</td>\n",
       "      <td>11.1470</td>\n",
       "    </tr>\n",
       "    <tr>\n",
       "      <th>1</th>\n",
       "      <td>10.1107/S0108270107034646</td>\n",
       "      <td>10.1107_S0108270107034646.pdf</td>\n",
       "      <td>pdf</td>\n",
       "      <td>/home/tom-pruyn/Documents/TDM Papers/Processin...</td>\n",
       "      <td>Journal(Acta Crystallographica,Section C: Crys...</td>\n",
       "      <td>DIKPUJ</td>\n",
       "      <td>catena-(bis(μ2-6-Methylpicolinato-N,O,O)-cadmi...</td>\n",
       "      <td>P21/c</td>\n",
       "      <td>Cd</td>\n",
       "      <td>C56Cd4H48N8O16</td>\n",
       "      <td>[]</td>\n",
       "      <td>6.8284</td>\n",
       "      <td>10.6888</td>\n",
       "      <td>18.5505</td>\n",
       "    </tr>\n",
       "    <tr>\n",
       "      <th>2</th>\n",
       "      <td>10.1107/S1600536809011593</td>\n",
       "      <td>10.1107_S1600536809011593.pdf</td>\n",
       "      <td>pdf</td>\n",
       "      <td>/home/tom-pruyn/Documents/TDM Papers/Processin...</td>\n",
       "      <td>Journal(Acta Crystallographica Section E: Stru...</td>\n",
       "      <td>WOQXIJ03</td>\n",
       "      <td>catena-[diaqua-(μ3-succinato)-cadmium(ii)]</td>\n",
       "      <td>P21/c</td>\n",
       "      <td>Cd</td>\n",
       "      <td>C16Cd4H32O24</td>\n",
       "      <td>[]</td>\n",
       "      <td>7.7130</td>\n",
       "      <td>12.2310</td>\n",
       "      <td>8.0560</td>\n",
       "    </tr>\n",
       "    <tr>\n",
       "      <th>3</th>\n",
       "      <td>10.1107/S0108270105039259</td>\n",
       "      <td>10.1107_S0108270105039259.pdf</td>\n",
       "      <td>pdf</td>\n",
       "      <td>/home/tom-pruyn/Documents/TDM Papers/Processin...</td>\n",
       "      <td>Journal(Acta Crystallographica,Section C: Crys...</td>\n",
       "      <td>MAZVAL</td>\n",
       "      <td>catena-((μ2-Fluoro)-(μ2-squarato-O,O')-diaqua-...</td>\n",
       "      <td>P21/n</td>\n",
       "      <td>V</td>\n",
       "      <td>C8F2H8O12V2</td>\n",
       "      <td>[]</td>\n",
       "      <td>3.7790</td>\n",
       "      <td>11.2070</td>\n",
       "      <td>7.8410</td>\n",
       "    </tr>\n",
       "    <tr>\n",
       "      <th>4</th>\n",
       "      <td>10.1107/S0108270106025625</td>\n",
       "      <td>10.1107_S0108270106025625.pdf</td>\n",
       "      <td>pdf</td>\n",
       "      <td>/home/tom-pruyn/Documents/TDM Papers/Processin...</td>\n",
       "      <td>Journal(Acta Crystallographica,Section C: Crys...</td>\n",
       "      <td>PELTEG</td>\n",
       "      <td>catena-((μ4-(N-(phosphonatomethyl)ammonio)acet...</td>\n",
       "      <td>Cc</td>\n",
       "      <td>Cd</td>\n",
       "      <td>C6Cd2H20N2O14P2</td>\n",
       "      <td>['catena-((μ4-N-(phosphonatomethyl)glycinato)-...</td>\n",
       "      <td>9.8270</td>\n",
       "      <td>4.9326</td>\n",
       "      <td>16.7950</td>\n",
       "    </tr>\n",
       "  </tbody>\n",
       "</table>\n",
       "</div>"
      ],
      "text/plain": [
       "                         DOI                      File Name File Format  \\\n",
       "0  10.1107/S0108270187012125  10.1107_S0108270187012125.pdf         pdf   \n",
       "1  10.1107/S0108270107034646  10.1107_S0108270107034646.pdf         pdf   \n",
       "2  10.1107/S1600536809011593  10.1107_S1600536809011593.pdf         pdf   \n",
       "3  10.1107/S0108270105039259  10.1107_S0108270105039259.pdf         pdf   \n",
       "4  10.1107/S0108270106025625  10.1107_S0108270106025625.pdf         pdf   \n",
       "\n",
       "                                           File Path  \\\n",
       "0  /home/tom-pruyn/Documents/TDM Papers/Processin...   \n",
       "1  /home/tom-pruyn/Documents/TDM Papers/Processin...   \n",
       "2  /home/tom-pruyn/Documents/TDM Papers/Processin...   \n",
       "3  /home/tom-pruyn/Documents/TDM Papers/Processin...   \n",
       "4  /home/tom-pruyn/Documents/TDM Papers/Processin...   \n",
       "\n",
       "                                             Journal  CSD code  \\\n",
       "0  Journal(Acta Crystallographica,Section C: Crys...    GENGEL   \n",
       "1  Journal(Acta Crystallographica,Section C: Crys...    DIKPUJ   \n",
       "2  Journal(Acta Crystallographica Section E: Stru...  WOQXIJ03   \n",
       "3  Journal(Acta Crystallographica,Section C: Crys...    MAZVAL   \n",
       "4  Journal(Acta Crystallographica,Section C: Crys...    PELTEG   \n",
       "\n",
       "                                       Chemical Name Space group Metal types  \\\n",
       "0  catena-((μ5-Dihydrogen glutarato)-(μ3-dihydrog...       P21/a           K   \n",
       "1  catena-(bis(μ2-6-Methylpicolinato-N,O,O)-cadmi...       P21/c          Cd   \n",
       "2         catena-[diaqua-(μ3-succinato)-cadmium(ii)]       P21/c          Cd   \n",
       "3  catena-((μ2-Fluoro)-(μ2-squarato-O,O')-diaqua-...       P21/n           V   \n",
       "4  catena-((μ4-(N-(phosphonatomethyl)ammonio)acet...          Cc          Cd   \n",
       "\n",
       "  Molecular formula                                           Synonyms  \\\n",
       "0       C40H60K4O32                                                 []   \n",
       "1    C56Cd4H48N8O16                                                 []   \n",
       "2      C16Cd4H32O24                                                 []   \n",
       "3       C8F2H8O12V2                                                 []   \n",
       "4   C6Cd2H20N2O14P2  ['catena-((μ4-N-(phosphonatomethyl)glycinato)-...   \n",
       "\n",
       "        a        b        c  \n",
       "0  9.3920  12.7820  11.1470  \n",
       "1  6.8284  10.6888  18.5505  \n",
       "2  7.7130  12.2310   8.0560  \n",
       "3  3.7790  11.2070   7.8410  \n",
       "4  9.8270   4.9326  16.7950  "
      ]
     },
     "execution_count": 10,
     "metadata": {},
     "output_type": "execute_result"
    }
   ],
   "source": [
    "publication_data.head()"
   ]
  }
 ],
 "metadata": {
  "kernelspec": {
   "display_name": "llms",
   "language": "python",
   "name": "python3"
  },
  "language_info": {
   "codemirror_mode": {
    "name": "ipython",
    "version": 3
   },
   "file_extension": ".py",
   "mimetype": "text/x-python",
   "name": "python",
   "nbconvert_exporter": "python",
   "pygments_lexer": "ipython3",
   "version": "3.12.5"
  }
 },
 "nbformat": 4,
 "nbformat_minor": 2
}
